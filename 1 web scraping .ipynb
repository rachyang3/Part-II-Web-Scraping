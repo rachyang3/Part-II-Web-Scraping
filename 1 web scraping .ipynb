{
 "cells": [
  {
   "cell_type": "markdown",
   "metadata": {},
   "source": [
    "# python 爬虫基础"
   ]
  },
  {
   "cell_type": "markdown",
   "metadata": {},
   "source": [
    "# 1.Urllib库\n",
    "urllib模块提供的上层接口，使我们可以像读取本地文件一样读取www和ftp上的数据。"
   ]
  },
  {
   "cell_type": "markdown",
   "metadata": {},
   "source": [
    "### urlencode\n",
    "* urllib可以接受一个Request类的实例来设置URL请求的headers，用以伪装你的User Agent字符串等（伪装浏览器）。  \n",
    "* urllib提供urlencode方法用来GET查询字符串的产生\n",
    "* 但是urllib.urlretrieve函数（直接将远程数据下载到本地）以及urllib.quote等一系列quote和unquote功能没有被加入urllib2中，因此有时也需要urllib的辅助。"
   ]
  },
  {
   "cell_type": "markdown",
   "metadata": {},
   "source": [
    "#### urllib.parse.urlencode(query, doseq=0)\n",
    "#### 接受参数形式为：[(key1, value1), (key2, value2),...] 和 {'key1': 'value1', 'key2': 'value2',...}\n",
    "#### 返回的是形如'key2=value2&key1=value1'字符串。"
   ]
  },
  {
   "cell_type": "code",
   "execution_count": 1,
   "metadata": {},
   "outputs": [
    {
     "data": {
      "text/plain": [
       "'user=%E5%B0%8F%E5%AE%8B&password=123456'"
      ]
     },
     "execution_count": 1,
     "metadata": {},
     "output_type": "execute_result"
    }
   ],
   "source": [
    "import urllib\n",
    "data = {'user':'小宋','password':'123456'}\n",
    "urllib.parse.urlencode(data)                           ## 转化成url编码"
   ]
  },
  {
   "cell_type": "code",
   "execution_count": 2,
   "metadata": {},
   "outputs": [
    {
     "name": "stdout",
     "output_type": "stream",
     "text": [
      "age=34&grils=%28%27lili%27%2C+%27tingting%27%29&name=han+p%24\n",
      "age=34&grils=lili&grils=tingting&name=han+p%24\n",
      "age=34&grils=lili&grils=tingting&name=han+p$\n"
     ]
    }
   ],
   "source": [
    "from urllib import parse\n",
    "#定义要转化的字典数据\n",
    "qdict = {'age':34,'grils':('lili','tingting'),'name':'han p$'}\n",
    "print(parse.urlencode(qdict))\n",
    "\n",
    "#怎么让两个女朋友分开呢\n",
    "print(parse.urlencode(qdict,True))\n",
    "\n",
    "#怎么让name里边的$不要编码呢\n",
    "print(parse.urlencode(qdict,True,'$'))"
   ]
  },
  {
   "cell_type": "markdown",
   "metadata": {},
   "source": [
    "###### urllib.parse.quote(s, safe='/') \n",
    "接受参数s为字符串，safe是指定某字符不被urlencode，默认为'/'，如指定'+'、'/'不需转换，传 '+/' 和 '+ /' 均可。另外此方法会将“空格”转换为“%20”"
   ]
  },
  {
   "cell_type": "code",
   "execution_count": 3,
   "metadata": {},
   "outputs": [
    {
     "data": {
      "text/plain": [
       "'str'"
      ]
     },
     "execution_count": 3,
     "metadata": {},
     "output_type": "execute_result"
    }
   ],
   "source": [
    "urllib.parse.quote('str', safe='/') "
   ]
  },
  {
   "cell_type": "code",
   "execution_count": 4,
   "metadata": {},
   "outputs": [
    {
     "data": {
      "text/plain": [
       "'https%3A//www.v2ex.com/?tab%3Dall'"
      ]
     },
     "execution_count": 4,
     "metadata": {},
     "output_type": "execute_result"
    }
   ],
   "source": [
    "urllib.parse.quote('https://www.v2ex.com/?tab=all',safe='/,?')"
   ]
  },
  {
   "cell_type": "code",
   "execution_count": 6,
   "metadata": {},
   "outputs": [
    {
     "data": {
      "text/plain": [
       "'%E5%B0%8F%E5%AE%8B%20/%2B'"
      ]
     },
     "execution_count": 6,
     "metadata": {},
     "output_type": "execute_result"
    }
   ],
   "source": [
    "urllib.parse.quote(u'小宋 /+'.encode('utf8'))"
   ]
  },
  {
   "cell_type": "markdown",
   "metadata": {},
   "source": [
    "###### urllib.urlretrieve(url[, filename[, reporthook[, data]]])\n",
    "\n",
    "url：外部或者本地url\n",
    "\n",
    "filename：指定了保存到本地的路径（如果未指定该参数，urllib会生成一个临时文件来保存数据）；\n",
    "\n",
    "reporthook：是一个回调函数，当连接上服务器、以及相应的数据块传输完毕的时候会触发该回调。我们可以利用这个回调函数来显示当前的下载进度。\n",
    "\n",
    "data：指post到服务器的数据。该方法返回一个包含两个元素的元组(filename, headers)，filename表示保存到本地的路径，header表示服务器的响应头。"
   ]
  },
  {
   "cell_type": "markdown",
   "metadata": {},
   "source": [
    "## 1.1 扒网页\n",
    "根据URL来获取它的网页信息"
   ]
  },
  {
   "cell_type": "code",
   "execution_count": 3,
   "metadata": {},
   "outputs": [
    {
     "name": "stdout",
     "output_type": "stream",
     "text": [
      "<html>\r\n",
      "<head>\r\n",
      "\t<script>\r\n",
      "\t\tlocation.replace(location.href.replace(\"https://\",\"http://\"));\r\n",
      "\t</script>\r\n",
      "</head>\r\n",
      "<body>\r\n",
      "\t<noscript><meta http-equiv=\"refresh\" content=\"0;url=http://www.baidu.com/\"></noscript>\r\n",
      "</body>\r\n",
      "</html>\n"
     ]
    }
   ],
   "source": [
    "from urllib.request import urlopen\n",
    "\n",
    "response = urlopen(\"https://www.baidu.com/\")\n",
    "content = response.read().decode('utf-8')\n",
    "print(content)"
   ]
  },
  {
   "cell_type": "markdown",
   "metadata": {},
   "source": [
    "## 1.2 分析扒网页的方法¶"
   ]
  },
  {
   "cell_type": "markdown",
   "metadata": {},
   "source": [
    "###### urlopen(url, data, timeout)     \n",
    "调用urllib库里面的urlopen方法，传入一个URL，urlopen一般接受三个参数："
   ]
  },
  {
   "cell_type": "markdown",
   "metadata": {},
   "source": [
    "第一个参数url即为URL，第二个参数data是访问URL时要传送的数据，第三个timeout是设置超时时间。\n",
    "\n",
    "第二三个参数是可以不传送的，data默认为空None，timeout默认为 socket._GLOBAL_DEFAULT_TIMEOUT\n",
    "\n",
    "第一个参数URL是必须要传送的，在这个例子里面我们传送了百度的URL，执行urlopen方法之后，返回一个response对象，返回信息便保存在这里面。"
   ]
  },
  {
   "cell_type": "code",
   "execution_count": 6,
   "metadata": {},
   "outputs": [
    {
     "name": "stdout",
     "output_type": "stream",
     "text": [
      "b''\n"
     ]
    }
   ],
   "source": [
    "print(response.read())       ## response对象有一个read方法，可以返回获取到的网页内容"
   ]
  },
  {
   "cell_type": "code",
   "execution_count": 7,
   "metadata": {},
   "outputs": [
    {
     "name": "stdout",
     "output_type": "stream",
     "text": [
      "<http.client.HTTPResponse object at 0x0000020C2B646780>\n"
     ]
    }
   ],
   "source": [
    "print(response)              ## 不加read，返回response对象的描述"
   ]
  },
  {
   "cell_type": "markdown",
   "metadata": {},
   "source": [
    "## 1.3 POST和GET数据传送¶"
   ]
  },
  {
   "cell_type": "markdown",
   "metadata": {},
   "source": [
    "上面的程序演示了最基本的网页抓取，不过，现在大多数网站都是动态网页，需要你动态地传递参数给它，它做出对应的响应。所以，在访问时，我们需要传递数据给它。最常见的情况就是登录注册。\n",
    "\n",
    "把数据用户名和密码传送到一个URL，然后你得到服务器处理之后的响应。\n",
    "\n",
    "数据传送分为POST和GET两种方式：\n",
    "\n",
    "最重要的区别是GET方式是直接以链接形式访问，链接中包含了所有的参数，当然如果包含了密码的话是一种不安全的选择，不过你可以直观地看到自己提交了什么内容。POST则不会在网址上显示所有的参数，不过如果你想直接查看提交了什么就不太方便了。"
   ]
  },
  {
   "cell_type": "markdown",
   "metadata": {},
   "source": [
    "###### POST方式：\n",
    "data参数就是用在这里的，我们传送的数据就是这个参数data"
   ]
  },
  {
   "cell_type": "code",
   "execution_count": 8,
   "metadata": {},
   "outputs": [
    {
     "name": "stdout",
     "output_type": "stream",
     "text": [
      "b'<!DOCTYPE html><html><head><meta http-equiv=X-UA-Compatible content=\"IE=Edge,chrome=1\"><meta http-equiv=cache-control content=\"max-age=0\"><meta http-equiv=cache-control content=no-cache><meta http-equiv=expires content=0><meta http-equiv=expires content=\"Tue, 01 Jan 1980 1:00:00 GMT\"><meta name=renderer content=webkit><meta name=force-rendering content=webkit><meta charset=utf-8><meta name=description content=CSDN\\xe7\\x99\\xbb\\xe5\\xbd\\x95\\xe6\\xb3\\xa8\\xe5\\x86\\x8c><link type=image/x-icon href=https://csdnimg.cn/public/favicon.ico rel=\"SHORTCUT ICON\"><title>CSDN-\\xe4\\xb8\\x93\\xe4\\xb8\\x9aIT\\xe6\\x8a\\x80\\xe6\\x9c\\xaf\\xe7\\xa4\\xbe\\xe5\\x8c\\xba</title><!--[if lt IE 9]>\\n       <script>window.location.href=\"https://g.csdnimg.cn/browser_upgrade/1.0.2/index.html\";</script>\\n    <![endif]--><style>#app {\\n        min-height: 500px\\n      }</style><link href=https://csdnimg.cn/release/passport_fe/assets/css/login.7479892537208c9ed29123aa51b5bee7.css rel=stylesheet></head><body><div id=app></div><script type=text/javascript src=https://csdnimg.cn/release/passport_fe/assets/js/manifest.0c491507f6423ad467ef.js></script><script type=text/javascript src=https://csdnimg.cn/release/passport_fe/assets/js/vendor.d2a29ace13763c957d6a.js></script><script type=text/javascript src=https://csdnimg.cn/release/passport_fe/assets/js/login.e4d84e6549f3fe62dcd5.js></script></body></html>'\n"
     ]
    }
   ],
   "source": [
    "import urllib\n",
    "\n",
    "values = {\"username\":\"1016903103@qq.com\",\"password\":\"XXXX\"}\n",
    "data = urllib.parse.urlencode(values).encode('utf-8')      ## 将字符串以URL编码，用于编码处理\n",
    "url = \"https://passport.csdn.net/account/login?from=http://my.csdn.net/my/mycsdn\"\n",
    "request = urllib.request.Request(url,data)     #需要加入headers（请求头）等信息时，需要用到更强大的Request\n",
    "response = urllib.request.urlopen(request)\n",
    "print(response.read())"
   ]
  },
  {
   "cell_type": "markdown",
   "metadata": {},
   "source": [
    "引入urllib库，模拟登陆CSDN，上述代码可能登陆不进去，因为还要做一些设置头部header的工作，或者还有一些参数没有设置全，还没有提及到在此就不写上去了，在此只是说明登录的原理。我们需要定义一个字典，名字为values，参数设置了username和password，利用urllib的urlencode方法将字典编码，命名为data，构建request时传入两个参数，url和data，运行程序，即可实现登陆，返回的便是登陆后呈现的页面内容。"
   ]
  },
  {
   "cell_type": "markdown",
   "metadata": {},
   "source": [
    "###### GET方式：\n",
    "GET方式我们可以直接把参数写到网址上面，直接构建一个带参数的URL出来即可"
   ]
  },
  {
   "cell_type": "code",
   "execution_count": 10,
   "metadata": {},
   "outputs": [
    {
     "name": "stdout",
     "output_type": "stream",
     "text": [
      "http://passport.csdn.net/account/login?username=1016903103%40qq.com&password=XXXX\n"
     ]
    }
   ],
   "source": [
    "import urllib\n",
    "\n",
    "values={}\n",
    "values['username'] = \"1016903103@qq.com\"\n",
    "values['password']=\"XXXX\"\n",
    "data = urllib.parse.urlencode(values) \n",
    "url = \"http://passport.csdn.net/account/login\"\n",
    "geturl = url + \"?\"+data\n",
    "request = urllib.request.Request(geturl)\n",
    "response = urllib.request.urlopen(request)\n",
    "print(geturl)\n",
    "#print(response.read())"
   ]
  },
  {
   "cell_type": "markdown",
   "metadata": {},
   "source": [
    "## 1.4 Urllib库的高级用法"
   ]
  },
  {
   "cell_type": "markdown",
   "metadata": {},
   "source": [
    "#### 1. 设置Headers¶"
   ]
  },
  {
   "cell_type": "markdown",
   "metadata": {},
   "source": [
    "有些网站不会同意程序直接用上面的方式进行访问，如果识别有问题，那么站点根本不会响应，所以为了完全模拟浏览器的工作，我们需要设置一些 Headers 的属性。\n",
    "\n",
    "按F12->network,点击第一个请求，查看headers，可看到General、Response Headers 、Request Headers三个分类，有:\n",
    "\n",
    ">* Request URL:http://blog.csdn.net/mynameishuangshuai\n",
    ">* Request Method:GET\n",
    ">* User-Agent:Mozilla/5.0 (Windows NT 10.0; WOW64) AppleWebKit/537.36 (KHTML, like Gecko) Chrome/51.0.2704.106 Safari/537.36"
   ]
  },
  {
   "cell_type": "code",
   "execution_count": 10,
   "metadata": {},
   "outputs": [],
   "source": [
    "import urllib\n",
    "\n",
    "url= \"http://blog.csdn.net/mynameishuangshuai\"\n",
    "request=urllib.request.Request(url)\n",
    "response=urllib.request.urlopen(request)\n",
    "#print(response.read().decode('utf-8'))"
   ]
  },
  {
   "cell_type": "code",
   "execution_count": 12,
   "metadata": {},
   "outputs": [
    {
     "name": "stdout",
     "output_type": "stream",
     "text": [
      "<!DOCTYPE html>\n",
      "<html lang=\"zh-CN\">\n",
      "<head>\n",
      "    <meta charset=\"UTF-8\">\n",
      "    <link rel=\"canonical\" href=\"https://blog.csdn.net/mynameishuangshuai\"/>\n",
      "    <meta http-equiv=\"content-type\" content=\"text/html; charset=utf-8\">\n",
      "    <meta name=\"renderer\" content=\"webkit\"/>\n",
      "    <meta name=\"force-rendering\" content=\"webkit\"/>\n",
      "    <meta http-equiv=\"X-UA-Compatible\" content=\"IE=edge,chrome=1\"/>\n",
      "    <meta name=\"viewport\" content=\"width=device-width, initial-scale=1.0, minimum-scale=1.0, maximum-scale=1.0, user-scalable=no\">\n",
      "    <meta name=\"apple-mobile-web-app-status-bar-style\" content=\"black\">\n",
      "    <meta name=\"referrer\" content=\"always\">\n",
      "    <meta http-equiv=\"Cache-Control\" content=\"no-siteapp\" /><link rel=\"alternate\" media=\"handheld\" href=\"#\" />\n",
      "    <meta name=\"shenma-site-verification\" content=\"5a59773ab8077d4a62bf469ab966a63b_1497598848\">\n",
      "    <script src=\"https://csdnimg.cn/release/phoenix/vendor/tingyun/tingyun-rum-blog.js\"></script>\n",
      "\n",
      "    <link href=\"https://csdnimg.cn/public/favicon.ico\" rel=\"SHORTCUT ICON\">\n",
      "    <title>【Android研发专栏】专注安卓安全与架构设计！ - CSDN博客</title>\n",
      "\n",
      "            <link rel=\"stylesheet\" href=\"https://csdnimg.cn/release/phoenix/template/css/list-c2c7ef14b1.min.css\">\n",
      "        <link rel=\"stylesheet\" href=\"https://csdnimg.cn/release/phoenix/themes/skin3-template/skin3-template-9b39979775.min.css\">\n",
      "\n",
      "    <script type=\"text/javascript\">\n",
      "        var username = \"mynameishuangshuai\";\n",
      "        var blog_address = \"https://blog.csdn.net/mynameishuangshuai\";\n",
      "        var static_host = \"https://csdnimg.cn/release/phoenix/\";\n",
      "        var currentUserName = \"\";\n",
      "        var isShowAds = true;\n",
      "        var isOwner = false;\n",
      "        var loginUrl = \"http://passport.csdn.net/account/login?from=https://blog.csdn.net/mynameishuangshuai\"\n",
      "        var blogUrl = \"https://blog.csdn.net/\";\n",
      "        //页面皮肤样式\n",
      "        var curSkin = \"skin3-template\";\n",
      "        // 第四范式所需数据\n",
      "        var articleTitles = \"【Android研发专栏】专注安卓安全与架构设计！\";\n",
      "        var articleID = \"\";\n",
      "\n",
      "        var nickName = \"猴子搬来的救兵Castiel\";\n",
      "    </script>\n",
      "    <script type=\"text/javascript\">\n",
      "        // Traffic Stats of the entire Web site By baidu\n",
      "        var _hmt = _hmt || [];\n",
      "        (function() {\n",
      "            var hm = document.createElement(\"script\");\n",
      "            hm.src = \"https://hm.baidu.com/hm.js?6bcd52f51e9b3dce32bec4a3997715ac\";\n",
      "            var s = document.getElementsByTagName(\"script\")[0];\n",
      "            s.parentNode.insertBefore(hm, s);\n",
      "        })();\n",
      "        // Traffic Stats of the entire Web site By baidu end\n",
      "    </script>\n",
      "    <script src=\"https://csdnimg.cn/public/common/libs/jquery/jquery-1.9.1.min.js\" type=\"text/javascript\"></script>\n",
      "    <script src=\"https://csdnimg.cn/rabbit/exposure-click/main-1.0.6.js\"></script>\n",
      "    <!-- 新版上报 -->\n",
      "    <script src=\"//g.csdnimg.cn/track/1.1.1/track.js\" type=\"text/javascript\"></script>\n",
      "    <!-- 新版上报end -->\n",
      "        <link rel=\"stylesheet\" href=\"https://csdnimg.cn/public/sandalstrap/1.4/css/sandalstrap.min.css\">\n",
      "    <style>\n",
      "        .MathJax, .MathJax_Message, .MathJax_Preview{\n",
      "            display: none\n",
      "        }\n",
      "    </style>\n",
      "</head>\n",
      "<!-- nodata 第三栏接口无数据时样式不变 -->\n",
      "<body class=\"nodata\"> \n",
      "    <link rel=\"stylesheet\" href=\"https://csdnimg.cn/public/common/toolbar/content_toolbar_css/content_toolbar.css\">\n",
      "    <script id=\"toolbar-tpl-scriptId\" src=\"https://csdnimg.cn/public/common/toolbar/js/content_toolbar.js\" type=\"text/javascript\" domain=\"https://blog.csdn.net/\"></script>\n",
      "<link rel=\"stylesheet\" href=\"https://csdnimg.cn/release/phoenix/vendor/pagination/paging.css\">\n",
      "<header>\n",
      "\t<div class=\"container d-flex clearfix\">\n",
      "\t\t<div class=\"title-box\">\n",
      "\t\t\t<h1 class=\"title-blog\">\n",
      "\t\t\t\t<a href=\"https://blog.csdn.net/mynameishuangshuai\">Android研发专栏</a>\n",
      "\t\t\t</h1>\n",
      "\t\t\t<p class=\"description\">专注安卓安全与架构设计！</p>\n",
      "\t\t</div>\n",
      "\t\t<div class=\"opt-box d-flex justify-content-end\">\n",
      "\t\t\t<a class=\"btn btn-sm\" href=\"https://blog.csdn.net/mynameishuangshuai/rss/list\">\n",
      "\t\t\t\t\t<svg class=\"icon\" aria-hidden=\"true\">\n",
      "\t\t\t\t\t\t<use xlink:href=\"#csdnc-rss\"></use>\n",
      "\t\t\t\t\t</svg>RSS订阅</a>\n",
      "\t\t\t\t\t</div>\n",
      "\t</div>\n",
      "</header><script src=\"https://dup.baidustatic.com/js/ds.js\"></script>\n",
      "<div class=\"container clearfix pt0\" id=\"mainBox\">\n",
      "    <main>\n",
      "      <div class=\"filter-box d-flex align-items-center\">\n",
      "      <form action=\"/mynameishuangshuai\" id=seeOriginal>\n",
      "    <label class=\"chk-box\" for=\"chkOriginal\">\n",
      "      <input onchange=\"this.checked ? document.getElementById('seeOriginal').submit() : location.href = 'https://blog.csdn.net/mynameishuangshuai'\" type=\"checkbox\" name=\"t\" value=\"1\"  id=\"chkOriginal\">只看原创</label></form>\n",
      "    <dl class=\"filter-sort-box d-flex align-items-center\">\n",
      "    <dt>排序：</dt>\n",
      "    <dd><a href=\"javascript:void(0);\" class=\"btn-filter-sort active\" target=\"_self\">默认</a></dd>\n",
      "    <dd><a href=\"https://blog.csdn.net/mynameishuangshuai?orderby=UpdateTime\" class=\"btn-filter-sort \" target=\"_self\">按更新时间</a></dd>\n",
      "    <dd><a href=\"https://blog.csdn.net/mynameishuangshuai?orderby=ViewCount\" class=\"btn-filter-sort \" target=\"_self\">按访问量</a></dd>\n",
      "  </dl>\n",
      "</div>\n",
      "\n",
      "\n",
      "\n",
      "<div class=\"article-list\">\n",
      "    \n",
      "    <div class=\"article-item-box csdn-tracking-statistics\" style=\"display: none;\" data-articleid=\"82762601\">\n",
      "        <h4 class=\"\">\n",
      "            <a href=\"https://blog.csdn.net/yoyo_liyy/article/details/82762601\" target=\"_blank\">\n",
      "            <span class=\"article-type type-1\">原</span>帝都的凛冬</a>\n",
      "        </h4>\n",
      "        <p class=\"content\">\n",
      "            <a href=\"https://blog.csdn.net/yoyo_liyy/article/details/82762601\" target=\"_blank\">\n",
      "                各种AI、人工智能、大数据如秋日凉爽的风，杳然erzhi；区块链的风头得到短暂的下降。\n",
      "\n",
      "                此次山竹台风造成了多少伤亡和破坏？人民的生命和财产遭受重大损失\n",
      "            </a>\n",
      "        </p>\n",
      "        <div class=\"info-box d-flex align-content-center\">\n",
      "            <p>\n",
      "                <span class=\"date\">2018-11-01 20:12:23</span>\n",
      "            </p>\n",
      "            <p>\n",
      "                <span class=\"read-num\">阅读数：13</span>\n",
      "            </p>\n",
      "            <p>\n",
      "                <span class=\"read-num\">评论数：2</span>\n",
      "            </p>\n",
      "        </div>\n",
      "    </div>\n",
      "  <div class=\"article-item-box csdn-tracking-statistics\" data-articleid=\"51657324\">\n",
      "    \t\t<svg class=\"icon settop\" aria-hidden=\"true\">\n",
      "      <use xlink:href=\"#csdnc-settop\"></use>\n",
      "    </svg>\n",
      "\t    <h4 class=\"\">\n",
      "        <a href=\"https://blog.csdn.net/mynameishuangshuai/article/details/51657324\" target=\"_blank\">\n",
      "        <span class=\"article-type type-1\">\n",
      "            原        </span>\n",
      "        常用Git命令大全思维导图      </a>\n",
      "    </h4>\n",
      "    <p class=\"content\">\n",
      "      <a href=\"https://blog.csdn.net/mynameishuangshuai/article/details/51657324\" target=\"_blank\">\n",
      "        开发中代码管理少不了使用Git，对于初学者来说Git命令的学习是一个难过的坎，为了帮助大家记忆并快速掌握Git的基本使用，我把常用的Git命令整理成思维导图，分享给大家。      </a>\n",
      "    </p>\n",
      "    <div class=\"info-box d-flex align-content-center\">\n",
      "      <p>\n",
      "        <span class=\"date\">2016-06-13 14:10:12</span>\n",
      "      </p>\n",
      "      <p>\n",
      "        <span class=\"read-num\">阅读数：15146</span>\n",
      "      </p>\n",
      "      <p>\n",
      "        <span class=\"read-num\">评论数：15</span>\n",
      "      </p>\n",
      "    </div>\n",
      "      </div>\n",
      "  <div class=\"article-item-box csdn-tracking-statistics\" data-articleid=\"51364944\">\n",
      "    \t\t<svg class=\"icon settop\" aria-hidden=\"true\">\n",
      "      <use xlink:href=\"#csdnc-settop\"></use>\n",
      "    </svg>\n",
      "\t    <h4 class=\"\">\n",
      "        <a href=\"https://blog.csdn.net/mynameishuangshuai/article/details/51364944\" target=\"_blank\">\n",
      "        <span class=\"article-type type-1\">\n",
      "            原        </span>\n",
      "        标准的Java编码规范手册      </a>\n",
      "    </h4>\n",
      "    <p class=\"content\">\n",
      "      <a href=\"https://blog.csdn.net/mynameishuangshuai/article/details/51364944\" target=\"_blank\">\n",
      "        编码规范体现出一个开发者的基本素质，良好的编码规范可以提高团队编码的效率，避免很多不必要的问题。今天分享一个标准的Java编码规范给大家，希望对于大家今后的开发工作带来帮助。编码规范的意义 \n",
      "       在项目开发维护中，编码规范作为开发规范的一个组成部分，是十分重要和必须的，它不仅仅是为了提高...      </a>\n",
      "    </p>\n",
      "    <div class=\"info-box d-flex align-content-center\">\n",
      "      <p>\n",
      "        <span class=\"date\">2016-05-10 17:21:53</span>\n",
      "      </p>\n",
      "      <p>\n",
      "        <span class=\"read-num\">阅读数：16133</span>\n",
      "      </p>\n",
      "      <p>\n",
      "        <span class=\"read-num\">评论数：8</span>\n",
      "      </p>\n",
      "    </div>\n",
      "      </div>\n",
      "  <div class=\"article-item-box csdn-tracking-statistics\" data-articleid=\"55005370\">\n",
      "        <h4 class=\"\">\n",
      "        <a href=\"https://blog.csdn.net/mynameishuangshuai/article/details/55005370\" target=\"_blank\">\n",
      "        <span class=\"article-type type-1\">\n",
      "            原        </span>\n",
      "        移动开发必知必会的六大数据统计平台（入门篇）      </a>\n",
      "    </h4>\n",
      "    <p class=\"content\">\n",
      "      <a href=\"https://blog.csdn.net/mynameishuangshuai/article/details/55005370\" target=\"_blank\">\n",
      "        数据统计对于各位移动开发的童鞋并不陌生，小到Bug统计，大到数据分析，一款性能稳定、用户体验良好的APP一定离不开数据统计的支持，为此我将给大家科普一下常用的六大数据统计平台。      </a>\n",
      "    </p>\n",
      "    <div class=\"info-box d-flex align-content-center\">\n",
      "      <p>\n",
      "        <span class=\"date\">2017-05-19 17:07:56</span>\n",
      "      </p>\n",
      "      <p>\n",
      "        <span class=\"read-num\">阅读数：6472</span>\n",
      "      </p>\n",
      "      <p>\n",
      "        <span class=\"read-num\">评论数：0</span>\n",
      "      </p>\n",
      "    </div>\n",
      "      </div>\n",
      "  <div class=\"article-item-box csdn-tracking-statistics\" data-articleid=\"53214763\">\n",
      "        <h4 class=\"\">\n",
      "        <a href=\"https://blog.csdn.net/mynameishuangshuai/article/details/53214763\" target=\"_blank\">\n",
      "        <span class=\"article-type type-1\">\n",
      "            原        </span>\n",
      "        Android开启手电筒功能（完美适配Android4x,5x,6x）      </a>\n",
      "    </h4>\n",
      "    <p class=\"content\">\n",
      "      <a href=\"https://blog.csdn.net/mynameishuangshuai/article/details/53214763\" target=\"_blank\">\n",
      "        最近在研究开启安卓手电筒功能，总结了下Android4x、5x、6x的手电筒开启方法，写成公共方法，分享给大家。      </a>\n",
      "    </p>\n",
      "    <div class=\"info-box d-flex align-content-center\">\n",
      "      <p>\n",
      "        <span class=\"date\">2016-11-18 12:01:53</span>\n",
      "      </p>\n",
      "      <p>\n",
      "        <span class=\"read-num\">阅读数：13141</span>\n",
      "      </p>\n",
      "      <p>\n",
      "        <span class=\"read-num\">评论数：3</span>\n",
      "      </p>\n",
      "    </div>\n",
      "      </div>\n",
      "  <div class=\"article-item-box csdn-tracking-statistics\" data-articleid=\"52938125\">\n",
      "        <h4 class=\"\">\n",
      "        <a href=\"https://blog.csdn.net/mynameishuangshuai/article/details/52938125\" target=\"_blank\">\n",
      "        <span class=\"article-type type-1\">\n",
      "            原        </span>\n",
      "        Android研发安全3-Service安全      </a>\n",
      "    </h4>\n",
      "    <p class=\"content\">\n",
      "      <a href=\"https://blog.csdn.net/mynameishuangshuai/article/details/52938125\" target=\"_blank\">\n",
      "        在Android系统开发中，Service是一个重要的组成部分。如果现在某些程序中的某部分操作是很耗时的，那么可以将这些程序定义在Service中，这样就可以在后台运行，也可以在不显示界面的形式下运行，即，Service实际上就是相当于一个没有图形界面的Activity程序，而且当用户执行某些操作...      </a>\n",
      "    </p>\n",
      "    <div class=\"info-box d-flex align-content-center\">\n",
      "      <p>\n",
      "        <span class=\"date\">2016-10-30 18:05:06</span>\n",
      "      </p>\n",
      "      <p>\n",
      "        <span class=\"read-num\">阅读数：6589</span>\n",
      "      </p>\n",
      "      <p>\n",
      "        <span class=\"read-num\">评论数：5</span>\n",
      "      </p>\n",
      "    </div>\n",
      "      </div>\n",
      "  <div class=\"article-item-box csdn-tracking-statistics\" data-articleid=\"52925848\">\n",
      "        <h4 class=\"\">\n",
      "        <a href=\"https://blog.csdn.net/mynameishuangshuai/article/details/52925848\" target=\"_blank\">\n",
      "        <span class=\"article-type type-1\">\n",
      "            原        </span>\n",
      "        Android屏幕适配      </a>\n",
      "    </h4>\n",
      "    <p class=\"content\">\n",
      "      <a href=\"https://blog.csdn.net/mynameishuangshuai/article/details/52925848\" target=\"_blank\">\n",
      "        （一）背景知识为什么需要屏幕适配    Android是一个开放的系统，全球各种用户、手机企业、OEM厂商都可以对Android系统进行定制，这就导致了Android系统的碎片化问题。其中对于开发者来讲工作中最常碰到的就是屏幕碎片化，那么如何解决屏幕碎片化问题，实现最优的屏幕适配，是每个Andro...      </a>\n",
      "    </p>\n",
      "    <div class=\"info-box d-flex align-content-center\">\n",
      "      <p>\n",
      "        <span class=\"date\">2016-10-26 16:19:48</span>\n",
      "      </p>\n",
      "      <p>\n",
      "        <span class=\"read-num\">阅读数：6868</span>\n",
      "      </p>\n",
      "      <p>\n",
      "        <span class=\"read-num\">评论数：2</span>\n",
      "      </p>\n",
      "    </div>\n",
      "      </div>\n",
      "  <div class=\"article-item-box csdn-tracking-statistics\" data-articleid=\"52912641\">\n",
      "        <h4 class=\"\">\n",
      "        <a href=\"https://blog.csdn.net/mynameishuangshuai/article/details/52912641\" target=\"_blank\">\n",
      "        <span class=\"article-type type-1\">\n",
      "            原        </span>\n",
      "        Android6.0触摸事件分发机制解读      </a>\n",
      "    </h4>\n",
      "    <p class=\"content\">\n",
      "      <a href=\"https://blog.csdn.net/mynameishuangshuai/article/details/52912641\" target=\"_blank\">\n",
      "        本篇博文是Android触摸事件分发机制系列博文的第一篇，带领大家从全局掌握Android触摸事件分发机制。特别声明的是，本源码解读是基于最新的Android6.0版本。为什么要解读触摸事件分发机制1.掌握View事件分发机制  \n",
      "2.为解决View滑动冲突提供理论支持  \n",
      "3.了解Android...      </a>\n",
      "    </p>\n",
      "    <div class=\"info-box d-flex align-content-center\">\n",
      "      <p>\n",
      "        <span class=\"date\">2016-10-24 18:00:17</span>\n",
      "      </p>\n",
      "      <p>\n",
      "        <span class=\"read-num\">阅读数：9601</span>\n",
      "      </p>\n",
      "      <p>\n",
      "        <span class=\"read-num\">评论数：2</span>\n",
      "      </p>\n",
      "    </div>\n",
      "      </div>\n",
      "  <div class=\"article-item-box csdn-tracking-statistics\" data-articleid=\"52909944\">\n",
      "        <h4 class=\"\">\n",
      "        <a href=\"https://blog.csdn.net/mynameishuangshuai/article/details/52909944\" target=\"_blank\">\n",
      "        <span class=\"article-type type-1\">\n",
      "            原        </span>\n",
      "        Android6.0源码解读之ViewGroup点击事件分发机制      </a>\n",
      "    </h4>\n",
      "    <p class=\"content\">\n",
      "      <a href=\"https://blog.csdn.net/mynameishuangshuai/article/details/52909944\" target=\"_blank\">\n",
      "        本篇博文是Android点击事件分发机制系列博文的第三篇，主要是从解读ViewGroup类的源码入手，根据源码理清ViewGroup点击事件分发原理，明白ViewGroup和View点击事件分发的关系，并掌握ViewGroup点击事件分法机制。特别声明的是，本源码解读是基于最新的Android6....      </a>\n",
      "    </p>\n",
      "    <div class=\"info-box d-flex align-content-center\">\n",
      "      <p>\n",
      "        <span class=\"date\">2016-10-24 16:01:48</span>\n",
      "      </p>\n",
      "      <p>\n",
      "        <span class=\"read-num\">阅读数：5321</span>\n",
      "      </p>\n",
      "      <p>\n",
      "        <span class=\"read-num\">评论数：0</span>\n",
      "      </p>\n",
      "    </div>\n",
      "      </div>\n",
      "  <div class=\"article-item-box csdn-tracking-statistics\" data-articleid=\"52905172\">\n",
      "        <h4 class=\"\">\n",
      "        <a href=\"https://blog.csdn.net/mynameishuangshuai/article/details/52905172\" target=\"_blank\">\n",
      "        <span class=\"article-type type-1\">\n",
      "            原        </span>\n",
      "        Android6.0源码解读之Activity点击事件分发机制      </a>\n",
      "    </h4>\n",
      "    <p class=\"content\">\n",
      "      <a href=\"https://blog.csdn.net/mynameishuangshuai/article/details/52905172\" target=\"_blank\">\n",
      "        本篇博文是Android点击事件分发机制系列博文的第四篇，主要是从解读Activity类的源码入手，根据源码理清Activity点击事件分发原理，并掌握Activity点击事件分法机制。特别声明的是，本源码解读是基于最新的Android6.0版本。 \n",
      "    Android中通常点击事件用Moti...      </a>\n",
      "    </p>\n",
      "    <div class=\"info-box d-flex align-content-center\">\n",
      "      <p>\n",
      "        <span class=\"date\">2016-10-23 22:53:38</span>\n",
      "      </p>\n",
      "      <p>\n",
      "        <span class=\"read-num\">阅读数：5827</span>\n",
      "      </p>\n",
      "      <p>\n",
      "        <span class=\"read-num\">评论数：0</span>\n",
      "      </p>\n",
      "    </div>\n",
      "      </div>\n",
      "  <div class=\"article-item-box csdn-tracking-statistics\" data-articleid=\"52900723\">\n",
      "        <h4 class=\"\">\n",
      "        <a href=\"https://blog.csdn.net/mynameishuangshuai/article/details/52900723\" target=\"_blank\">\n",
      "        <span class=\"article-type type-1\">\n",
      "            原        </span>\n",
      "        Android6.0源码解读之View点击事件分发机制      </a>\n",
      "    </h4>\n",
      "    <p class=\"content\">\n",
      "      <a href=\"https://blog.csdn.net/mynameishuangshuai/article/details/52900723\" target=\"_blank\">\n",
      "        本篇博文是Android点击事件分发机制系列博文的第二篇，主要是从解读View类的源码入手，根据源码理清View点击事件分发原理，并掌握View点击事件分法机制。特别声明的是，本源码解读是基于最新的Android6.0版本。各位童鞋可以参考下面链接进行系统学习 \n",
      "（一）Android6.0触摸事件...      </a>\n",
      "    </p>\n",
      "    <div class=\"info-box d-flex align-content-center\">\n",
      "      <p>\n",
      "        <span class=\"date\">2016-10-23 21:22:22</span>\n",
      "      </p>\n",
      "      <p>\n",
      "        <span class=\"read-num\">阅读数：6875</span>\n",
      "      </p>\n",
      "      <p>\n",
      "        <span class=\"read-num\">评论数：2</span>\n",
      "      </p>\n",
      "    </div>\n",
      "      </div>\n",
      "  <div class=\"article-item-box csdn-tracking-statistics\" data-articleid=\"52870793\">\n",
      "        <h4 class=\"\">\n",
      "        <a href=\"https://blog.csdn.net/mynameishuangshuai/article/details/52870793\" target=\"_blank\">\n",
      "        <span class=\"article-type type-1\">\n",
      "            原        </span>\n",
      "        Android研发安全2-Activity组件安全（下）      </a>\n",
      "    </h4>\n",
      "    <p class=\"content\">\n",
      "      <a href=\"https://blog.csdn.net/mynameishuangshuai/article/details/52870793\" target=\"_blank\">\n",
      "        这篇文章是Android研发安全之Activity组件安全第二篇，本文将给大家分享Activity界面劫持方面的预防知识。什么是Activity劫持       简单的说就是APP正常的Activity界面被恶意攻击者替换上仿冒的恶意Activity界面进行攻击和非法用途。界面劫持攻击通常难被识别...      </a>\n",
      "    </p>\n",
      "    <div class=\"info-box d-flex align-content-center\">\n",
      "      <p>\n",
      "        <span class=\"date\">2016-10-20 13:53:00</span>\n",
      "      </p>\n",
      "      <p>\n",
      "        <span class=\"read-num\">阅读数：8429</span>\n",
      "      </p>\n",
      "      <p>\n",
      "        <span class=\"read-num\">评论数：4</span>\n",
      "      </p>\n",
      "    </div>\n",
      "      </div>\n",
      "  <div class=\"article-item-box csdn-tracking-statistics\" data-articleid=\"52861224\">\n",
      "        <h4 class=\"\">\n",
      "        <a href=\"https://blog.csdn.net/mynameishuangshuai/article/details/52861224\" target=\"_blank\">\n",
      "        <span class=\"article-type type-1\">\n",
      "            原        </span>\n",
      "        Java垃圾回收手记      </a>\n",
      "    </h4>\n",
      "    <p class=\"content\">\n",
      "      <a href=\"https://blog.csdn.net/mynameishuangshuai/article/details/52861224\" target=\"_blank\">\n",
      "        常用定义java垃圾回收    在空闲时间以不定时的方式进行垃圾回收，回收的是无任何引用的对象占据的内存空间而不是对象本身触发主GC(Garbage Collector)的条件    (1)当应用程序空闲时,即没有应用线程在运行时,GC会被调用。因为GC在优先级最低的线程中进行,所以当应用忙时,G...      </a>\n",
      "    </p>\n",
      "    <div class=\"info-box d-flex align-content-center\">\n",
      "      <p>\n",
      "        <span class=\"date\">2016-10-19 18:02:42</span>\n",
      "      </p>\n",
      "      <p>\n",
      "        <span class=\"read-num\">阅读数：5343</span>\n",
      "      </p>\n",
      "      <p>\n",
      "        <span class=\"read-num\">评论数：2</span>\n",
      "      </p>\n",
      "    </div>\n",
      "      </div>\n",
      "  <div class=\"article-item-box csdn-tracking-statistics\" data-articleid=\"52850335\">\n",
      "        <h4 class=\"\">\n",
      "        <a href=\"https://blog.csdn.net/mynameishuangshuai/article/details/52850335\" target=\"_blank\">\n",
      "        <span class=\"article-type type-1\">\n",
      "            原        </span>\n",
      "        自定义Android IOC框架      </a>\n",
      "    </h4>\n",
      "    <p class=\"content\">\n",
      "      <a href=\"https://blog.csdn.net/mynameishuangshuai/article/details/52850335\" target=\"_blank\">\n",
      "        IOC-控制反转（Inversion of Control，英文缩写为IoC）是一个重要的面向对象编程的法则来削减计算机程序的耦合问题，也是轻量级的Spring框架的核心。 控制反转一般分为两种类型，依赖注入（Dependency Injection，简称DI）和依赖查找（Dependency L...      </a>\n",
      "    </p>\n",
      "    <div class=\"info-box d-flex align-content-center\">\n",
      "      <p>\n",
      "        <span class=\"date\">2016-10-18 17:13:34</span>\n",
      "      </p>\n",
      "      <p>\n",
      "        <span class=\"read-num\">阅读数：4128</span>\n",
      "      </p>\n",
      "      <p>\n",
      "        <span class=\"read-num\">评论数：2</span>\n",
      "      </p>\n",
      "    </div>\n",
      "      </div>\n",
      "  <div class=\"article-item-box csdn-tracking-statistics\" data-articleid=\"52808032\">\n",
      "        <h4 class=\"\">\n",
      "        <a href=\"https://blog.csdn.net/mynameishuangshuai/article/details/52808032\" target=\"_blank\">\n",
      "        <span class=\"article-type type-1\">\n",
      "            原        </span>\n",
      "        细说Android框架设计三剑客MVC、MVP和MVVM      </a>\n",
      "    </h4>\n",
      "    <p class=\"content\">\n",
      "      <a href=\"https://blog.csdn.net/mynameishuangshuai/article/details/52808032\" target=\"_blank\">\n",
      "        最近几年的移动端开发越来越火，功能越来越强大，处理业务越来越复杂，因此对系统扩展性的要求越来越高。而为了更好地进行移动端架构设计，我们最常用的就是MVC和MVP，今天本篇博客就和大家一起聊一聊这两种框架设计。MVC框架MVC的定义    MVC (Model-View-Controller)：M是...      </a>\n",
      "    </p>\n",
      "    <div class=\"info-box d-flex align-content-center\">\n",
      "      <p>\n",
      "        <span class=\"date\">2016-10-14 11:44:41</span>\n",
      "      </p>\n",
      "      <p>\n",
      "        <span class=\"read-num\">阅读数：15668</span>\n",
      "      </p>\n",
      "      <p>\n",
      "        <span class=\"read-num\">评论数：12</span>\n",
      "      </p>\n",
      "    </div>\n",
      "      </div>\n",
      "  <div class=\"article-item-box csdn-tracking-statistics\" data-articleid=\"52805878\">\n",
      "        <h4 class=\"\">\n",
      "        <a href=\"https://blog.csdn.net/mynameishuangshuai/article/details/52805878\" target=\"_blank\">\n",
      "        <span class=\"article-type type-1\">\n",
      "            原        </span>\n",
      "        AndroidStudio设置package presentation      </a>\n",
      "    </h4>\n",
      "    <p class=\"content\">\n",
      "      <a href=\"https://blog.csdn.net/mynameishuangshuai/article/details/52805878\" target=\"_blank\">\n",
      "        最近有小伙伴问我AndroidStudio中的项目package默认的布局方式是嵌套型包结构，如何改为平级型包结构，在此我给大家科普一下AndroidStudio的package presentation配置方法。首先，我们用AndroidStudio新疆项目，默认的包结构如下：我们点击项目根目录...      </a>\n",
      "    </p>\n",
      "    <div class=\"info-box d-flex align-content-center\">\n",
      "      <p>\n",
      "        <span class=\"date\">2016-10-13 16:37:30</span>\n",
      "      </p>\n",
      "      <p>\n",
      "        <span class=\"read-num\">阅读数：3142</span>\n",
      "      </p>\n",
      "      <p>\n",
      "        <span class=\"read-num\">评论数：0</span>\n",
      "      </p>\n",
      "    </div>\n",
      "      </div>\n",
      "  <div class=\"article-item-box csdn-tracking-statistics\" data-articleid=\"52797473\">\n",
      "        <h4 class=\"\">\n",
      "        <a href=\"https://blog.csdn.net/mynameishuangshuai/article/details/52797473\" target=\"_blank\">\n",
      "        <span class=\"article-type type-1\">\n",
      "            原        </span>\n",
      "        简单实现Android图片三级缓存机制      </a>\n",
      "    </h4>\n",
      "    <p class=\"content\">\n",
      "      <a href=\"https://blog.csdn.net/mynameishuangshuai/article/details/52797473\" target=\"_blank\">\n",
      "        用户在使用我们的APP时，通常会重复浏览一些图片，这时如果每一次浏览都需要通过网络获取图片，那么将会非常流量。为了节省用户流量，提高图片加载效率，我们通常使用图片三级缓存策略，即通过网络、本地、内存三级缓存图片，来减少不必要的网络交互，避免浪费流量。 \n",
      "    网上已经有很多讲述图片三级缓存的策略...      </a>\n",
      "    </p>\n",
      "    <div class=\"info-box d-flex align-content-center\">\n",
      "      <p>\n",
      "        <span class=\"date\">2016-10-12 16:35:01</span>\n",
      "      </p>\n",
      "      <p>\n",
      "        <span class=\"read-num\">阅读数：8762</span>\n",
      "      </p>\n",
      "      <p>\n",
      "        <span class=\"read-num\">评论数：4</span>\n",
      "      </p>\n",
      "    </div>\n",
      "      </div>\n",
      "  <div class=\"article-item-box csdn-tracking-statistics\" data-articleid=\"52790465\">\n",
      "        <h4 class=\"\">\n",
      "        <a href=\"https://blog.csdn.net/mynameishuangshuai/article/details/52790465\" target=\"_blank\">\n",
      "        <span class=\"article-type type-1\">\n",
      "            原        </span>\n",
      "        Android自实现百分比布局      </a>\n",
      "    </h4>\n",
      "    <p class=\"content\">\n",
      "      <a href=\"https://blog.csdn.net/mynameishuangshuai/article/details/52790465\" target=\"_blank\">\n",
      "        在开发中，组件布局是大家每日开发必须要面对的工作，对于Android来说提供五种常用布局，分别是：\n",
      "LinearLayout(线性布局)\n",
      "TableLayout(表格布局)\n",
      "RelativeLayout(相对布局)\n",
      "AbsoluteLayout(绝对布局)\n",
      "FrameLayout(框架布局)\n",
      "  ...      </a>\n",
      "    </p>\n",
      "    <div class=\"info-box d-flex align-content-center\">\n",
      "      <p>\n",
      "        <span class=\"date\">2016-10-11 20:17:48</span>\n",
      "      </p>\n",
      "      <p>\n",
      "        <span class=\"read-num\">阅读数：2217</span>\n",
      "      </p>\n",
      "      <p>\n",
      "        <span class=\"read-num\">评论数：0</span>\n",
      "      </p>\n",
      "    </div>\n",
      "      </div>\n",
      "  <div class=\"article-item-box csdn-tracking-statistics\" data-articleid=\"52770129\">\n",
      "        <h4 class=\"\">\n",
      "        <a href=\"https://blog.csdn.net/mynameishuangshuai/article/details/52770129\" target=\"_blank\">\n",
      "        <span class=\"article-type type-1\">\n",
      "            原        </span>\n",
      "        Android应用进程防杀指南3-JobService      </a>\n",
      "    </h4>\n",
      "    <p class=\"content\">\n",
      "      <a href=\"https://blog.csdn.net/mynameishuangshuai/article/details/52770129\" target=\"_blank\">\n",
      "        本篇博文，我将带领大家学习更高端的APP进行防杀技巧，该技巧除了能够应对卫士、管家的清杀以外，更能够在类似于某米、某为系统的清理内存软件清理下确保进程存活下来。它就是我们今天的主角JobShedulerService。\n",
      "通常在5.0之前，我们可以使用广播或者闹钟等方式让我们的进程防杀自启，而5.0...      </a>\n",
      "    </p>\n",
      "    <div class=\"info-box d-flex align-content-center\">\n",
      "      <p>\n",
      "        <span class=\"date\">2016-10-10 12:28:39</span>\n",
      "      </p>\n",
      "      <p>\n",
      "        <span class=\"read-num\">阅读数：11591</span>\n",
      "      </p>\n",
      "      <p>\n",
      "        <span class=\"read-num\">评论数：9</span>\n",
      "      </p>\n",
      "    </div>\n",
      "      </div>\n",
      "  <div class=\"article-item-box csdn-tracking-statistics\" data-articleid=\"52769116\">\n",
      "        <h4 class=\"\">\n",
      "        <a href=\"https://blog.csdn.net/mynameishuangshuai/article/details/52769116\" target=\"_blank\">\n",
      "        <span class=\"article-type type-1\">\n",
      "            原        </span>\n",
      "        Android应用进程防杀指南2-双进程守护      </a>\n",
      "    </h4>\n",
      "    <p class=\"content\">\n",
      "      <a href=\"https://blog.csdn.net/mynameishuangshuai/article/details/52769116\" target=\"_blank\">\n",
      "        假设我们的APP中开启了两个Service，分别是A和B，那么：\n",
      "如果A守护B，则B挂掉的同时，A就应该把B启动起来，反之亦然，也就是说A和B应该是互相守护，无论谁被杀掉，对方就把它拉起来。      </a>\n",
      "    </p>\n",
      "    <div class=\"info-box d-flex align-content-center\">\n",
      "      <p>\n",
      "        <span class=\"date\">2016-10-09 17:53:22</span>\n",
      "      </p>\n",
      "      <p>\n",
      "        <span class=\"read-num\">阅读数：21252</span>\n",
      "      </p>\n",
      "      <p>\n",
      "        <span class=\"read-num\">评论数：21</span>\n",
      "      </p>\n",
      "    </div>\n",
      "      </div>\n",
      "  <div class=\"article-item-box csdn-tracking-statistics\" data-articleid=\"52757594\">\n",
      "        <h4 class=\"\">\n",
      "        <a href=\"https://blog.csdn.net/mynameishuangshuai/article/details/52757594\" target=\"_blank\">\n",
      "        <span class=\"article-type type-1\">\n",
      "            原        </span>\n",
      "        Android应用进程防杀指南1-常用套路      </a>\n",
      "    </h4>\n",
      "    <p class=\"content\">\n",
      "      <a href=\"https://blog.csdn.net/mynameishuangshuai/article/details/52757594\" target=\"_blank\">\n",
      "        &gt; 1．如果service正在调用onCreate,onStartCommand或者onDestory方法，那么用于当前service的进程则变为前台进程以避免被killed。\n",
      "&gt; 2．如果当前service已经被启动(start)，拥有它的进程则比那些用户可见的进程优先级低一些，但是...      </a>\n",
      "    </p>\n",
      "    <div class=\"info-box d-flex align-content-center\">\n",
      "      <p>\n",
      "        <span class=\"date\">2016-10-09 17:00:08</span>\n",
      "      </p>\n",
      "      <p>\n",
      "        <span class=\"read-num\">阅读数：34611</span>\n",
      "      </p>\n",
      "      <p>\n",
      "        <span class=\"read-num\">评论数：0</span>\n",
      "      </p>\n",
      "    </div>\n",
      "      </div>\n",
      "  <div class=\"pagination-box\" id=\"pageBox\"></div>\n",
      "</div>\n",
      "    </main>\n",
      "    <aside>\n",
      "\t\t    <div id=\"asideProfile\" class=\"aside-box\">\n",
      "    <!-- <h3 class=\"aside-title\">个人资料</h3> -->\n",
      "    <div class=\"profile-intro d-flex\">\n",
      "        <div class=\"avatar-box d-flex justify-content-center flex-column\">\n",
      "            <a href=\"https://me.csdn.net/mynameishuangshuai\">\n",
      "                <img src=\"https://avatar.csdn.net/4/E/E/3_mynameishuangshuai.jpg\" class=\"avatar_pic\">\n",
      "            </a>\n",
      "        </div>\n",
      "        <div class=\"user-info d-flex justify-content-center flex-column\">\n",
      "            <p class=\"name csdn-tracking-statistics tracking-click\" data-mod=\"popu_379\">\n",
      "                <a href=\"https://me.csdn.net/mynameishuangshuai\" target=\"_blank\" class=\"\" id=\"uid\">猴子搬来的救兵Castiel</a>\n",
      "            </p>\n",
      "                    </div>\n",
      "                <div class=\"opt-box d-flex justify-content-center flex-column\">\n",
      "            <span  class=\"csdn-tracking-statistics tracking-click\" data-mod=\"popu_379\">\n",
      "                <a class=\"btn btn-sm btn-red-hollow attention\" id=\"btnAttent\">关注</a>\n",
      "            </span>\n",
      "                    </div>\n",
      "            </div>\n",
      "    <div class=\"data-info d-flex item-tiling\">\n",
      "                <dl class=\"text-center\" title=\"79\">\n",
      "                        <dt><a href=\"https://blog.csdn.net/mynameishuangshuai?t=1\">原创</a></dt>\n",
      "            <dd><a href=\"https://blog.csdn.net/mynameishuangshuai?t=1\"><span class=\"count\">79</span></a></dd>\n",
      "                    </dl>\n",
      "        <dl class=\"text-center\" id=\"fanBox\" title=\"3505\">\n",
      "            <dt>粉丝</dt>\n",
      "            <dd><span class=\"count\" id=\"fan\">3505</span></dd>\n",
      "        </dl>\n",
      "        <dl class=\"text-center\" title=\"56\">\n",
      "            <dt>喜欢</dt>\n",
      "            <dd><span class=\"count\">56</span></dd>\n",
      "        </dl>\n",
      "        <dl class=\"text-center\" title=\"253\">\n",
      "            <dt>评论</dt>\n",
      "            <dd><span class=\"count\">253</span></dd>\n",
      "        </dl>\n",
      "    </div>\n",
      "    <div class=\"grade-box clearfix\">\n",
      "        <dl>\n",
      "            <dt>等级：</dt>\n",
      "            <dd>\n",
      "                <a href=\"https://blog.csdn.net/home/help.html#level\" title=\"6级,点击查看等级说明\" target=\"_blank\">\n",
      "                    <svg class=\"icon icon-level\" aria-hidden=\"true\">\n",
      "                        <use xlink:href=\"#csdnc-bloglevel-6\"></use>\n",
      "                    </svg>\n",
      "                </a>\n",
      "            </dd>\n",
      "        </dl>\n",
      "        <dl>\n",
      "            <dt>访问：</dt>\n",
      "            <dd title=\"817875\">\n",
      "                81万+            </dd>\n",
      "        </dl>\n",
      "        <dl>\n",
      "            <dt>积分：</dt>\n",
      "            <dd title=\"5918\">\n",
      "                5918            </dd>\n",
      "        </dl>\n",
      "        <dl title=\"6307\">\n",
      "            <dt>排名：</dt>\n",
      "            <dd>6307</dd>\n",
      "        </dl>\n",
      "    </div>\n",
      "        <div class=\"badge-box d-flex\">\n",
      "        <span>勋章：</span>\n",
      "                <div class=\"icon-badge\" title=\"专栏达人\">\n",
      "            <div class=\"mouse-box\">\n",
      "                <svg class=\"icon\" aria-hidden=\"true\">\n",
      "                    <use xlink:href=\"#csdnc-m-columns\"></use>\n",
      "                </svg>\n",
      "                <div class=\"icon-arrow\"></div>\n",
      "            </div>\n",
      "            <div class=\"grade-detail-box\">\n",
      "                <div class=\"pos-box\">\n",
      "                    <div class=\"left-box d-flex justify-content-center align-items-center flex-column\">\n",
      "                        <svg class=\"icon\" aria-hidden=\"true\">\n",
      "                            <use xlink:href=\"#csdnc-m-columns\"></use>\n",
      "                        </svg>\n",
      "                        <p>专栏达人</p>\n",
      "                    </div>\n",
      "                    <div class=\"right-box d-flex justify-content-center align-items-center\">\n",
      "                        授予成功创建个人博客专栏的用户。专栏中添加五篇以上博文即可点亮！撰写博客专栏浓缩技术精华，专栏达人就是你！\n",
      "                    </div>\n",
      "                </div>\n",
      "            </div>\n",
      "        </div>\n",
      "                        <div class=\"icon-badge\" title=\"持之以恒\">\n",
      "            <div class=\"mouse-box\">\n",
      "                <svg class=\"icon\" aria-hidden=\"true\">\n",
      "                    <use xlink:href=\"#csdnc-m-lasting\"></use>\n",
      "                </svg>\n",
      "                <div class=\"icon-arrow\"></div>\n",
      "            </div>\n",
      "            <div class=\"grade-detail-box\">\n",
      "                <div class=\"pos-box\">\n",
      "                    <div class=\"left-box d-flex justify-content-center align-items-center flex-column\">\n",
      "                        <svg class=\"icon\" aria-hidden=\"true\">\n",
      "                            <use xlink:href=\"#csdnc-m-lasting\"></use>\n",
      "                        </svg>\n",
      "                        <p>持之以恒</p>\n",
      "                    </div>\n",
      "                    <div class=\"right-box d-flex justify-content-center align-items-center\">\n",
      "                        授予每个自然月内发布4篇或4篇以上原创或翻译IT博文的用户。不积跬步无以至千里，不积小流无以成江海，程序人生的精彩需要坚持不懈地积累！\n",
      "                    </div>\n",
      "                </div>\n",
      "            </div>\n",
      "        </div>\n",
      "                                                <script>\n",
      "            (function ($) {\n",
      "                setTimeout(function(){\n",
      "                    $('div.icon-badge.show-moment').removeClass('show-moment');\n",
      "                }, 5000);\n",
      "            })(window.jQuery)\n",
      "        </script>\n",
      "    </div>\n",
      "    </div>\n",
      "\t\t    <div class=\"csdn-tracking-statistics mb8 box-shadow\" data-pid=\"blog\" data-mod=\"popu_4\" style=\"height:250px;\">\n",
      "    <div class=\"aside-content text-center\" id=\"cpro_u2734133\">\n",
      "      <script type=\"text/javascript\" src=\"//rabc1.iteye.com/common/leh4.js?idmc=jefav\"></script>    </div>\n",
      "</div>\n",
      "\t\t    <!--自定义模块-->\n",
      "<div id=\"asideCustom41361069\" class=\"aside-box custom-box\">\n",
      "    <h3 class=\"aside-title\">联系方式</h3>\n",
      "    <div class=\"aside-content clearfix\">\n",
      "        <strong>QQ交流群：<font color=\"red\" size=\"2\">108721298</font> </strong><a target=\"_blank\" href=\"http://shang.qq.com/wpa/qunwpa?idkey=651c22b79878a3d33a20a1116f544b0256d9d138bdff94eb91e8974cc561e70e\"><img border=\"0\" src=\"http://img.blog.csdn.net/20150705162614199\" alt=\"Android高级技术交流群\" title=\"Android高级技术交流群\"></a><br>\n",
      "<strong>我的邮箱：</strong><br>\n",
      "<a href=\"Mailto:hellohuangshuai@163.com\">hellohuangshuai@163.com</a><br> \n",
      "<strong>我的源码：</strong><br>\n",
      "<a>https://github.com/AngelCastile</a><br> \n",
      "<strong>我的稀土掘金：</strong><br>\n",
      "<a>http://gold.xitu.io/user/56ac70aa71cfe4005c0453ad</a>    </div>\n",
      "</div>\n",
      "\t\t    \t\t    <div id=\"asideColumn\" class=\"aside-box\">\n",
      "    <h3 class=\"aside-title\">博主专栏</h3>\n",
      "    <div class=\"aside-content\">\n",
      "        <ul class=\"column-box csdn-tracking-statistics tracking-click\" data-mod=\"popu_520\" >\n",
      "                            <li class=\"clearfix\">\n",
      "                    <div class=\"img-box float-left\">\n",
      "                        <a class=\"d-flex align-items-center\" href=\"https://blog.csdn.net/column/details/androiddevsafe.html\">\n",
      "                            <img src=\"https://img-blog.csdn.net/20161019181703140?imageView2/5/w/120/h/120\" alt=\"\">\n",
      "                        </a>\n",
      "                    </div>\n",
      "                    <div class=\"info\">\n",
      "                        <p class=\"title\"><a href=\"https://blog.csdn.net/column/details/androiddevsafe.html\">Android研发安全</a></p>\n",
      "                        <div class=\"data\">阅读量：<span>22564</span><span class=\"count\">3 篇</span></div>\n",
      "                    </div>\n",
      "                </li>\n",
      "                            <li class=\"clearfix\">\n",
      "                    <div class=\"img-box float-left\">\n",
      "                        <a class=\"d-flex align-items-center\" href=\"https://blog.csdn.net/column/details/13018.html\">\n",
      "                            <img src=\"https://img-blog.csdn.net/20160923100823055?imageView2/5/w/120/h/120\" alt=\"\">\n",
      "                        </a>\n",
      "                    </div>\n",
      "                    <div class=\"info\">\n",
      "                        <p class=\"title\"><a href=\"https://blog.csdn.net/column/details/13018.html\">Android NDK开发</a></p>\n",
      "                        <div class=\"data\">阅读量：<span>43219</span><span class=\"count\">15 篇</span></div>\n",
      "                    </div>\n",
      "                </li>\n",
      "                            <li class=\"clearfix\">\n",
      "                    <div class=\"img-box float-left\">\n",
      "                        <a class=\"d-flex align-items-center\" href=\"https://blog.csdn.net/column/details/13066.html\">\n",
      "                            <img src=\"https://img-blog.csdn.net/20160927150826742?imageView2/5/w/120/h/120\" alt=\"\">\n",
      "                        </a>\n",
      "                    </div>\n",
      "                    <div class=\"info\">\n",
      "                        <p class=\"title\"><a href=\"https://blog.csdn.net/column/details/13066.html\">Android数据结构</a></p>\n",
      "                        <div class=\"data\">阅读量：<span>16575</span><span class=\"count\">6 篇</span></div>\n",
      "                    </div>\n",
      "                </li>\n",
      "                            <li class=\"clearfix\">\n",
      "                    <div class=\"img-box float-left\">\n",
      "                        <a class=\"d-flex align-items-center\" href=\"https://blog.csdn.net/column/details/13267.html\">\n",
      "                            <img src=\"https://img-blog.csdn.net/20161020122202091?imageView2/5/w/120/h/120\" alt=\"\">\n",
      "                        </a>\n",
      "                    </div>\n",
      "                    <div class=\"info\">\n",
      "                        <p class=\"title\"><a href=\"https://blog.csdn.net/column/details/13267.html\">Android源码解读</a></p>\n",
      "                        <div class=\"data\">阅读量：<span>27623</span><span class=\"count\">4 篇</span></div>\n",
      "                    </div>\n",
      "                </li>\n",
      "                    </ul>\n",
      "    </div>\n",
      "    </div>\n",
      "\t\t    <div id=\"asideCategory\" class=\"aside-box flexible-box\">\n",
      "    <h3 class=\"aside-title\">个人分类</h3>\n",
      "    <div class=\"aside-content\">\n",
      "        <ul>\n",
      "                        <li>\n",
      "                <a class=\"clearfix\" href=\"https://blog.csdn.net/mynameishuangshuai/article/category/6171537\">\n",
      "                    <span class=\"title oneline\">安卓应用研发</span>\n",
      "                    <span class=\"count float-right\">38篇</span>\n",
      "                </a>\n",
      "            </li>\n",
      "                        <li>\n",
      "                <a class=\"clearfix\" href=\"https://blog.csdn.net/mynameishuangshuai/article/category/6171538\">\n",
      "                    <span class=\"title oneline\">安卓应用安全</span>\n",
      "                    <span class=\"count float-right\">3篇</span>\n",
      "                </a>\n",
      "            </li>\n",
      "                        <li>\n",
      "                <a class=\"clearfix\" href=\"https://blog.csdn.net/mynameishuangshuai/article/category/6181114\">\n",
      "                    <span class=\"title oneline\">安卓开源工具</span>\n",
      "                    <span class=\"count float-right\">5篇</span>\n",
      "                </a>\n",
      "            </li>\n",
      "                        <li>\n",
      "                <a class=\"clearfix\" href=\"https://blog.csdn.net/mynameishuangshuai/article/category/6171540\">\n",
      "                    <span class=\"title oneline\">程序员的那些事</span>\n",
      "                    <span class=\"count float-right\">1篇</span>\n",
      "                </a>\n",
      "            </li>\n",
      "                        <li>\n",
      "                <a class=\"clearfix\" href=\"https://blog.csdn.net/mynameishuangshuai/article/category/6217050\">\n",
      "                    <span class=\"title oneline\">安卓开发常见错误</span>\n",
      "                    <span class=\"count float-right\">8篇</span>\n",
      "                </a>\n",
      "            </li>\n",
      "                        <li>\n",
      "                <a class=\"clearfix\" href=\"https://blog.csdn.net/mynameishuangshuai/article/category/6223959\">\n",
      "                    <span class=\"title oneline\">Java开发</span>\n",
      "                    <span class=\"count float-right\">4篇</span>\n",
      "                </a>\n",
      "            </li>\n",
      "                        <li>\n",
      "                <a class=\"clearfix\" href=\"https://blog.csdn.net/mynameishuangshuai/article/category/6426879\">\n",
      "                    <span class=\"title oneline\">NDK/JNI开发</span>\n",
      "                    <span class=\"count float-right\">15篇</span>\n",
      "                </a>\n",
      "            </li>\n",
      "                        <li>\n",
      "                <a class=\"clearfix\" href=\"https://blog.csdn.net/mynameishuangshuai/article/category/6438276\">\n",
      "                    <span class=\"title oneline\">数据结构</span>\n",
      "                    <span class=\"count float-right\">7篇</span>\n",
      "                </a>\n",
      "            </li>\n",
      "                    </ul>\n",
      "    </div>\n",
      "        <p class=\"text-center\">\n",
      "        <a class=\"btn btn-link-blue flexible-btn\" data-fbox=\"aside-archive\">展开</a>\n",
      "    </p>\n",
      "    </div>\n",
      "\t\t    <div id=\"asideNewComments\" class=\"aside-box\">\n",
      "    <h3 class=\"aside-title\">最新评论</h3>\n",
      "    <div class=\"aside-content\">\n",
      "        <ul class=\"newcomment-list\">\n",
      "                        <li>\n",
      "                <a class=\"title text-truncate\" target=\"_blank\" href=\"https://blog.csdn.net/mynameishuangshuai/article/details/52850335#comments\">自定义Android IOC框架</a>\n",
      "                <p class=\"comment\">\n",
      "                    <a href=\"https://my.csdn.net/qq_37598801\" class=\"user-name\" target=\"_blank\">qq_37598801</a>：CastielEventBase为null，怎么解决？                </p>\n",
      "            </li>\n",
      "                        <li>\n",
      "                <a class=\"title text-truncate\" target=\"_blank\" href=\"https://blog.csdn.net/mynameishuangshuai/article/details/51783303#comments\">手把手教你AndroidStudi...</a>\n",
      "                <p class=\"comment\">\n",
      "                    <a href=\"https://my.csdn.net/qweenhool\" class=\"user-name\" target=\"_blank\">qweenhool</a>：buildTypes.release里面不配置signingConfig的话，产生的apk难道默认...                </p>\n",
      "            </li>\n",
      "                        <li>\n",
      "                <a class=\"title text-truncate\" target=\"_blank\" href=\"https://blog.csdn.net/mynameishuangshuai/article/details/51153978#comments\">你必须了解的RecyclerVie...</a>\n",
      "                <p class=\"comment\">\n",
      "                    <a href=\"https://my.csdn.net/qq_38799296\" class=\"user-name\" target=\"_blank\">qq_38799296</a>：连first 都能写错，还能说啥                </p>\n",
      "            </li>\n",
      "                        <li>\n",
      "                <a class=\"title text-truncate\" target=\"_blank\" href=\"https://blog.csdn.net/mynameishuangshuai/article/details/51821662#comments\">Android中Service和T...</a>\n",
      "                <p class=\"comment\">\n",
      "                    <a href=\"https://my.csdn.net/qq_42046338\" class=\"user-name\" target=\"_blank\">qq_42046338</a>：亲你说的重启Sercice让我有点难以理解，难道做到了 Sercice存活  不被杀死？添加到系统...                </p>\n",
      "            </li>\n",
      "                        <li>\n",
      "                <a class=\"title text-truncate\" target=\"_blank\" href=\"https://blog.csdn.net/mynameishuangshuai/article/details/51491074#comments\">彻底弄懂Activity四大启动模式</a>\n",
      "                <p class=\"comment\">\n",
      "                    <a href=\"https://my.csdn.net/lqy515\" class=\"user-name\" target=\"_blank\">lqy515</a>：[reply]qq_33261386[/reply]\n",
      "当你条状到other的时候 其所在的栈肯定还...                </p>\n",
      "            </li>\n",
      "                    </ul>\n",
      "    </div>\n",
      "</div>\n",
      "\t\t<div id=\"asideFooter\">\n",
      "\t\t\t\n",
      "\t\t<div class=\"aside-box\">\n",
      "\t\t\t<script type=\"text/javascript\" src=\"//rabc1.iteye.com/common/leh4.js?idmc=jefav\"></script>\t\t</div>\n",
      "\t\t\t\t<div class=\"aside-box\">\n",
      "\t\t\t<div class=\"persion_article\">\n",
      "\t\t\t</div>\n",
      "\t\t</div>\n",
      "\t</div>\n",
      "</aside>\n",
      "<script src=\"https://csdnimg.cn/pubfooter/js/publib_footer-1.0.3.js\" data-isfootertrack=\"false\" type=\"text/javascript\"></script>\n",
      "<script>\n",
      "\t$(\"a.flexible-btn\").click(function(){\n",
      "\t\t$(this).parents('div.aside-box').removeClass('flexible-box');\n",
      "\t\t$(this).remove();\n",
      "\t})\n",
      "</script>\n",
      "</div>\n",
      "<div class=\"mask\"></div>\n",
      "<div class=\"promptBox clearfix\">\n",
      "    <div class=\"title clearfix bottom-dis-16\">\n",
      "        <span class=\"float-left\">提示</span>\n",
      "        <a class=\"float-right Boxclose\">\n",
      "            <svg class=\"icon\" aria-hidden=\"true\">\n",
      "                <use xlink:href=\"#csdnc-times\"></use>\n",
      "            </svg>\n",
      "        </a>\n",
      "    </div>\n",
      "    <div class=\"text\">确定要删除当前文章？</div>\n",
      "    <div class=\"pro-btn float-right\">\n",
      "        <a class=\"clickNo\">取消</a>\n",
      "        <a class=\"clickYes\">删除</a>\n",
      "    </div>\n",
      "</div>\n",
      "<script>\n",
      "    var currentPage = 1;\n",
      "    var baseUrl = 'https://blog.csdn.net/mynameishuangshuai/article/list' ;\n",
      "    var pageSize = 20 ;\n",
      "    var listTotal = 79 ;\n",
      "    var pageQueryStr = '';\n",
      "    function getAllUrl(page) {\n",
      "        return baseUrl + \"/\" + page + pageQueryStr;\n",
      "    }\n",
      "</script>\n",
      "<script src=\"https://g.csdnimg.cn/login-box/1.0.1/login-box.js\"></script>\n",
      "<script src=\"https://csdnimg.cn/release/phoenix/vendor/pagination/paging.js\"></script>\n",
      "<script src='https://csdnimg.cn/public/common/gotop/js/goTop-v1.0.min.js?v201803151422'></script>\n",
      "<script src=\"https://csdnimg.cn/release/phoenix/template/js/common-946dc75567.min.js\"></script>\n",
      "<script src=\"https://csdnimg.cn/release/phoenix/template/js/list-150d23d4c1.min.js\"></script>\n",
      "\n",
      "<script>\n",
      "    GoTop({\n",
      "        right: 8\n",
      "    })\n",
      "</script>\n",
      "<div class=\"box-box-default\">\n",
      "    <a class=\"btn-remove\">\n",
      "        关闭\n",
      "    </a>\n",
      "    <script type=\"text/javascript\" src=\"//cee1.iteye.com/mhzzjepzz.js\"></script>\n",
      "</div>\n",
      "<div class=\"box-box-large\">\n",
      "    <a class=\"btn-remove\">\n",
      "        关闭\n",
      "    </a>\n",
      "    <script type=\"text/javascript\" src=\"//cee1.iteye.com/idvveasfs.js\"></script>\n",
      "</div>\n",
      "</body>\n",
      "</html>\n",
      "\n"
     ]
    }
   ],
   "source": [
    "import urllib\n",
    "\n",
    "url= \"http://blog.csdn.net/mynameishuangshuai\"\n",
    "user_agent=\"Mozilla/5.0 (Windows NT 10.0; WOW64) AppleWebKit/537.36 (KHTML, like Gecko) Chrome/54.0.2840.71 Safari/537.36\"\n",
    "headers={\"User-Agent\":user_agent}               ## agent是请求的身份，如果没有写入请求身份，那么服务器不一定会响应，所以在headers中设置agent\n",
    "request=urllib.request.Request(url,headers=headers)    \n",
    "response=urllib.request.urlopen(request)\n",
    "print(response.read().decode('utf-8'))"
   ]
  },
  {
   "cell_type": "markdown",
   "metadata": {},
   "source": [
    "另外headers的一些属性，下面的需要特别注意一下：\n",
    ">* User-Agent : 有些服务器或 Proxy 会通过该值来判断是否是浏览器发出的请求\n",
    ">* Referer : 对付防盗链，服务器会识别headers中的referer是不是它自己，如果不是，有的服务器不会响应\n",
    ">* Content-Type : 在使用 REST 接口时，服务器会检查该值，用来确定 HTTP Body 中的内容该怎样解析。\n",
    ">* application/xml ： 在 XML RPC，如 RESTful/SOAP 调用时使用\n",
    ">* application/json ： 在 JSON RPC 调用时使用\n",
    ">* application/x-www-form-urlencoded ： 浏览器提交 Web 表单时使用  \n",
    "\n",
    "在使用服务器提供的 RESTful 或 SOAP 服务时， Content-Type 设置错误会导致服务器拒绝服务"
   ]
  },
  {
   "cell_type": "markdown",
   "metadata": {},
   "source": [
    "#### 2. Proxy（代理）的设置"
   ]
  },
  {
   "cell_type": "markdown",
   "metadata": {},
   "source": [
    "urllib2 默认会使用环境变量 http_proxy 来设置 HTTP Proxy。假如一个网站它会检测某一段时间某个IP 的访问次数，如果访问次数过多，它会禁止你的访问。所以你可以设置一些代理服务器来帮助你做工作，每隔一段时间换一个代理，网站都不知道是谁在捣鬼了"
   ]
  },
  {
   "cell_type": "code",
   "execution_count": 4,
   "metadata": {},
   "outputs": [],
   "source": [
    "import urllib\n",
    "enable_proxy = True\n",
    "proxy_handler = urllib.request.ProxyHandler({\"http\" : 'http://some-proxy.com:8080'})\n",
    "null_proxy_handler = urllib.request.ProxyHandler({})\n",
    "if enable_proxy:\n",
    "    opener = urllib.request.build_opener(proxy_handler)\n",
    "else:\n",
    "    opener = urllib.request.build_opener(null_proxy_handler)\n",
    "urllib.request.install_opener(opener)"
   ]
  },
  {
   "cell_type": "markdown",
   "metadata": {},
   "source": [
    "#### 3.Timeout 设置\n",
    "urlopen的第三个参数就是timeout的设置，可以设置等待多久超时，为了解决一些网站实在响应过慢而造成的影响。\n",
    "\n",
    "如果第二个参数data为空那么要特别指定是timeout是多少，写明形参，如果data已经传入，则不必声明。"
   ]
  },
  {
   "cell_type": "code",
   "execution_count": 13,
   "metadata": {},
   "outputs": [
    {
     "ename": "URLError",
     "evalue": "<urlopen error _ssl.c:629: The handshake operation timed out>",
     "output_type": "error",
     "traceback": [
      "\u001b[0;31m---------------------------------------------------------------------------\u001b[0m",
      "\u001b[0;31mtimeout\u001b[0m                                   Traceback (most recent call last)",
      "\u001b[0;32mD:\\Anaconda3\\lib\\urllib\\request.py\u001b[0m in \u001b[0;36mdo_open\u001b[0;34m(self, http_class, req, **http_conn_args)\u001b[0m\n\u001b[1;32m   1253\u001b[0m             \u001b[1;32mtry\u001b[0m\u001b[1;33m:\u001b[0m\u001b[1;33m\u001b[0m\u001b[0m\n\u001b[0;32m-> 1254\u001b[0;31m                 \u001b[0mh\u001b[0m\u001b[1;33m.\u001b[0m\u001b[0mrequest\u001b[0m\u001b[1;33m(\u001b[0m\u001b[0mreq\u001b[0m\u001b[1;33m.\u001b[0m\u001b[0mget_method\u001b[0m\u001b[1;33m(\u001b[0m\u001b[1;33m)\u001b[0m\u001b[1;33m,\u001b[0m \u001b[0mreq\u001b[0m\u001b[1;33m.\u001b[0m\u001b[0mselector\u001b[0m\u001b[1;33m,\u001b[0m \u001b[0mreq\u001b[0m\u001b[1;33m.\u001b[0m\u001b[0mdata\u001b[0m\u001b[1;33m,\u001b[0m \u001b[0mheaders\u001b[0m\u001b[1;33m)\u001b[0m\u001b[1;33m\u001b[0m\u001b[0m\n\u001b[0m\u001b[1;32m   1255\u001b[0m             \u001b[1;32mexcept\u001b[0m \u001b[0mOSError\u001b[0m \u001b[1;32mas\u001b[0m \u001b[0merr\u001b[0m\u001b[1;33m:\u001b[0m \u001b[1;31m# timeout error\u001b[0m\u001b[1;33m\u001b[0m\u001b[0m\n",
      "\u001b[0;32mD:\\Anaconda3\\lib\\http\\client.py\u001b[0m in \u001b[0;36mrequest\u001b[0;34m(self, method, url, body, headers)\u001b[0m\n\u001b[1;32m   1105\u001b[0m         \u001b[1;34m\"\"\"Send a complete request to the server.\"\"\"\u001b[0m\u001b[1;33m\u001b[0m\u001b[0m\n\u001b[0;32m-> 1106\u001b[0;31m         \u001b[0mself\u001b[0m\u001b[1;33m.\u001b[0m\u001b[0m_send_request\u001b[0m\u001b[1;33m(\u001b[0m\u001b[0mmethod\u001b[0m\u001b[1;33m,\u001b[0m \u001b[0murl\u001b[0m\u001b[1;33m,\u001b[0m \u001b[0mbody\u001b[0m\u001b[1;33m,\u001b[0m \u001b[0mheaders\u001b[0m\u001b[1;33m)\u001b[0m\u001b[1;33m\u001b[0m\u001b[0m\n\u001b[0m\u001b[1;32m   1107\u001b[0m \u001b[1;33m\u001b[0m\u001b[0m\n",
      "\u001b[0;32mD:\\Anaconda3\\lib\\http\\client.py\u001b[0m in \u001b[0;36m_send_request\u001b[0;34m(self, method, url, body, headers)\u001b[0m\n\u001b[1;32m   1150\u001b[0m             \u001b[0mbody\u001b[0m \u001b[1;33m=\u001b[0m \u001b[0m_encode\u001b[0m\u001b[1;33m(\u001b[0m\u001b[0mbody\u001b[0m\u001b[1;33m,\u001b[0m \u001b[1;34m'body'\u001b[0m\u001b[1;33m)\u001b[0m\u001b[1;33m\u001b[0m\u001b[0m\n\u001b[0;32m-> 1151\u001b[0;31m         \u001b[0mself\u001b[0m\u001b[1;33m.\u001b[0m\u001b[0mendheaders\u001b[0m\u001b[1;33m(\u001b[0m\u001b[0mbody\u001b[0m\u001b[1;33m)\u001b[0m\u001b[1;33m\u001b[0m\u001b[0m\n\u001b[0m\u001b[1;32m   1152\u001b[0m \u001b[1;33m\u001b[0m\u001b[0m\n",
      "\u001b[0;32mD:\\Anaconda3\\lib\\http\\client.py\u001b[0m in \u001b[0;36mendheaders\u001b[0;34m(self, message_body)\u001b[0m\n\u001b[1;32m   1101\u001b[0m             \u001b[1;32mraise\u001b[0m \u001b[0mCannotSendHeader\u001b[0m\u001b[1;33m(\u001b[0m\u001b[1;33m)\u001b[0m\u001b[1;33m\u001b[0m\u001b[0m\n\u001b[0;32m-> 1102\u001b[0;31m         \u001b[0mself\u001b[0m\u001b[1;33m.\u001b[0m\u001b[0m_send_output\u001b[0m\u001b[1;33m(\u001b[0m\u001b[0mmessage_body\u001b[0m\u001b[1;33m)\u001b[0m\u001b[1;33m\u001b[0m\u001b[0m\n\u001b[0m\u001b[1;32m   1103\u001b[0m \u001b[1;33m\u001b[0m\u001b[0m\n",
      "\u001b[0;32mD:\\Anaconda3\\lib\\http\\client.py\u001b[0m in \u001b[0;36m_send_output\u001b[0;34m(self, message_body)\u001b[0m\n\u001b[1;32m    933\u001b[0m \u001b[1;33m\u001b[0m\u001b[0m\n\u001b[0;32m--> 934\u001b[0;31m         \u001b[0mself\u001b[0m\u001b[1;33m.\u001b[0m\u001b[0msend\u001b[0m\u001b[1;33m(\u001b[0m\u001b[0mmsg\u001b[0m\u001b[1;33m)\u001b[0m\u001b[1;33m\u001b[0m\u001b[0m\n\u001b[0m\u001b[1;32m    935\u001b[0m         \u001b[1;32mif\u001b[0m \u001b[0mmessage_body\u001b[0m \u001b[1;32mis\u001b[0m \u001b[1;32mnot\u001b[0m \u001b[1;32mNone\u001b[0m\u001b[1;33m:\u001b[0m\u001b[1;33m\u001b[0m\u001b[0m\n",
      "\u001b[0;32mD:\\Anaconda3\\lib\\http\\client.py\u001b[0m in \u001b[0;36msend\u001b[0;34m(self, data)\u001b[0m\n\u001b[1;32m    876\u001b[0m             \u001b[1;32mif\u001b[0m \u001b[0mself\u001b[0m\u001b[1;33m.\u001b[0m\u001b[0mauto_open\u001b[0m\u001b[1;33m:\u001b[0m\u001b[1;33m\u001b[0m\u001b[0m\n\u001b[0;32m--> 877\u001b[0;31m                 \u001b[0mself\u001b[0m\u001b[1;33m.\u001b[0m\u001b[0mconnect\u001b[0m\u001b[1;33m(\u001b[0m\u001b[1;33m)\u001b[0m\u001b[1;33m\u001b[0m\u001b[0m\n\u001b[0m\u001b[1;32m    878\u001b[0m             \u001b[1;32melse\u001b[0m\u001b[1;33m:\u001b[0m\u001b[1;33m\u001b[0m\u001b[0m\n",
      "\u001b[0;32mD:\\Anaconda3\\lib\\http\\client.py\u001b[0m in \u001b[0;36mconnect\u001b[0;34m(self)\u001b[0m\n\u001b[1;32m   1259\u001b[0m             self.sock = self._context.wrap_socket(self.sock,\n\u001b[0;32m-> 1260\u001b[0;31m                                                   server_hostname=server_hostname)\n\u001b[0m\u001b[1;32m   1261\u001b[0m             \u001b[1;32mif\u001b[0m \u001b[1;32mnot\u001b[0m \u001b[0mself\u001b[0m\u001b[1;33m.\u001b[0m\u001b[0m_context\u001b[0m\u001b[1;33m.\u001b[0m\u001b[0mcheck_hostname\u001b[0m \u001b[1;32mand\u001b[0m \u001b[0mself\u001b[0m\u001b[1;33m.\u001b[0m\u001b[0m_check_hostname\u001b[0m\u001b[1;33m:\u001b[0m\u001b[1;33m\u001b[0m\u001b[0m\n",
      "\u001b[0;32mD:\\Anaconda3\\lib\\ssl.py\u001b[0m in \u001b[0;36mwrap_socket\u001b[0;34m(self, sock, server_side, do_handshake_on_connect, suppress_ragged_eofs, server_hostname)\u001b[0m\n\u001b[1;32m    376\u001b[0m                          \u001b[0mserver_hostname\u001b[0m\u001b[1;33m=\u001b[0m\u001b[0mserver_hostname\u001b[0m\u001b[1;33m,\u001b[0m\u001b[1;33m\u001b[0m\u001b[0m\n\u001b[0;32m--> 377\u001b[0;31m                          _context=self)\n\u001b[0m\u001b[1;32m    378\u001b[0m \u001b[1;33m\u001b[0m\u001b[0m\n",
      "\u001b[0;32mD:\\Anaconda3\\lib\\ssl.py\u001b[0m in \u001b[0;36m__init__\u001b[0;34m(self, sock, keyfile, certfile, server_side, cert_reqs, ssl_version, ca_certs, do_handshake_on_connect, family, type, proto, fileno, suppress_ragged_eofs, npn_protocols, ciphers, server_hostname, _context)\u001b[0m\n\u001b[1;32m    751\u001b[0m                         \u001b[1;32mraise\u001b[0m \u001b[0mValueError\u001b[0m\u001b[1;33m(\u001b[0m\u001b[1;34m\"do_handshake_on_connect should not be specified for non-blocking sockets\"\u001b[0m\u001b[1;33m)\u001b[0m\u001b[1;33m\u001b[0m\u001b[0m\n\u001b[0;32m--> 752\u001b[0;31m                     \u001b[0mself\u001b[0m\u001b[1;33m.\u001b[0m\u001b[0mdo_handshake\u001b[0m\u001b[1;33m(\u001b[0m\u001b[1;33m)\u001b[0m\u001b[1;33m\u001b[0m\u001b[0m\n\u001b[0m\u001b[1;32m    753\u001b[0m \u001b[1;33m\u001b[0m\u001b[0m\n",
      "\u001b[0;32mD:\\Anaconda3\\lib\\ssl.py\u001b[0m in \u001b[0;36mdo_handshake\u001b[0;34m(self, block)\u001b[0m\n\u001b[1;32m    987\u001b[0m                 \u001b[0mself\u001b[0m\u001b[1;33m.\u001b[0m\u001b[0msettimeout\u001b[0m\u001b[1;33m(\u001b[0m\u001b[1;32mNone\u001b[0m\u001b[1;33m)\u001b[0m\u001b[1;33m\u001b[0m\u001b[0m\n\u001b[0;32m--> 988\u001b[0;31m             \u001b[0mself\u001b[0m\u001b[1;33m.\u001b[0m\u001b[0m_sslobj\u001b[0m\u001b[1;33m.\u001b[0m\u001b[0mdo_handshake\u001b[0m\u001b[1;33m(\u001b[0m\u001b[1;33m)\u001b[0m\u001b[1;33m\u001b[0m\u001b[0m\n\u001b[0m\u001b[1;32m    989\u001b[0m         \u001b[1;32mfinally\u001b[0m\u001b[1;33m:\u001b[0m\u001b[1;33m\u001b[0m\u001b[0m\n",
      "\u001b[0;32mD:\\Anaconda3\\lib\\ssl.py\u001b[0m in \u001b[0;36mdo_handshake\u001b[0;34m(self)\u001b[0m\n\u001b[1;32m    632\u001b[0m         \u001b[1;34m\"\"\"Start the SSL/TLS handshake.\"\"\"\u001b[0m\u001b[1;33m\u001b[0m\u001b[0m\n\u001b[0;32m--> 633\u001b[0;31m         \u001b[0mself\u001b[0m\u001b[1;33m.\u001b[0m\u001b[0m_sslobj\u001b[0m\u001b[1;33m.\u001b[0m\u001b[0mdo_handshake\u001b[0m\u001b[1;33m(\u001b[0m\u001b[1;33m)\u001b[0m\u001b[1;33m\u001b[0m\u001b[0m\n\u001b[0m\u001b[1;32m    634\u001b[0m         \u001b[1;32mif\u001b[0m \u001b[0mself\u001b[0m\u001b[1;33m.\u001b[0m\u001b[0mcontext\u001b[0m\u001b[1;33m.\u001b[0m\u001b[0mcheck_hostname\u001b[0m\u001b[1;33m:\u001b[0m\u001b[1;33m\u001b[0m\u001b[0m\n",
      "\u001b[0;31mtimeout\u001b[0m: _ssl.c:629: The handshake operation timed out",
      "\nDuring handling of the above exception, another exception occurred:\n",
      "\u001b[0;31mURLError\u001b[0m                                  Traceback (most recent call last)",
      "\u001b[0;32m<ipython-input-13-a196c4ca1e46>\u001b[0m in \u001b[0;36m<module>\u001b[0;34m()\u001b[0m\n\u001b[1;32m      1\u001b[0m \u001b[1;32mimport\u001b[0m \u001b[0murllib\u001b[0m\u001b[1;33m\u001b[0m\u001b[0m\n\u001b[0;32m----> 2\u001b[0;31m \u001b[0mresponse\u001b[0m \u001b[1;33m=\u001b[0m \u001b[0murllib\u001b[0m\u001b[1;33m.\u001b[0m\u001b[0mrequest\u001b[0m\u001b[1;33m.\u001b[0m\u001b[0murlopen\u001b[0m\u001b[1;33m(\u001b[0m\u001b[1;34m'https://www.baidu.com/'\u001b[0m\u001b[1;33m,\u001b[0m\u001b[0mtimeout\u001b[0m\u001b[1;33m=\u001b[0m\u001b[1;36m0.02\u001b[0m\u001b[1;33m)\u001b[0m\u001b[1;33m\u001b[0m\u001b[0m\n\u001b[0m\u001b[1;32m      3\u001b[0m \u001b[0mprint\u001b[0m\u001b[1;33m(\u001b[0m\u001b[0mresponse\u001b[0m\u001b[1;33m.\u001b[0m\u001b[0mread\u001b[0m\u001b[1;33m(\u001b[0m\u001b[1;33m)\u001b[0m\u001b[1;33m.\u001b[0m\u001b[0mdecode\u001b[0m\u001b[1;33m(\u001b[0m\u001b[1;34m'utf-8'\u001b[0m\u001b[1;33m)\u001b[0m\u001b[1;33m)\u001b[0m\u001b[1;33m\u001b[0m\u001b[0m\n",
      "\u001b[0;32mD:\\Anaconda3\\lib\\urllib\\request.py\u001b[0m in \u001b[0;36murlopen\u001b[0;34m(url, data, timeout, cafile, capath, cadefault, context)\u001b[0m\n\u001b[1;32m    161\u001b[0m     \u001b[1;32melse\u001b[0m\u001b[1;33m:\u001b[0m\u001b[1;33m\u001b[0m\u001b[0m\n\u001b[1;32m    162\u001b[0m         \u001b[0mopener\u001b[0m \u001b[1;33m=\u001b[0m \u001b[0m_opener\u001b[0m\u001b[1;33m\u001b[0m\u001b[0m\n\u001b[0;32m--> 163\u001b[0;31m     \u001b[1;32mreturn\u001b[0m \u001b[0mopener\u001b[0m\u001b[1;33m.\u001b[0m\u001b[0mopen\u001b[0m\u001b[1;33m(\u001b[0m\u001b[0murl\u001b[0m\u001b[1;33m,\u001b[0m \u001b[0mdata\u001b[0m\u001b[1;33m,\u001b[0m \u001b[0mtimeout\u001b[0m\u001b[1;33m)\u001b[0m\u001b[1;33m\u001b[0m\u001b[0m\n\u001b[0m\u001b[1;32m    164\u001b[0m \u001b[1;33m\u001b[0m\u001b[0m\n\u001b[1;32m    165\u001b[0m \u001b[1;32mdef\u001b[0m \u001b[0minstall_opener\u001b[0m\u001b[1;33m(\u001b[0m\u001b[0mopener\u001b[0m\u001b[1;33m)\u001b[0m\u001b[1;33m:\u001b[0m\u001b[1;33m\u001b[0m\u001b[0m\n",
      "\u001b[0;32mD:\\Anaconda3\\lib\\urllib\\request.py\u001b[0m in \u001b[0;36mopen\u001b[0;34m(self, fullurl, data, timeout)\u001b[0m\n\u001b[1;32m    464\u001b[0m             \u001b[0mreq\u001b[0m \u001b[1;33m=\u001b[0m \u001b[0mmeth\u001b[0m\u001b[1;33m(\u001b[0m\u001b[0mreq\u001b[0m\u001b[1;33m)\u001b[0m\u001b[1;33m\u001b[0m\u001b[0m\n\u001b[1;32m    465\u001b[0m \u001b[1;33m\u001b[0m\u001b[0m\n\u001b[0;32m--> 466\u001b[0;31m         \u001b[0mresponse\u001b[0m \u001b[1;33m=\u001b[0m \u001b[0mself\u001b[0m\u001b[1;33m.\u001b[0m\u001b[0m_open\u001b[0m\u001b[1;33m(\u001b[0m\u001b[0mreq\u001b[0m\u001b[1;33m,\u001b[0m \u001b[0mdata\u001b[0m\u001b[1;33m)\u001b[0m\u001b[1;33m\u001b[0m\u001b[0m\n\u001b[0m\u001b[1;32m    467\u001b[0m \u001b[1;33m\u001b[0m\u001b[0m\n\u001b[1;32m    468\u001b[0m         \u001b[1;31m# post-process response\u001b[0m\u001b[1;33m\u001b[0m\u001b[1;33m\u001b[0m\u001b[0m\n",
      "\u001b[0;32mD:\\Anaconda3\\lib\\urllib\\request.py\u001b[0m in \u001b[0;36m_open\u001b[0;34m(self, req, data)\u001b[0m\n\u001b[1;32m    482\u001b[0m         \u001b[0mprotocol\u001b[0m \u001b[1;33m=\u001b[0m \u001b[0mreq\u001b[0m\u001b[1;33m.\u001b[0m\u001b[0mtype\u001b[0m\u001b[1;33m\u001b[0m\u001b[0m\n\u001b[1;32m    483\u001b[0m         result = self._call_chain(self.handle_open, protocol, protocol +\n\u001b[0;32m--> 484\u001b[0;31m                                   '_open', req)\n\u001b[0m\u001b[1;32m    485\u001b[0m         \u001b[1;32mif\u001b[0m \u001b[0mresult\u001b[0m\u001b[1;33m:\u001b[0m\u001b[1;33m\u001b[0m\u001b[0m\n\u001b[1;32m    486\u001b[0m             \u001b[1;32mreturn\u001b[0m \u001b[0mresult\u001b[0m\u001b[1;33m\u001b[0m\u001b[0m\n",
      "\u001b[0;32mD:\\Anaconda3\\lib\\urllib\\request.py\u001b[0m in \u001b[0;36m_call_chain\u001b[0;34m(self, chain, kind, meth_name, *args)\u001b[0m\n\u001b[1;32m    442\u001b[0m         \u001b[1;32mfor\u001b[0m \u001b[0mhandler\u001b[0m \u001b[1;32min\u001b[0m \u001b[0mhandlers\u001b[0m\u001b[1;33m:\u001b[0m\u001b[1;33m\u001b[0m\u001b[0m\n\u001b[1;32m    443\u001b[0m             \u001b[0mfunc\u001b[0m \u001b[1;33m=\u001b[0m \u001b[0mgetattr\u001b[0m\u001b[1;33m(\u001b[0m\u001b[0mhandler\u001b[0m\u001b[1;33m,\u001b[0m \u001b[0mmeth_name\u001b[0m\u001b[1;33m)\u001b[0m\u001b[1;33m\u001b[0m\u001b[0m\n\u001b[0;32m--> 444\u001b[0;31m             \u001b[0mresult\u001b[0m \u001b[1;33m=\u001b[0m \u001b[0mfunc\u001b[0m\u001b[1;33m(\u001b[0m\u001b[1;33m*\u001b[0m\u001b[0margs\u001b[0m\u001b[1;33m)\u001b[0m\u001b[1;33m\u001b[0m\u001b[0m\n\u001b[0m\u001b[1;32m    445\u001b[0m             \u001b[1;32mif\u001b[0m \u001b[0mresult\u001b[0m \u001b[1;32mis\u001b[0m \u001b[1;32mnot\u001b[0m \u001b[1;32mNone\u001b[0m\u001b[1;33m:\u001b[0m\u001b[1;33m\u001b[0m\u001b[0m\n\u001b[1;32m    446\u001b[0m                 \u001b[1;32mreturn\u001b[0m \u001b[0mresult\u001b[0m\u001b[1;33m\u001b[0m\u001b[0m\n",
      "\u001b[0;32mD:\\Anaconda3\\lib\\urllib\\request.py\u001b[0m in \u001b[0;36mhttps_open\u001b[0;34m(self, req)\u001b[0m\n\u001b[1;32m   1295\u001b[0m         \u001b[1;32mdef\u001b[0m \u001b[0mhttps_open\u001b[0m\u001b[1;33m(\u001b[0m\u001b[0mself\u001b[0m\u001b[1;33m,\u001b[0m \u001b[0mreq\u001b[0m\u001b[1;33m)\u001b[0m\u001b[1;33m:\u001b[0m\u001b[1;33m\u001b[0m\u001b[0m\n\u001b[1;32m   1296\u001b[0m             return self.do_open(http.client.HTTPSConnection, req,\n\u001b[0;32m-> 1297\u001b[0;31m                 context=self._context, check_hostname=self._check_hostname)\n\u001b[0m\u001b[1;32m   1298\u001b[0m \u001b[1;33m\u001b[0m\u001b[0m\n\u001b[1;32m   1299\u001b[0m         \u001b[0mhttps_request\u001b[0m \u001b[1;33m=\u001b[0m \u001b[0mAbstractHTTPHandler\u001b[0m\u001b[1;33m.\u001b[0m\u001b[0mdo_request_\u001b[0m\u001b[1;33m\u001b[0m\u001b[0m\n",
      "\u001b[0;32mD:\\Anaconda3\\lib\\urllib\\request.py\u001b[0m in \u001b[0;36mdo_open\u001b[0;34m(self, http_class, req, **http_conn_args)\u001b[0m\n\u001b[1;32m   1254\u001b[0m                 \u001b[0mh\u001b[0m\u001b[1;33m.\u001b[0m\u001b[0mrequest\u001b[0m\u001b[1;33m(\u001b[0m\u001b[0mreq\u001b[0m\u001b[1;33m.\u001b[0m\u001b[0mget_method\u001b[0m\u001b[1;33m(\u001b[0m\u001b[1;33m)\u001b[0m\u001b[1;33m,\u001b[0m \u001b[0mreq\u001b[0m\u001b[1;33m.\u001b[0m\u001b[0mselector\u001b[0m\u001b[1;33m,\u001b[0m \u001b[0mreq\u001b[0m\u001b[1;33m.\u001b[0m\u001b[0mdata\u001b[0m\u001b[1;33m,\u001b[0m \u001b[0mheaders\u001b[0m\u001b[1;33m)\u001b[0m\u001b[1;33m\u001b[0m\u001b[0m\n\u001b[1;32m   1255\u001b[0m             \u001b[1;32mexcept\u001b[0m \u001b[0mOSError\u001b[0m \u001b[1;32mas\u001b[0m \u001b[0merr\u001b[0m\u001b[1;33m:\u001b[0m \u001b[1;31m# timeout error\u001b[0m\u001b[1;33m\u001b[0m\u001b[0m\n\u001b[0;32m-> 1256\u001b[0;31m                 \u001b[1;32mraise\u001b[0m \u001b[0mURLError\u001b[0m\u001b[1;33m(\u001b[0m\u001b[0merr\u001b[0m\u001b[1;33m)\u001b[0m\u001b[1;33m\u001b[0m\u001b[0m\n\u001b[0m\u001b[1;32m   1257\u001b[0m             \u001b[0mr\u001b[0m \u001b[1;33m=\u001b[0m \u001b[0mh\u001b[0m\u001b[1;33m.\u001b[0m\u001b[0mgetresponse\u001b[0m\u001b[1;33m(\u001b[0m\u001b[1;33m)\u001b[0m\u001b[1;33m\u001b[0m\u001b[0m\n\u001b[1;32m   1258\u001b[0m         \u001b[1;32mexcept\u001b[0m\u001b[1;33m:\u001b[0m\u001b[1;33m\u001b[0m\u001b[0m\n",
      "\u001b[0;31mURLError\u001b[0m: <urlopen error _ssl.c:629: The handshake operation timed out>"
     ]
    }
   ],
   "source": [
    "import urllib\n",
    "response = urllib.request.urlopen('https://www.baidu.com/',timeout=0.02)\n",
    "print(response.read().decode('utf-8'))"
   ]
  },
  {
   "cell_type": "markdown",
   "metadata": {},
   "source": [
    "\n",
    "\n",
    "\n",
    "\n",
    "\n",
    "\n",
    "\n",
    "\n",
    "\n",
    "# 2.Requests库"
   ]
  },
  {
   "cell_type": "markdown",
   "metadata": {},
   "source": [
    "### 2.1  引入"
   ]
  },
  {
   "cell_type": "code",
   "execution_count": 14,
   "metadata": {},
   "outputs": [
    {
     "name": "stdout",
     "output_type": "stream",
     "text": [
      "200\n",
      "UTF-8\n"
     ]
    }
   ],
   "source": [
    "import requests\n",
    "\n",
    "r = requests.get('http://cuiqingcai.com')\n",
    "\n",
    "print(r.status_code)\n",
    "print(r.encoding)\n",
    "#200 成功"
   ]
  },
  {
   "cell_type": "code",
   "execution_count": 16,
   "metadata": {},
   "outputs": [],
   "source": [
    "#print(r.text)       ## 代码请求了本站点的网址，然后打印出了返回结果的状态码，编码方式，html代码等内容"
   ]
  },
  {
   "cell_type": "markdown",
   "metadata": {},
   "source": [
    "###  2.2 基本请求\n",
    "requests库提供了http所有的基本请求方式：\n",
    "\n",
    "练习页面： http://httpbin.org/"
   ]
  },
  {
   "cell_type": "raw",
   "metadata": {},
   "source": [
    "r = requests.get('http://httpbin.org/get')\n",
    "r = requests.post(\"http://httpbin.org/post\")\n",
    "r = requests.put(\"http://httpbin.org/put\")\n",
    "r = requests.delete(\"http://httpbin.org/delete\")\n",
    "r = requests.head(\"http://httpbin.org/get\")\n",
    "r = requests.options(\"http://httpbin.org/get\")"
   ]
  },
  {
   "cell_type": "markdown",
   "metadata": {},
   "source": [
    "#### 基本GET请求\n",
    "最基本的GET请求可以直接用get方法"
   ]
  },
  {
   "cell_type": "code",
   "execution_count": 17,
   "metadata": {
    "collapsed": true
   },
   "outputs": [],
   "source": [
    "r = requests.get(\"http://httpbin.org/get\")"
   ]
  },
  {
   "cell_type": "code",
   "execution_count": 18,
   "metadata": {},
   "outputs": [
    {
     "data": {
      "text/plain": [
       "b'{\\n  \"args\": {}, \\n  \"headers\": {\\n    \"Accept\": \"*/*\", \\n    \"Accept-Encoding\": \"gzip, deflate\", \\n    \"Connection\": \"close\", \\n    \"Host\": \"httpbin.org\", \\n    \"User-Agent\": \"python-requests/2.18.4\"\\n  }, \\n  \"origin\": \"219.228.146.41\", \\n  \"url\": \"http://httpbin.org/get\"\\n}\\n'"
      ]
     },
     "execution_count": 18,
     "metadata": {},
     "output_type": "execute_result"
    }
   ],
   "source": [
    "r.content        ## 响应内容"
   ]
  },
  {
   "cell_type": "code",
   "execution_count": 19,
   "metadata": {},
   "outputs": [
    {
     "data": {
      "text/plain": [
       "True"
      ]
     },
     "execution_count": 19,
     "metadata": {},
     "output_type": "execute_result"
    }
   ],
   "source": [
    "r.ok           ## 响应内友好提示。访问无异常，为True，否则，为False"
   ]
  },
  {
   "cell_type": "code",
   "execution_count": 20,
   "metadata": {},
   "outputs": [
    {
     "data": {
      "text/plain": [
       "'http://httpbin.org/get'"
      ]
     },
     "execution_count": 20,
     "metadata": {},
     "output_type": "execute_result"
    }
   ],
   "source": [
    "r.url         ## 访问URL"
   ]
  },
  {
   "cell_type": "code",
   "execution_count": 21,
   "metadata": {
    "collapsed": true
   },
   "outputs": [],
   "source": [
    "r.encoding     ## headers里面的charset"
   ]
  },
  {
   "cell_type": "code",
   "execution_count": 22,
   "metadata": {},
   "outputs": [
    {
     "data": {
      "text/plain": [
       "'ascii'"
      ]
     },
     "execution_count": 22,
     "metadata": {},
     "output_type": "execute_result"
    }
   ],
   "source": [
    "r.apparent_encoding        ## headers里面发现不了charset ，则会根据网页内容自己分析"
   ]
  },
  {
   "cell_type": "code",
   "execution_count": 23,
   "metadata": {},
   "outputs": [
    {
     "name": "stdout",
     "output_type": "stream",
     "text": [
      "{'Access-Control-Allow-Origin': '*', 'Content-Length': '267', 'Via': '1.1 vegur', 'Content-Type': 'application/json', 'Connection': 'keep-alive', 'Access-Control-Allow-Credentials': 'true', 'Date': 'Sun, 18 Nov 2018 06:19:20 GMT', 'Server': 'gunicorn/19.9.0'}\n",
      "KeysView({'Access-Control-Allow-Origin': '*', 'Content-Length': '267', 'Via': '1.1 vegur', 'Content-Type': 'application/json', 'Connection': 'keep-alive', 'Access-Control-Allow-Credentials': 'true', 'Date': 'Sun, 18 Nov 2018 06:19:20 GMT', 'Server': 'gunicorn/19.9.0'})\n",
      "Sun, 18 Nov 2018 06:19:20 GMT\n"
     ]
    }
   ],
   "source": [
    "print(r.headers)            ## HTTP Headers内容\n",
    "print(r.headers.keys())\n",
    "print(r.headers['Date'])"
   ]
  },
  {
   "cell_type": "code",
   "execution_count": 24,
   "metadata": {},
   "outputs": [
    {
     "data": {
      "text/plain": [
       "{'args': {},\n",
       " 'headers': {'Accept': '*/*',\n",
       "  'Accept-Encoding': 'gzip, deflate',\n",
       "  'Connection': 'close',\n",
       "  'Host': 'httpbin.org',\n",
       "  'User-Agent': 'python-requests/2.18.4'},\n",
       " 'origin': '219.228.146.41',\n",
       " 'url': 'http://httpbin.org/get'}"
      ]
     },
     "execution_count": 24,
     "metadata": {},
     "output_type": "execute_result"
    }
   ],
   "source": [
    "r.json()               ## 转化成json格式输出,json类似于字典"
   ]
  },
  {
   "cell_type": "markdown",
   "metadata": {},
   "source": [
    "#### 响应json内容\n",
    "Requests中有一个内置的JSON解码器，可以处理JSON数据\n",
    "![JSON](http://d.pr/i/qq7B.jpg)"
   ]
  },
  {
   "cell_type": "code",
   "execution_count": 26,
   "metadata": {},
   "outputs": [
    {
     "name": "stdout",
     "output_type": "stream",
     "text": [
      "<class 'dict'>\n",
      "{'documentation_url': 'https://developer.github.com/v3/activity/events/#list-public-events', 'message': 'Hello there, wayfaring stranger. If you’re reading this then you probably didn’t see our blog post a couple of years back announcing that this API would go away: http://git.io/17AROg Fear not, you should be able to get what you need from the shiny new Events API instead.'}\n"
     ]
    }
   ],
   "source": [
    "import requests\n",
    "url='https://github.com/timeline.json'\n",
    "html_json = requests.get(url).json()\n",
    "print(type(html_json))\n",
    "print(html_json)"
   ]
  },
  {
   "cell_type": "markdown",
   "metadata": {},
   "source": [
    "#### 传headers参数"
   ]
  },
  {
   "cell_type": "code",
   "execution_count": 27,
   "metadata": {},
   "outputs": [
    {
     "name": "stdout",
     "output_type": "stream",
     "text": [
      "http://httpbin.org/get?key1=value1&key2=value2\n"
     ]
    }
   ],
   "source": [
    "import requests\n",
    "\n",
    "payload = {'key1': 'value1', 'key2': 'value2'}\n",
    "headers = {'content-type': 'application/json'}\n",
    "r = requests.get(\"http://httpbin.org/get\", params=payload, headers=headers)     ## 通过headers参数可以增加请求头中的headers信息\n",
    "print(r.url)"
   ]
  },
  {
   "cell_type": "markdown",
   "metadata": {},
   "source": [
    "基本POST请求\n",
    "对于 POST 请求来说，一般需要为它增加一些参数，最基本的传参方法可以利用 data 这个参数。"
   ]
  },
  {
   "cell_type": "code",
   "execution_count": 28,
   "metadata": {},
   "outputs": [
    {
     "name": "stdout",
     "output_type": "stream",
     "text": [
      "{\n",
      "  \"args\": {}, \n",
      "  \"data\": \"\", \n",
      "  \"files\": {}, \n",
      "  \"form\": {\n",
      "    \"key1\": \"value1\", \n",
      "    \"key2\": \"value2\"\n",
      "  }, \n",
      "  \"headers\": {\n",
      "    \"Accept\": \"*/*\", \n",
      "    \"Accept-Encoding\": \"gzip, deflate\", \n",
      "    \"Connection\": \"close\", \n",
      "    \"Content-Length\": \"23\", \n",
      "    \"Content-Type\": \"application/x-www-form-urlencoded\", \n",
      "    \"Host\": \"httpbin.org\", \n",
      "    \"User-Agent\": \"python-requests/2.18.4\"\n",
      "  }, \n",
      "  \"json\": null, \n",
      "  \"origin\": \"219.228.146.41\", \n",
      "  \"url\": \"http://httpbin.org/post\"\n",
      "}\n",
      "\n"
     ]
    }
   ],
   "source": [
    "import requests\n",
    "\n",
    "payload = {'key1': 'value1', 'key2': 'value2'}\n",
    "r = requests.post(\"http://httpbin.org/post\", data=payload)\n",
    "print(r.text)"
   ]
  },
  {
   "cell_type": "markdown",
   "metadata": {},
   "source": [
    "有时候我们需要传送的信息不是表单形式的，需要我们传JSON格式的数据过去，可以用 json.dumps() 方法把表单数据序列化。"
   ]
  },
  {
   "cell_type": "code",
   "execution_count": 5,
   "metadata": {},
   "outputs": [
    {
     "name": "stdout",
     "output_type": "stream",
     "text": [
      "{\n",
      "  \"args\": {}, \n",
      "  \"data\": \"{\\\"some\\\": \\\"data\\\"}\", \n",
      "  \"files\": {}, \n",
      "  \"form\": {}, \n",
      "  \"headers\": {\n",
      "    \"Accept\": \"*/*\", \n",
      "    \"Accept-Encoding\": \"gzip, deflate\", \n",
      "    \"Content-Length\": \"16\", \n",
      "    \"Host\": \"httpbin.org\", \n",
      "    \"User-Agent\": \"python-requests/2.21.0\"\n",
      "  }, \n",
      "  \"json\": {\n",
      "    \"some\": \"data\"\n",
      "  }, \n",
      "  \"origin\": \"101.84.39.161, 101.84.39.161\", \n",
      "  \"url\": \"https://httpbin.org/post\"\n",
      "}\n",
      "\n"
     ]
    }
   ],
   "source": [
    "import json\n",
    "import requests\n",
    "\n",
    "url = 'http://httpbin.org/post'\n",
    "payload = {'some': 'data'}\n",
    "r = requests.post(url, data=json.dumps(payload))  \n",
    "#json.dumps()用于将dict类型的数据转成str，因为如果直接将dict类型的数据写入json文件中会发生报错，因此在将数据写入时需要用到该函数。\n",
    "print(r.text)"
   ]
  },
  {
   "cell_type": "markdown",
   "metadata": {},
   "source": [
    "### 2.3 Cookies\n",
    "如果一个响应中包含了cookie，那么我们可以利用 cookies 变量来拿到（判断新老客户，保存密码）\n",
    "\n",
    "Cookie是由服务器端生成，发送给User-Agent,浏览器会将Cookie的key/value保存到某个目录下的文本文件内，下次请求同一网站时就发送该Cookie给服务器"
   ]
  },
  {
   "cell_type": "code",
   "execution_count": 30,
   "metadata": {},
   "outputs": [
    {
     "name": "stdout",
     "output_type": "stream",
     "text": [
      "<RequestsCookieJar[<Cookie BDORZ=27315 for .baidu.com/>]>\n",
      "<bound method RequestsCookieJar.get of <RequestsCookieJar[Cookie(version=0, name='BDORZ', value='27315', port=None, port_specified=False, domain='.baidu.com', domain_specified=True, domain_initial_dot=True, path='/', path_specified=True, secure=False, expires=1542608814, discard=False, comment=None, comment_url=None, rest={}, rfc2109=False)]>>\n"
     ]
    }
   ],
   "source": [
    "import requests\n",
    "\n",
    "url = 'http://www.baidu.com'\n",
    "r = requests.get(url)\n",
    "print(r.cookies)     #获取cookie\n",
    "print(r.cookies.get)"
   ]
  },
  {
   "cell_type": "markdown",
   "metadata": {},
   "source": [
    "另外可以利用 cookies 变量来向服务器发送 cookies 信息"
   ]
  },
  {
   "cell_type": "code",
   "execution_count": 31,
   "metadata": {},
   "outputs": [
    {
     "name": "stdout",
     "output_type": "stream",
     "text": [
      "{\n",
      "  \"cookies\": {\n",
      "    \"cookies_are\": \"working\"\n",
      "  }\n",
      "}\n",
      "\n"
     ]
    }
   ],
   "source": [
    "import requests\n",
    "\n",
    "url = 'http://httpbin.org/cookies'\n",
    "cookies = dict(cookies_are='working')\n",
    "r = requests.get(url, cookies=cookies)\n",
    "print(r.text)"
   ]
  },
  {
   "cell_type": "code",
   "execution_count": 32,
   "metadata": {},
   "outputs": [
    {
     "name": "stdout",
     "output_type": "stream",
     "text": [
      "ISO-8859-1\n"
     ]
    }
   ],
   "source": [
    "#-*- coding:utf-8 -*-\n",
    "import requests\n",
    "\n",
    "url = 'http://vip.baidu.com/pcui/show/ucenterindex?vip_frm=search_account'\n",
    "cookies = {'Cookies':'ispeed_lsm=0; BDUSS=pYQWd2MnFTZGlwWVpBMnNaaElPYlBONkd-R2s3TEZ5NGRyRlh5Vko5S35PajFZSVFBQUFBJCQAAAAAAAAAAAEAAACAgo1dAAAAAAAAAAAAAAAAAAAAAAAAAAAAAAAAAAAAAAAAAAAAAAAAAAAAAAAAAAAAAAAAAAAAAAAAAAAAAAAAAAAAAL-tFVi~rRVYVm; BAIDUID=DCC8BA7CBF7A0244980CBE90DB2E76B5:FG=1; PSTM=1478053533; BDRCVFR[lMjvlWjDcRC]=mk3SLVN4HKm; BD_CK_SAM=1; PSINO=5; H_PS_PSSID=17944; BIDUPSID=3ACA6C4A9617AA292CDCB1EC2F3E4619; BD_UPN=12314753; H_PS_645EC=bcdeEU5%2Bvvlz0QwdkqJwdbZbuUOUiWfgLpz%2BcHKQErm7W23DCy%2BnJhGcU84iL4Nz%2FioTp992; BDSVRTM=0'}\n",
    "r = requests.get(url, cookies=cookies)\n",
    "print(r.encoding)\n",
    "#print(r.text.encode('ISO-8859-1'))"
   ]
  },
  {
   "cell_type": "markdown",
   "metadata": {},
   "source": [
    "### 2.4 超时配置"
   ]
  },
  {
   "cell_type": "code",
   "execution_count": 35,
   "metadata": {},
   "outputs": [
    {
     "data": {
      "text/plain": [
       "<Response [200]>"
      ]
     },
     "execution_count": 35,
     "metadata": {},
     "output_type": "execute_result"
    }
   ],
   "source": [
    "requests.get('http://github.com', timeout=0.5)           ## 利用 timeout 变量来配置最大请求时间\n",
    "#timeout修改大一点不会出错"
   ]
  },
  {
   "cell_type": "markdown",
   "metadata": {},
   "source": [
    "### 2.5 会话对象\n",
    "\n",
    "在以上的请求中，每次请求其实都相当于发起了一个新的请求。\n",
    "也就是相当于我们每个请求都用了不同的浏览器单独打开的效果。也就是它并不是指的一个会话，即使请求的是同一个网址。比如："
   ]
  },
  {
   "cell_type": "code",
   "execution_count": 36,
   "metadata": {},
   "outputs": [
    {
     "name": "stdout",
     "output_type": "stream",
     "text": [
      "{\n",
      "  \"cookies\": {}\n",
      "}\n",
      "\n"
     ]
    }
   ],
   "source": [
    "import requests\n",
    "\n",
    "requests.get('http://httpbin.org/cookies/set/sessioncookie/123456789')\n",
    "r = requests.get(\"http://httpbin.org/cookies\")\n",
    "print(r.text)"
   ]
  },
  {
   "cell_type": "markdown",
   "metadata": {},
   "source": [
    "不在一个会话中，无法获取 cookies，那么在一些站点中，我们需要保持一个持久的会话怎么办呢？就像用一个浏览器逛淘宝一样，在不同的选项卡之间跳转，这样其实就是建立了一个长久会话。"
   ]
  },
  {
   "cell_type": "code",
   "execution_count": 37,
   "metadata": {},
   "outputs": [
    {
     "name": "stdout",
     "output_type": "stream",
     "text": [
      "{\n",
      "  \"cookies\": {\n",
      "    \"sessioncookie\": \"123456789\"\n",
      "  }\n",
      "}\n",
      "\n"
     ]
    }
   ],
   "source": [
    "import requests\n",
    "\n",
    "s = requests.Session()\n",
    "s.get('http://httpbin.org/cookies/set/sessioncookie/123456789')          ## 在这里我们请求了两次，一次是设置 cookies，一次是获得 cookies\n",
    "r = s.get(\"http://httpbin.org/cookies\")\n",
    "print(r.text)"
   ]
  },
  {
   "cell_type": "code",
   "execution_count": 35,
   "metadata": {},
   "outputs": [
    {
     "name": "stdout",
     "output_type": "stream",
     "text": [
      "b'<?xml version=\"1.0\" encoding=\"iso-8859-1\"?>\\n<!DOCTYPE html PUBLIC \"-//W3C//DTD XHTML 1.0 Transitional//EN\"\\n         \"http://www.w3.org/TR/xhtml1/DTD/xhtml1-transitional.dtd\">\\n<html xmlns=\"http://www.w3.org/1999/xhtml\" xml:lang=\"en\" lang=\"en\">\\n\\t<head>\\n\\t\\t<title>404 - Not Found</title>\\n\\t</head>\\n\\t<body>\\n\\t\\t<h1>404 - Not Found</h1>\\n\\t</body>\\n</html>\\n'\n"
     ]
    }
   ],
   "source": [
    "#-*- coding:utf-8 -*-\n",
    "import requests\n",
    "s = requests.Session()\n",
    "url1 = 'http://www.exanple.com/login'#登陆地址\n",
    "url2 = \"http://www.example.com/main\"#需要登陆才能访问的地址\n",
    "data={\"user\":\"user\",\"password\":\"pass\"}\n",
    "headers = { \"Accept\":\"text/html,application/xhtml+xml,application/xml;\",\n",
    "            \"Accept-Encoding\":\"gzip\",\n",
    "            \"Accept-Language\":\"zh-CN,zh;q=0.8\",\n",
    "            \"Referer\":\"http://www.example.com/\",\n",
    "            \"User-Agent\":\"Mozilla/5.0 (Windows NT 6.1; WOW64) AppleWebKit/537.36 (KHTML, like Gecko) Chrome/42.0.2311.90 Safari/537.36\"\n",
    "            }\n",
    "\n",
    "prepped1 = requests.Request('POST', url1,\n",
    "    data=data,\n",
    "    headers=headers\n",
    ").prepare()\n",
    "s.send(prepped1)\n",
    "prepare2 = requests.Request('POST', url2,\n",
    "    headers=headers\n",
    ").prepare()\n",
    "res2 = s.send(prepare2)\n",
    "\n",
    "print(res2.content)"
   ]
  },
  {
   "cell_type": "markdown",
   "metadata": {},
   "source": [
    "### 2.6 代理\n",
    "可以通过为任意请求方法提供 proxies 参数来配置单个请求\n"
   ]
  },
  {
   "cell_type": "code",
   "execution_count": 36,
   "metadata": {},
   "outputs": [
    {
     "name": "stdout",
     "output_type": "stream",
     "text": [
      "{\n",
      "  \"args\": {}, \n",
      "  \"data\": \"\", \n",
      "  \"files\": {}, \n",
      "  \"form\": {}, \n",
      "  \"headers\": {\n",
      "    \"Accept\": \"*/*\", \n",
      "    \"Accept-Encoding\": \"gzip, deflate\", \n",
      "    \"Connection\": \"close\", \n",
      "    \"Content-Length\": \"0\", \n",
      "    \"Host\": \"httpbin.org\", \n",
      "    \"User-Agent\": \"python-requests/2.18.4\"\n",
      "  }, \n",
      "  \"json\": null, \n",
      "  \"origin\": \"223.104.212.178\", \n",
      "  \"url\": \"http://httpbin.org/post\"\n",
      "}\n",
      "\n"
     ]
    }
   ],
   "source": [
    "import requests\n",
    "\n",
    "proxies = {\n",
    "  \"https\": \"http://41.118.132.69:4433\"\n",
    "}\n",
    "r = requests.post(\"http://httpbin.org/post\", proxies=proxies)\n",
    "print(r.text)"
   ]
  },
  {
   "cell_type": "markdown",
   "metadata": {},
   "source": [
    "# 3.Cookie"
   ]
  },
  {
   "cell_type": "markdown",
   "metadata": {},
   "source": [
    "Cookie，指某些网站为了辨别用户身份、进行session跟踪而储存在用户本地终端上的数据（通常经过加密）\n",
    "\n",
    "比如说有些网站需要登录后才能访问某个页面，在登录之前，你想抓取某个页面内容是不允许的。那么我们可以利用Urllib2库保存我们登录的Cookie，然后再抓取其他页面就达到目的了。\n",
    "\n",
    "在此之前呢，我们必须先介绍一个opener的概念。\n",
    "\n",
    "当用户通过浏览器首次访问一个域名时，访问的WEB服务器会给客户端发送数据，以保持WEB服务器与客户端之间的状态保持，这些数据就是Cookie，它是 Internet 站点创建的 ,为了辨别用户身份而储存在用户本地终端上的数据，Cookie中的信息一般都是经过加密的，Cookie存在缓存中或者硬盘中，在硬盘中的是一些小文本文件,当你访问该网站时，就会读取对应网站的Cookie信息，Cookie有效地提升了我们的上网体验。"
   ]
  },
  {
   "cell_type": "markdown",
   "metadata": {},
   "source": [
    "### 3. 1 Opener\n",
    "当你获取一个URL你使用一个opener(一个urllib2.OpenerDirector的实例)。在前面，我们都是使用的默认的opener，也就是urlopen。它是一个特殊的opener，可以理解成opener的一个特殊实例，传入的参数仅仅是url，data，timeout。\n",
    "\n",
    "如果我们需要用到Cookie，只用这个opener是不能达到目的的，所以我们需要创建更一般的opener来实现对Cookie的设置。"
   ]
  },
  {
   "cell_type": "markdown",
   "metadata": {},
   "source": [
    "### 3.2 CookieJar\n",
    "cookielib模块的主要作用是提供可存储cookie的对象，以便于与urllib2模块配合使用来访问Internet资源。Cookielib模块非常强大，我们可以利用本模块的CookieJar类的对象来捕获cookie并在后续连接请求时重新发送，比如可以实现模拟登录功能。该模块主要的对象有CookieJar、FileCookieJar、MozillaCookieJar、LWPCookieJar。\n",
    "\n",
    "它们的关系：CookieJar —-派生—->FileCookieJar —-派生—–>MozillaCookieJar和LWPCookieJar"
   ]
  },
  {
   "cell_type": "markdown",
   "metadata": {},
   "source": [
    "#### 1）获取Cookie保存到变量\n",
    "首先，我们先利用CookieJar对象实现获取cookie的功能，存储到变量中"
   ]
  },
  {
   "cell_type": "code",
   "execution_count": 39,
   "metadata": {},
   "outputs": [
    {
     "name": "stdout",
     "output_type": "stream",
     "text": [
      "<http.client.HTTPResponse object at 0x0000020C2CCBCE80>\n",
      "Name = BAIDUID\n",
      "Value = 80F7D2BFEC4B8A69AD49F860E423BA2A:FG=1\n",
      "Name = BIDUPSID\n",
      "Value = 80F7D2BFEC4B8A69AD49F860E423BA2A\n",
      "Name = H_PS_PSSID\n",
      "Value = 1460_21110\n",
      "Name = PSTM\n",
      "Value = 1542524089\n",
      "Name = delPer\n",
      "Value = 0\n",
      "Name = BDSVRTM\n",
      "Value = 0\n",
      "Name = BD_HOME\n",
      "Value = 0\n"
     ]
    }
   ],
   "source": [
    "import urllib\n",
    "import http.cookiejar\n",
    "\n",
    "#声明一个CookieJar对象实例来保存cookie\n",
    "cookie = http.cookiejar.CookieJar()\n",
    "\n",
    "#利用urllib2库的HTTPCookieProcessor对象来创建cookie处理器\n",
    "handler=urllib.request.HTTPCookieProcessor(cookie)\n",
    "\n",
    "#通过handler来构建opener\n",
    "opener = urllib.request.build_opener(handler)\n",
    "\n",
    "#此处的open方法同urllib2的urlopen方法，也可以传入request\n",
    "response = opener.open('http://www.baidu.com')\n",
    "print(response)\n",
    "for item in cookie:\n",
    "    print('Name = '+item.name)\n",
    "    print('Value = '+item.value)"
   ]
  },
  {
   "cell_type": "markdown",
   "metadata": {},
   "source": [
    "#### 2）保存Cookie到文件\n",
    "在上面的方法中，我们将cookie保存到了cookie这个变量中，如果我们想将cookie保存到文件中该怎么做呢？这时，我们就要用到\n",
    "\n",
    "FileCookieJar这个对象了，在这里我们使用它的子类MozillaCookieJar来实现Cookie的保存"
   ]
  },
  {
   "cell_type": "code",
   "execution_count": 38,
   "metadata": {
    "collapsed": true
   },
   "outputs": [],
   "source": [
    "#设置保存cookie的文件，同级目录下的cookie.txt\n",
    "filename = 'baidu.txt'\n",
    "#声明一个MozillaCookieJar对象实例来保存cookie，之后写入文件\n",
    "cookie = http.cookiejar.MozillaCookieJar(filename)\n",
    "#利用urllib2库的HTTPCookieProcessor对象来创建cookie处理器\n",
    "handler = urllib.request.HTTPCookieProcessor(cookie)\n",
    "#通过handler来构建opener\n",
    "opener = urllib.request.build_opener(handler)\n",
    "#创建一个请求，原理同urllib2的urlopen\n",
    "response = opener.open(\"http://www.baidu.com\")\n",
    "#保存cookie到文件\n",
    "cookie.save(ignore_discard=True, ignore_expires=True)"
   ]
  },
  {
   "cell_type": "markdown",
   "metadata": {},
   "source": [
    "ignore_discard的意思是即使cookies将被丢弃也将它保存下来  \n",
    "ignore_expires的意思是如果在该文件中cookies已经存在，则覆盖原文件写入，在这里，我们将这两个全部设置为True。"
   ]
  },
  {
   "cell_type": "markdown",
   "metadata": {},
   "source": [
    "#### 3）从文件中获取Cookie并访问¶"
   ]
  },
  {
   "cell_type": "code",
   "execution_count": 39,
   "metadata": {
    "collapsed": true
   },
   "outputs": [],
   "source": [
    "#创建MozillaCookieJar实例对象\n",
    "cookie = http.cookiejar.MozillaCookieJar()\n",
    "#从文件中读取cookie内容到变量\n",
    "cookie.load('baidu.txt', ignore_discard=True, ignore_expires=True)\n",
    "#创建请求的request\n",
    "req = urllib.request.Request(\"http://www.baidu.com\")\n",
    "#利用urllib2的build_opener方法创建一个opener\n",
    "opener = urllib.request.build_opener(urllib.request.HTTPCookieProcessor(cookie))\n",
    "response = opener.open(req)\n",
    "#print(response.read())"
   ]
  },
  {
   "cell_type": "markdown",
   "metadata": {},
   "source": [
    "### 以豆瓣为例，手动获取cookie，并登录，抓取"
   ]
  },
  {
   "cell_type": "code",
   "execution_count": 6,
   "metadata": {},
   "outputs": [
    {
     "ename": "URLError",
     "evalue": "<urlopen error [Errno 61] Connection refused>",
     "output_type": "error",
     "traceback": [
      "\u001b[0;31m---------------------------------------------------------------------------\u001b[0m",
      "\u001b[0;31mConnectionRefusedError\u001b[0m                    Traceback (most recent call last)",
      "\u001b[0;32m/anaconda3/lib/python3.7/urllib/request.py\u001b[0m in \u001b[0;36mdo_open\u001b[0;34m(self, http_class, req, **http_conn_args)\u001b[0m\n\u001b[1;32m   1316\u001b[0m                 h.request(req.get_method(), req.selector, req.data, headers,\n\u001b[0;32m-> 1317\u001b[0;31m                           encode_chunked=req.has_header('Transfer-encoding'))\n\u001b[0m\u001b[1;32m   1318\u001b[0m             \u001b[0;32mexcept\u001b[0m \u001b[0mOSError\u001b[0m \u001b[0;32mas\u001b[0m \u001b[0merr\u001b[0m\u001b[0;34m:\u001b[0m \u001b[0;31m# timeout error\u001b[0m\u001b[0;34m\u001b[0m\u001b[0;34m\u001b[0m\u001b[0m\n",
      "\u001b[0;32m/anaconda3/lib/python3.7/http/client.py\u001b[0m in \u001b[0;36mrequest\u001b[0;34m(self, method, url, body, headers, encode_chunked)\u001b[0m\n\u001b[1;32m   1228\u001b[0m         \u001b[0;34m\"\"\"Send a complete request to the server.\"\"\"\u001b[0m\u001b[0;34m\u001b[0m\u001b[0;34m\u001b[0m\u001b[0m\n\u001b[0;32m-> 1229\u001b[0;31m         \u001b[0mself\u001b[0m\u001b[0;34m.\u001b[0m\u001b[0m_send_request\u001b[0m\u001b[0;34m(\u001b[0m\u001b[0mmethod\u001b[0m\u001b[0;34m,\u001b[0m \u001b[0murl\u001b[0m\u001b[0;34m,\u001b[0m \u001b[0mbody\u001b[0m\u001b[0;34m,\u001b[0m \u001b[0mheaders\u001b[0m\u001b[0;34m,\u001b[0m \u001b[0mencode_chunked\u001b[0m\u001b[0;34m)\u001b[0m\u001b[0;34m\u001b[0m\u001b[0;34m\u001b[0m\u001b[0m\n\u001b[0m\u001b[1;32m   1230\u001b[0m \u001b[0;34m\u001b[0m\u001b[0m\n",
      "\u001b[0;32m/anaconda3/lib/python3.7/http/client.py\u001b[0m in \u001b[0;36m_send_request\u001b[0;34m(self, method, url, body, headers, encode_chunked)\u001b[0m\n\u001b[1;32m   1274\u001b[0m             \u001b[0mbody\u001b[0m \u001b[0;34m=\u001b[0m \u001b[0m_encode\u001b[0m\u001b[0;34m(\u001b[0m\u001b[0mbody\u001b[0m\u001b[0;34m,\u001b[0m \u001b[0;34m'body'\u001b[0m\u001b[0;34m)\u001b[0m\u001b[0;34m\u001b[0m\u001b[0;34m\u001b[0m\u001b[0m\n\u001b[0;32m-> 1275\u001b[0;31m         \u001b[0mself\u001b[0m\u001b[0;34m.\u001b[0m\u001b[0mendheaders\u001b[0m\u001b[0;34m(\u001b[0m\u001b[0mbody\u001b[0m\u001b[0;34m,\u001b[0m \u001b[0mencode_chunked\u001b[0m\u001b[0;34m=\u001b[0m\u001b[0mencode_chunked\u001b[0m\u001b[0;34m)\u001b[0m\u001b[0;34m\u001b[0m\u001b[0;34m\u001b[0m\u001b[0m\n\u001b[0m\u001b[1;32m   1276\u001b[0m \u001b[0;34m\u001b[0m\u001b[0m\n",
      "\u001b[0;32m/anaconda3/lib/python3.7/http/client.py\u001b[0m in \u001b[0;36mendheaders\u001b[0;34m(self, message_body, encode_chunked)\u001b[0m\n\u001b[1;32m   1223\u001b[0m             \u001b[0;32mraise\u001b[0m \u001b[0mCannotSendHeader\u001b[0m\u001b[0;34m(\u001b[0m\u001b[0;34m)\u001b[0m\u001b[0;34m\u001b[0m\u001b[0;34m\u001b[0m\u001b[0m\n\u001b[0;32m-> 1224\u001b[0;31m         \u001b[0mself\u001b[0m\u001b[0;34m.\u001b[0m\u001b[0m_send_output\u001b[0m\u001b[0;34m(\u001b[0m\u001b[0mmessage_body\u001b[0m\u001b[0;34m,\u001b[0m \u001b[0mencode_chunked\u001b[0m\u001b[0;34m=\u001b[0m\u001b[0mencode_chunked\u001b[0m\u001b[0;34m)\u001b[0m\u001b[0;34m\u001b[0m\u001b[0;34m\u001b[0m\u001b[0m\n\u001b[0m\u001b[1;32m   1225\u001b[0m \u001b[0;34m\u001b[0m\u001b[0m\n",
      "\u001b[0;32m/anaconda3/lib/python3.7/http/client.py\u001b[0m in \u001b[0;36m_send_output\u001b[0;34m(self, message_body, encode_chunked)\u001b[0m\n\u001b[1;32m   1015\u001b[0m         \u001b[0;32mdel\u001b[0m \u001b[0mself\u001b[0m\u001b[0;34m.\u001b[0m\u001b[0m_buffer\u001b[0m\u001b[0;34m[\u001b[0m\u001b[0;34m:\u001b[0m\u001b[0;34m]\u001b[0m\u001b[0;34m\u001b[0m\u001b[0;34m\u001b[0m\u001b[0m\n\u001b[0;32m-> 1016\u001b[0;31m         \u001b[0mself\u001b[0m\u001b[0;34m.\u001b[0m\u001b[0msend\u001b[0m\u001b[0;34m(\u001b[0m\u001b[0mmsg\u001b[0m\u001b[0;34m)\u001b[0m\u001b[0;34m\u001b[0m\u001b[0;34m\u001b[0m\u001b[0m\n\u001b[0m\u001b[1;32m   1017\u001b[0m \u001b[0;34m\u001b[0m\u001b[0m\n",
      "\u001b[0;32m/anaconda3/lib/python3.7/http/client.py\u001b[0m in \u001b[0;36msend\u001b[0;34m(self, data)\u001b[0m\n\u001b[1;32m    955\u001b[0m             \u001b[0;32mif\u001b[0m \u001b[0mself\u001b[0m\u001b[0;34m.\u001b[0m\u001b[0mauto_open\u001b[0m\u001b[0;34m:\u001b[0m\u001b[0;34m\u001b[0m\u001b[0;34m\u001b[0m\u001b[0m\n\u001b[0;32m--> 956\u001b[0;31m                 \u001b[0mself\u001b[0m\u001b[0;34m.\u001b[0m\u001b[0mconnect\u001b[0m\u001b[0;34m(\u001b[0m\u001b[0;34m)\u001b[0m\u001b[0;34m\u001b[0m\u001b[0;34m\u001b[0m\u001b[0m\n\u001b[0m\u001b[1;32m    957\u001b[0m             \u001b[0;32melse\u001b[0m\u001b[0;34m:\u001b[0m\u001b[0;34m\u001b[0m\u001b[0;34m\u001b[0m\u001b[0m\n",
      "\u001b[0;32m/anaconda3/lib/python3.7/http/client.py\u001b[0m in \u001b[0;36mconnect\u001b[0;34m(self)\u001b[0m\n\u001b[1;32m    927\u001b[0m         self.sock = self._create_connection(\n\u001b[0;32m--> 928\u001b[0;31m             (self.host,self.port), self.timeout, self.source_address)\n\u001b[0m\u001b[1;32m    929\u001b[0m         \u001b[0mself\u001b[0m\u001b[0;34m.\u001b[0m\u001b[0msock\u001b[0m\u001b[0;34m.\u001b[0m\u001b[0msetsockopt\u001b[0m\u001b[0;34m(\u001b[0m\u001b[0msocket\u001b[0m\u001b[0;34m.\u001b[0m\u001b[0mIPPROTO_TCP\u001b[0m\u001b[0;34m,\u001b[0m \u001b[0msocket\u001b[0m\u001b[0;34m.\u001b[0m\u001b[0mTCP_NODELAY\u001b[0m\u001b[0;34m,\u001b[0m \u001b[0;36m1\u001b[0m\u001b[0;34m)\u001b[0m\u001b[0;34m\u001b[0m\u001b[0;34m\u001b[0m\u001b[0m\n",
      "\u001b[0;32m/anaconda3/lib/python3.7/socket.py\u001b[0m in \u001b[0;36mcreate_connection\u001b[0;34m(address, timeout, source_address)\u001b[0m\n\u001b[1;32m    726\u001b[0m     \u001b[0;32mif\u001b[0m \u001b[0merr\u001b[0m \u001b[0;32mis\u001b[0m \u001b[0;32mnot\u001b[0m \u001b[0;32mNone\u001b[0m\u001b[0;34m:\u001b[0m\u001b[0;34m\u001b[0m\u001b[0;34m\u001b[0m\u001b[0m\n\u001b[0;32m--> 727\u001b[0;31m         \u001b[0;32mraise\u001b[0m \u001b[0merr\u001b[0m\u001b[0;34m\u001b[0m\u001b[0;34m\u001b[0m\u001b[0m\n\u001b[0m\u001b[1;32m    728\u001b[0m     \u001b[0;32melse\u001b[0m\u001b[0;34m:\u001b[0m\u001b[0;34m\u001b[0m\u001b[0;34m\u001b[0m\u001b[0m\n",
      "\u001b[0;32m/anaconda3/lib/python3.7/socket.py\u001b[0m in \u001b[0;36mcreate_connection\u001b[0;34m(address, timeout, source_address)\u001b[0m\n\u001b[1;32m    715\u001b[0m                 \u001b[0msock\u001b[0m\u001b[0;34m.\u001b[0m\u001b[0mbind\u001b[0m\u001b[0;34m(\u001b[0m\u001b[0msource_address\u001b[0m\u001b[0;34m)\u001b[0m\u001b[0;34m\u001b[0m\u001b[0;34m\u001b[0m\u001b[0m\n\u001b[0;32m--> 716\u001b[0;31m             \u001b[0msock\u001b[0m\u001b[0;34m.\u001b[0m\u001b[0mconnect\u001b[0m\u001b[0;34m(\u001b[0m\u001b[0msa\u001b[0m\u001b[0;34m)\u001b[0m\u001b[0;34m\u001b[0m\u001b[0;34m\u001b[0m\u001b[0m\n\u001b[0m\u001b[1;32m    717\u001b[0m             \u001b[0;31m# Break explicitly a reference cycle\u001b[0m\u001b[0;34m\u001b[0m\u001b[0;34m\u001b[0m\u001b[0;34m\u001b[0m\u001b[0m\n",
      "\u001b[0;31mConnectionRefusedError\u001b[0m: [Errno 61] Connection refused",
      "\nDuring handling of the above exception, another exception occurred:\n",
      "\u001b[0;31mURLError\u001b[0m                                  Traceback (most recent call last)",
      "\u001b[0;32m<ipython-input-6-2ad24e9e59b5>\u001b[0m in \u001b[0;36m<module>\u001b[0;34m\u001b[0m\n\u001b[1;32m      5\u001b[0m \u001b[0murl\u001b[0m \u001b[0;34m=\u001b[0m \u001b[0;34m'http://www.douban.com/'\u001b[0m\u001b[0;34m\u001b[0m\u001b[0;34m\u001b[0m\u001b[0m\n\u001b[1;32m      6\u001b[0m \u001b[0mreq\u001b[0m \u001b[0;34m=\u001b[0m \u001b[0murllib\u001b[0m\u001b[0;34m.\u001b[0m\u001b[0mrequest\u001b[0m\u001b[0;34m.\u001b[0m\u001b[0mRequest\u001b[0m\u001b[0;34m(\u001b[0m\u001b[0murl\u001b[0m\u001b[0;34m,\u001b[0m \u001b[0mheaders\u001b[0m\u001b[0;34m=\u001b[0m\u001b[0mHEADERS\u001b[0m\u001b[0;34m)\u001b[0m\u001b[0;34m\u001b[0m\u001b[0;34m\u001b[0m\u001b[0m\n\u001b[0;32m----> 7\u001b[0;31m \u001b[0mtext\u001b[0m \u001b[0;34m=\u001b[0m \u001b[0murllib\u001b[0m\u001b[0;34m.\u001b[0m\u001b[0mrequest\u001b[0m\u001b[0;34m.\u001b[0m\u001b[0murlopen\u001b[0m\u001b[0;34m(\u001b[0m\u001b[0mreq\u001b[0m\u001b[0;34m)\u001b[0m\u001b[0;34m.\u001b[0m\u001b[0mread\u001b[0m\u001b[0;34m(\u001b[0m\u001b[0;34m)\u001b[0m\u001b[0;34m.\u001b[0m\u001b[0mdecode\u001b[0m\u001b[0;34m(\u001b[0m\u001b[0;34m'utf-8'\u001b[0m\u001b[0;34m)\u001b[0m\u001b[0;34m\u001b[0m\u001b[0;34m\u001b[0m\u001b[0m\n\u001b[0m\u001b[1;32m      8\u001b[0m \u001b[0;34m\u001b[0m\u001b[0m\n\u001b[1;32m      9\u001b[0m \u001b[0;32mif\u001b[0m \u001b[0;34m\"独孤怡的帐号\"\u001b[0m \u001b[0;32min\u001b[0m \u001b[0mtext\u001b[0m \u001b[0;32mand\u001b[0m \u001b[0;34m\"个人主页\"\u001b[0m \u001b[0;32min\u001b[0m \u001b[0mtext\u001b[0m\u001b[0;34m:\u001b[0m\u001b[0;34m\u001b[0m\u001b[0;34m\u001b[0m\u001b[0m\n",
      "\u001b[0;32m/anaconda3/lib/python3.7/urllib/request.py\u001b[0m in \u001b[0;36murlopen\u001b[0;34m(url, data, timeout, cafile, capath, cadefault, context)\u001b[0m\n\u001b[1;32m    220\u001b[0m     \u001b[0;32melse\u001b[0m\u001b[0;34m:\u001b[0m\u001b[0;34m\u001b[0m\u001b[0;34m\u001b[0m\u001b[0m\n\u001b[1;32m    221\u001b[0m         \u001b[0mopener\u001b[0m \u001b[0;34m=\u001b[0m \u001b[0m_opener\u001b[0m\u001b[0;34m\u001b[0m\u001b[0;34m\u001b[0m\u001b[0m\n\u001b[0;32m--> 222\u001b[0;31m     \u001b[0;32mreturn\u001b[0m \u001b[0mopener\u001b[0m\u001b[0;34m.\u001b[0m\u001b[0mopen\u001b[0m\u001b[0;34m(\u001b[0m\u001b[0murl\u001b[0m\u001b[0;34m,\u001b[0m \u001b[0mdata\u001b[0m\u001b[0;34m,\u001b[0m \u001b[0mtimeout\u001b[0m\u001b[0;34m)\u001b[0m\u001b[0;34m\u001b[0m\u001b[0;34m\u001b[0m\u001b[0m\n\u001b[0m\u001b[1;32m    223\u001b[0m \u001b[0;34m\u001b[0m\u001b[0m\n\u001b[1;32m    224\u001b[0m \u001b[0;32mdef\u001b[0m \u001b[0minstall_opener\u001b[0m\u001b[0;34m(\u001b[0m\u001b[0mopener\u001b[0m\u001b[0;34m)\u001b[0m\u001b[0;34m:\u001b[0m\u001b[0;34m\u001b[0m\u001b[0;34m\u001b[0m\u001b[0m\n",
      "\u001b[0;32m/anaconda3/lib/python3.7/urllib/request.py\u001b[0m in \u001b[0;36mopen\u001b[0;34m(self, fullurl, data, timeout)\u001b[0m\n\u001b[1;32m    523\u001b[0m             \u001b[0mreq\u001b[0m \u001b[0;34m=\u001b[0m \u001b[0mmeth\u001b[0m\u001b[0;34m(\u001b[0m\u001b[0mreq\u001b[0m\u001b[0;34m)\u001b[0m\u001b[0;34m\u001b[0m\u001b[0;34m\u001b[0m\u001b[0m\n\u001b[1;32m    524\u001b[0m \u001b[0;34m\u001b[0m\u001b[0m\n\u001b[0;32m--> 525\u001b[0;31m         \u001b[0mresponse\u001b[0m \u001b[0;34m=\u001b[0m \u001b[0mself\u001b[0m\u001b[0;34m.\u001b[0m\u001b[0m_open\u001b[0m\u001b[0;34m(\u001b[0m\u001b[0mreq\u001b[0m\u001b[0;34m,\u001b[0m \u001b[0mdata\u001b[0m\u001b[0;34m)\u001b[0m\u001b[0;34m\u001b[0m\u001b[0;34m\u001b[0m\u001b[0m\n\u001b[0m\u001b[1;32m    526\u001b[0m \u001b[0;34m\u001b[0m\u001b[0m\n\u001b[1;32m    527\u001b[0m         \u001b[0;31m# post-process response\u001b[0m\u001b[0;34m\u001b[0m\u001b[0;34m\u001b[0m\u001b[0;34m\u001b[0m\u001b[0m\n",
      "\u001b[0;32m/anaconda3/lib/python3.7/urllib/request.py\u001b[0m in \u001b[0;36m_open\u001b[0;34m(self, req, data)\u001b[0m\n\u001b[1;32m    541\u001b[0m         \u001b[0mprotocol\u001b[0m \u001b[0;34m=\u001b[0m \u001b[0mreq\u001b[0m\u001b[0;34m.\u001b[0m\u001b[0mtype\u001b[0m\u001b[0;34m\u001b[0m\u001b[0;34m\u001b[0m\u001b[0m\n\u001b[1;32m    542\u001b[0m         result = self._call_chain(self.handle_open, protocol, protocol +\n\u001b[0;32m--> 543\u001b[0;31m                                   '_open', req)\n\u001b[0m\u001b[1;32m    544\u001b[0m         \u001b[0;32mif\u001b[0m \u001b[0mresult\u001b[0m\u001b[0;34m:\u001b[0m\u001b[0;34m\u001b[0m\u001b[0;34m\u001b[0m\u001b[0m\n\u001b[1;32m    545\u001b[0m             \u001b[0;32mreturn\u001b[0m \u001b[0mresult\u001b[0m\u001b[0;34m\u001b[0m\u001b[0;34m\u001b[0m\u001b[0m\n",
      "\u001b[0;32m/anaconda3/lib/python3.7/urllib/request.py\u001b[0m in \u001b[0;36m_call_chain\u001b[0;34m(self, chain, kind, meth_name, *args)\u001b[0m\n\u001b[1;32m    501\u001b[0m         \u001b[0;32mfor\u001b[0m \u001b[0mhandler\u001b[0m \u001b[0;32min\u001b[0m \u001b[0mhandlers\u001b[0m\u001b[0;34m:\u001b[0m\u001b[0;34m\u001b[0m\u001b[0;34m\u001b[0m\u001b[0m\n\u001b[1;32m    502\u001b[0m             \u001b[0mfunc\u001b[0m \u001b[0;34m=\u001b[0m \u001b[0mgetattr\u001b[0m\u001b[0;34m(\u001b[0m\u001b[0mhandler\u001b[0m\u001b[0;34m,\u001b[0m \u001b[0mmeth_name\u001b[0m\u001b[0;34m)\u001b[0m\u001b[0;34m\u001b[0m\u001b[0;34m\u001b[0m\u001b[0m\n\u001b[0;32m--> 503\u001b[0;31m             \u001b[0mresult\u001b[0m \u001b[0;34m=\u001b[0m \u001b[0mfunc\u001b[0m\u001b[0;34m(\u001b[0m\u001b[0;34m*\u001b[0m\u001b[0margs\u001b[0m\u001b[0;34m)\u001b[0m\u001b[0;34m\u001b[0m\u001b[0;34m\u001b[0m\u001b[0m\n\u001b[0m\u001b[1;32m    504\u001b[0m             \u001b[0;32mif\u001b[0m \u001b[0mresult\u001b[0m \u001b[0;32mis\u001b[0m \u001b[0;32mnot\u001b[0m \u001b[0;32mNone\u001b[0m\u001b[0;34m:\u001b[0m\u001b[0;34m\u001b[0m\u001b[0;34m\u001b[0m\u001b[0m\n\u001b[1;32m    505\u001b[0m                 \u001b[0;32mreturn\u001b[0m \u001b[0mresult\u001b[0m\u001b[0;34m\u001b[0m\u001b[0;34m\u001b[0m\u001b[0m\n",
      "\u001b[0;32m/anaconda3/lib/python3.7/urllib/request.py\u001b[0m in \u001b[0;36mhttp_open\u001b[0;34m(self, req)\u001b[0m\n\u001b[1;32m   1343\u001b[0m \u001b[0;34m\u001b[0m\u001b[0m\n\u001b[1;32m   1344\u001b[0m     \u001b[0;32mdef\u001b[0m \u001b[0mhttp_open\u001b[0m\u001b[0;34m(\u001b[0m\u001b[0mself\u001b[0m\u001b[0;34m,\u001b[0m \u001b[0mreq\u001b[0m\u001b[0;34m)\u001b[0m\u001b[0;34m:\u001b[0m\u001b[0;34m\u001b[0m\u001b[0;34m\u001b[0m\u001b[0m\n\u001b[0;32m-> 1345\u001b[0;31m         \u001b[0;32mreturn\u001b[0m \u001b[0mself\u001b[0m\u001b[0;34m.\u001b[0m\u001b[0mdo_open\u001b[0m\u001b[0;34m(\u001b[0m\u001b[0mhttp\u001b[0m\u001b[0;34m.\u001b[0m\u001b[0mclient\u001b[0m\u001b[0;34m.\u001b[0m\u001b[0mHTTPConnection\u001b[0m\u001b[0;34m,\u001b[0m \u001b[0mreq\u001b[0m\u001b[0;34m)\u001b[0m\u001b[0;34m\u001b[0m\u001b[0;34m\u001b[0m\u001b[0m\n\u001b[0m\u001b[1;32m   1346\u001b[0m \u001b[0;34m\u001b[0m\u001b[0m\n\u001b[1;32m   1347\u001b[0m     \u001b[0mhttp_request\u001b[0m \u001b[0;34m=\u001b[0m \u001b[0mAbstractHTTPHandler\u001b[0m\u001b[0;34m.\u001b[0m\u001b[0mdo_request_\u001b[0m\u001b[0;34m\u001b[0m\u001b[0;34m\u001b[0m\u001b[0m\n",
      "\u001b[0;32m/anaconda3/lib/python3.7/urllib/request.py\u001b[0m in \u001b[0;36mdo_open\u001b[0;34m(self, http_class, req, **http_conn_args)\u001b[0m\n\u001b[1;32m   1317\u001b[0m                           encode_chunked=req.has_header('Transfer-encoding'))\n\u001b[1;32m   1318\u001b[0m             \u001b[0;32mexcept\u001b[0m \u001b[0mOSError\u001b[0m \u001b[0;32mas\u001b[0m \u001b[0merr\u001b[0m\u001b[0;34m:\u001b[0m \u001b[0;31m# timeout error\u001b[0m\u001b[0;34m\u001b[0m\u001b[0;34m\u001b[0m\u001b[0m\n\u001b[0;32m-> 1319\u001b[0;31m                 \u001b[0;32mraise\u001b[0m \u001b[0mURLError\u001b[0m\u001b[0;34m(\u001b[0m\u001b[0merr\u001b[0m\u001b[0;34m)\u001b[0m\u001b[0;34m\u001b[0m\u001b[0;34m\u001b[0m\u001b[0m\n\u001b[0m\u001b[1;32m   1320\u001b[0m             \u001b[0mr\u001b[0m \u001b[0;34m=\u001b[0m \u001b[0mh\u001b[0m\u001b[0;34m.\u001b[0m\u001b[0mgetresponse\u001b[0m\u001b[0;34m(\u001b[0m\u001b[0;34m)\u001b[0m\u001b[0;34m\u001b[0m\u001b[0;34m\u001b[0m\u001b[0m\n\u001b[1;32m   1321\u001b[0m         \u001b[0;32mexcept\u001b[0m\u001b[0;34m:\u001b[0m\u001b[0;34m\u001b[0m\u001b[0;34m\u001b[0m\u001b[0m\n",
      "\u001b[0;31mURLError\u001b[0m: <urlopen error [Errno 61] Connection refused>"
     ]
    }
   ],
   "source": [
    "#coding=utf-8\n",
    "import urllib\n",
    "\n",
    "HEADERS = {\"cookie\": 'bid=XjVMbhACU8g; gr_user_id=0d40a451-a87a-4fd4-a1c0-7fdb8c033463; ll=\"108296\"; viewed=\"25757227_1198048\"; ap=1; _pk_ref.100001.8cb4=%5B%22%22%2C%22%22%2C1477738961%2C%22https%3A%2F%2Fwww.baidu.com%2Flink%3Furl%3DiJljeyvtAjxOP4iucsKsL1qjSIKuVmFLG0lSYj9qaqC%26wd%3D%26eqid%3Ddb0d484d0006cecf00000003581481ce%22%5D; __utmt=1; _gat_UA-7019765-1=1; ps=y; _ga=GA1.2.1095113428.1474646191; dbcl2=\"51010702:WYz0cj3POUA\"; ck=Lse6; push_noty_num=0; push_doumail_num=0; _pk_id.100001.8cb4=a9e29dda84985b76.1474646190.9.1477739414.1477722329.; _pk_ses.100001.8cb4=*; __utma=30149280.1095113428.1474646191.1477722330.1477738969.13; __utmb=30149280.5.10.1477738969; __utmc=30149280; __utmz=30149280.1477738969.13.11.utmcsr=baidu|utmccn=(organic)|utmcmd=organic; __utmv=30149280.5101; _vwo_uuid_v2=556741B28B99F927F067AD905C2ABF58|af273547878dce6e261fcd38d1533f39'}#里面写你在www.douban.com的cookie\n",
    "url = 'http://www.douban.com/'\n",
    "req = urllib.request.Request(url, headers=HEADERS)\n",
    "text = urllib.request.urlopen(req).read().decode('utf-8')\n",
    "\n",
    "if \"独孤怡的帐号\" in text and \"个人主页\" in text:\n",
    "    print(\"登陆成功!\")\n",
    "else:\n",
    "    print(\"登录失败!\")\n",
    "#print(text)"
   ]
  },
  {
   "cell_type": "code",
   "execution_count": 42,
   "metadata": {
    "collapsed": true
   },
   "outputs": [],
   "source": [
    "url = 'https://www.douban.com/people/51010702/'\n",
    "page = urllib.request.Request(url, headers=HEADERS)\n",
    "PAGE = urllib.request.urlopen(page).read()\n",
    "#print(PAGE)"
   ]
  },
  {
   "cell_type": "markdown",
   "metadata": {},
   "source": [
    "### 百度/V2EX¶"
   ]
  },
  {
   "cell_type": "code",
   "execution_count": 6,
   "metadata": {
    "collapsed": true
   },
   "outputs": [],
   "source": [
    "#coding=utf-8\n",
    "import urllib\n",
    "\n",
    "HEADERS = {\"cookie\": 'PB3_SESSION=\"2|1:0|10:1477816201|11:PB3_SESSION|36:djJleDoxODAuMTYwLjcwLjE5OjEyMzYzNDkz|8685adc5513a7d4be8688a952cee0de6e8b5ca801f905ac13ee0d87d7933d48b\"; _gat=1; A2=\"2|1:0|10:1477816596|2:A2|56:ZmNmMTM2MWZkNTgyMmM2YzRmNmQ1YzcxYTNmMGVlZjk0NmE5YzZjYg==|338741dec4de27fcbe4572b41679fbbb992e652f0390a18a73d47267c75cab55\"; V2EX_LANG=zhcn; _ga=GA1.2.498775440.1477316299'}#里面写你在www.douban.com的cookie\n",
    "url = 'http://www.v2ex.com/'\n",
    "req = urllib.request.Request(url, headers=HEADERS)\n",
    "text = urllib.request.urlopen(req).read()\n",
    "\n",
    "#print(text)"
   ]
  },
  {
   "cell_type": "code",
   "execution_count": 40,
   "metadata": {},
   "outputs": [
    {
     "ename": "URLError",
     "evalue": "<urlopen error [WinError 10060] 由于连接方在一段时间后没有正确答复或连接的主机没有反应，连接尝试失败。>",
     "output_type": "error",
     "traceback": [
      "\u001b[0;31m---------------------------------------------------------------------------\u001b[0m",
      "\u001b[0;31mTimeoutError\u001b[0m                              Traceback (most recent call last)",
      "\u001b[0;32mD:\\Anaconda3\\lib\\urllib\\request.py\u001b[0m in \u001b[0;36mdo_open\u001b[0;34m(self, http_class, req, **http_conn_args)\u001b[0m\n\u001b[1;32m   1253\u001b[0m             \u001b[1;32mtry\u001b[0m\u001b[1;33m:\u001b[0m\u001b[1;33m\u001b[0m\u001b[0m\n\u001b[0;32m-> 1254\u001b[0;31m                 \u001b[0mh\u001b[0m\u001b[1;33m.\u001b[0m\u001b[0mrequest\u001b[0m\u001b[1;33m(\u001b[0m\u001b[0mreq\u001b[0m\u001b[1;33m.\u001b[0m\u001b[0mget_method\u001b[0m\u001b[1;33m(\u001b[0m\u001b[1;33m)\u001b[0m\u001b[1;33m,\u001b[0m \u001b[0mreq\u001b[0m\u001b[1;33m.\u001b[0m\u001b[0mselector\u001b[0m\u001b[1;33m,\u001b[0m \u001b[0mreq\u001b[0m\u001b[1;33m.\u001b[0m\u001b[0mdata\u001b[0m\u001b[1;33m,\u001b[0m \u001b[0mheaders\u001b[0m\u001b[1;33m)\u001b[0m\u001b[1;33m\u001b[0m\u001b[0m\n\u001b[0m\u001b[1;32m   1255\u001b[0m             \u001b[1;32mexcept\u001b[0m \u001b[0mOSError\u001b[0m \u001b[1;32mas\u001b[0m \u001b[0merr\u001b[0m\u001b[1;33m:\u001b[0m \u001b[1;31m# timeout error\u001b[0m\u001b[1;33m\u001b[0m\u001b[0m\n",
      "\u001b[0;32mD:\\Anaconda3\\lib\\http\\client.py\u001b[0m in \u001b[0;36mrequest\u001b[0;34m(self, method, url, body, headers)\u001b[0m\n\u001b[1;32m   1105\u001b[0m         \u001b[1;34m\"\"\"Send a complete request to the server.\"\"\"\u001b[0m\u001b[1;33m\u001b[0m\u001b[0m\n\u001b[0;32m-> 1106\u001b[0;31m         \u001b[0mself\u001b[0m\u001b[1;33m.\u001b[0m\u001b[0m_send_request\u001b[0m\u001b[1;33m(\u001b[0m\u001b[0mmethod\u001b[0m\u001b[1;33m,\u001b[0m \u001b[0murl\u001b[0m\u001b[1;33m,\u001b[0m \u001b[0mbody\u001b[0m\u001b[1;33m,\u001b[0m \u001b[0mheaders\u001b[0m\u001b[1;33m)\u001b[0m\u001b[1;33m\u001b[0m\u001b[0m\n\u001b[0m\u001b[1;32m   1107\u001b[0m \u001b[1;33m\u001b[0m\u001b[0m\n",
      "\u001b[0;32mD:\\Anaconda3\\lib\\http\\client.py\u001b[0m in \u001b[0;36m_send_request\u001b[0;34m(self, method, url, body, headers)\u001b[0m\n\u001b[1;32m   1150\u001b[0m             \u001b[0mbody\u001b[0m \u001b[1;33m=\u001b[0m \u001b[0m_encode\u001b[0m\u001b[1;33m(\u001b[0m\u001b[0mbody\u001b[0m\u001b[1;33m,\u001b[0m \u001b[1;34m'body'\u001b[0m\u001b[1;33m)\u001b[0m\u001b[1;33m\u001b[0m\u001b[0m\n\u001b[0;32m-> 1151\u001b[0;31m         \u001b[0mself\u001b[0m\u001b[1;33m.\u001b[0m\u001b[0mendheaders\u001b[0m\u001b[1;33m(\u001b[0m\u001b[0mbody\u001b[0m\u001b[1;33m)\u001b[0m\u001b[1;33m\u001b[0m\u001b[0m\n\u001b[0m\u001b[1;32m   1152\u001b[0m \u001b[1;33m\u001b[0m\u001b[0m\n",
      "\u001b[0;32mD:\\Anaconda3\\lib\\http\\client.py\u001b[0m in \u001b[0;36mendheaders\u001b[0;34m(self, message_body)\u001b[0m\n\u001b[1;32m   1101\u001b[0m             \u001b[1;32mraise\u001b[0m \u001b[0mCannotSendHeader\u001b[0m\u001b[1;33m(\u001b[0m\u001b[1;33m)\u001b[0m\u001b[1;33m\u001b[0m\u001b[0m\n\u001b[0;32m-> 1102\u001b[0;31m         \u001b[0mself\u001b[0m\u001b[1;33m.\u001b[0m\u001b[0m_send_output\u001b[0m\u001b[1;33m(\u001b[0m\u001b[0mmessage_body\u001b[0m\u001b[1;33m)\u001b[0m\u001b[1;33m\u001b[0m\u001b[0m\n\u001b[0m\u001b[1;32m   1103\u001b[0m \u001b[1;33m\u001b[0m\u001b[0m\n",
      "\u001b[0;32mD:\\Anaconda3\\lib\\http\\client.py\u001b[0m in \u001b[0;36m_send_output\u001b[0;34m(self, message_body)\u001b[0m\n\u001b[1;32m    933\u001b[0m \u001b[1;33m\u001b[0m\u001b[0m\n\u001b[0;32m--> 934\u001b[0;31m         \u001b[0mself\u001b[0m\u001b[1;33m.\u001b[0m\u001b[0msend\u001b[0m\u001b[1;33m(\u001b[0m\u001b[0mmsg\u001b[0m\u001b[1;33m)\u001b[0m\u001b[1;33m\u001b[0m\u001b[0m\n\u001b[0m\u001b[1;32m    935\u001b[0m         \u001b[1;32mif\u001b[0m \u001b[0mmessage_body\u001b[0m \u001b[1;32mis\u001b[0m \u001b[1;32mnot\u001b[0m \u001b[1;32mNone\u001b[0m\u001b[1;33m:\u001b[0m\u001b[1;33m\u001b[0m\u001b[0m\n",
      "\u001b[0;32mD:\\Anaconda3\\lib\\http\\client.py\u001b[0m in \u001b[0;36msend\u001b[0;34m(self, data)\u001b[0m\n\u001b[1;32m    876\u001b[0m             \u001b[1;32mif\u001b[0m \u001b[0mself\u001b[0m\u001b[1;33m.\u001b[0m\u001b[0mauto_open\u001b[0m\u001b[1;33m:\u001b[0m\u001b[1;33m\u001b[0m\u001b[0m\n\u001b[0;32m--> 877\u001b[0;31m                 \u001b[0mself\u001b[0m\u001b[1;33m.\u001b[0m\u001b[0mconnect\u001b[0m\u001b[1;33m(\u001b[0m\u001b[1;33m)\u001b[0m\u001b[1;33m\u001b[0m\u001b[0m\n\u001b[0m\u001b[1;32m    878\u001b[0m             \u001b[1;32melse\u001b[0m\u001b[1;33m:\u001b[0m\u001b[1;33m\u001b[0m\u001b[0m\n",
      "\u001b[0;32mD:\\Anaconda3\\lib\\http\\client.py\u001b[0m in \u001b[0;36mconnect\u001b[0;34m(self)\u001b[0m\n\u001b[1;32m    848\u001b[0m         self.sock = self._create_connection(\n\u001b[0;32m--> 849\u001b[0;31m             (self.host,self.port), self.timeout, self.source_address)\n\u001b[0m\u001b[1;32m    850\u001b[0m         \u001b[0mself\u001b[0m\u001b[1;33m.\u001b[0m\u001b[0msock\u001b[0m\u001b[1;33m.\u001b[0m\u001b[0msetsockopt\u001b[0m\u001b[1;33m(\u001b[0m\u001b[0msocket\u001b[0m\u001b[1;33m.\u001b[0m\u001b[0mIPPROTO_TCP\u001b[0m\u001b[1;33m,\u001b[0m \u001b[0msocket\u001b[0m\u001b[1;33m.\u001b[0m\u001b[0mTCP_NODELAY\u001b[0m\u001b[1;33m,\u001b[0m \u001b[1;36m1\u001b[0m\u001b[1;33m)\u001b[0m\u001b[1;33m\u001b[0m\u001b[0m\n",
      "\u001b[0;32mD:\\Anaconda3\\lib\\socket.py\u001b[0m in \u001b[0;36mcreate_connection\u001b[0;34m(address, timeout, source_address)\u001b[0m\n\u001b[1;32m    710\u001b[0m     \u001b[1;32mif\u001b[0m \u001b[0merr\u001b[0m \u001b[1;32mis\u001b[0m \u001b[1;32mnot\u001b[0m \u001b[1;32mNone\u001b[0m\u001b[1;33m:\u001b[0m\u001b[1;33m\u001b[0m\u001b[0m\n\u001b[0;32m--> 711\u001b[0;31m         \u001b[1;32mraise\u001b[0m \u001b[0merr\u001b[0m\u001b[1;33m\u001b[0m\u001b[0m\n\u001b[0m\u001b[1;32m    712\u001b[0m     \u001b[1;32melse\u001b[0m\u001b[1;33m:\u001b[0m\u001b[1;33m\u001b[0m\u001b[0m\n",
      "\u001b[0;32mD:\\Anaconda3\\lib\\socket.py\u001b[0m in \u001b[0;36mcreate_connection\u001b[0;34m(address, timeout, source_address)\u001b[0m\n\u001b[1;32m    701\u001b[0m                 \u001b[0msock\u001b[0m\u001b[1;33m.\u001b[0m\u001b[0mbind\u001b[0m\u001b[1;33m(\u001b[0m\u001b[0msource_address\u001b[0m\u001b[1;33m)\u001b[0m\u001b[1;33m\u001b[0m\u001b[0m\n\u001b[0;32m--> 702\u001b[0;31m             \u001b[0msock\u001b[0m\u001b[1;33m.\u001b[0m\u001b[0mconnect\u001b[0m\u001b[1;33m(\u001b[0m\u001b[0msa\u001b[0m\u001b[1;33m)\u001b[0m\u001b[1;33m\u001b[0m\u001b[0m\n\u001b[0m\u001b[1;32m    703\u001b[0m             \u001b[1;32mreturn\u001b[0m \u001b[0msock\u001b[0m\u001b[1;33m\u001b[0m\u001b[0m\n",
      "\u001b[0;31mTimeoutError\u001b[0m: [WinError 10060] 由于连接方在一段时间后没有正确答复或连接的主机没有反应，连接尝试失败。",
      "\nDuring handling of the above exception, another exception occurred:\n",
      "\u001b[0;31mURLError\u001b[0m                                  Traceback (most recent call last)",
      "\u001b[0;32m<ipython-input-40-7ee7665134f3>\u001b[0m in \u001b[0;36m<module>\u001b[0;34m()\u001b[0m\n\u001b[1;32m      5\u001b[0m \u001b[0murl\u001b[0m \u001b[1;33m=\u001b[0m \u001b[1;34m'http://www.v2ex.com/'\u001b[0m\u001b[1;33m\u001b[0m\u001b[0m\n\u001b[1;32m      6\u001b[0m \u001b[0mreq\u001b[0m \u001b[1;33m=\u001b[0m \u001b[0murllib\u001b[0m\u001b[1;33m.\u001b[0m\u001b[0mrequest\u001b[0m\u001b[1;33m.\u001b[0m\u001b[0mRequest\u001b[0m\u001b[1;33m(\u001b[0m\u001b[0murl\u001b[0m\u001b[1;33m,\u001b[0m \u001b[0mheaders\u001b[0m\u001b[1;33m=\u001b[0m\u001b[0mHEADERS\u001b[0m\u001b[1;33m)\u001b[0m\u001b[1;33m\u001b[0m\u001b[0m\n\u001b[0;32m----> 7\u001b[0;31m \u001b[0mtext\u001b[0m \u001b[1;33m=\u001b[0m \u001b[0murllib\u001b[0m\u001b[1;33m.\u001b[0m\u001b[0mrequest\u001b[0m\u001b[1;33m.\u001b[0m\u001b[0murlopen\u001b[0m\u001b[1;33m(\u001b[0m\u001b[0mreq\u001b[0m\u001b[1;33m)\u001b[0m\u001b[1;33m.\u001b[0m\u001b[0mread\u001b[0m\u001b[1;33m(\u001b[0m\u001b[1;33m)\u001b[0m\u001b[1;33m\u001b[0m\u001b[0m\n\u001b[0m\u001b[1;32m      8\u001b[0m \u001b[1;33m\u001b[0m\u001b[0m\n\u001b[1;32m      9\u001b[0m \u001b[1;31m#print(text)\u001b[0m\u001b[1;33m\u001b[0m\u001b[1;33m\u001b[0m\u001b[0m\n",
      "\u001b[0;32mD:\\Anaconda3\\lib\\urllib\\request.py\u001b[0m in \u001b[0;36murlopen\u001b[0;34m(url, data, timeout, cafile, capath, cadefault, context)\u001b[0m\n\u001b[1;32m    161\u001b[0m     \u001b[1;32melse\u001b[0m\u001b[1;33m:\u001b[0m\u001b[1;33m\u001b[0m\u001b[0m\n\u001b[1;32m    162\u001b[0m         \u001b[0mopener\u001b[0m \u001b[1;33m=\u001b[0m \u001b[0m_opener\u001b[0m\u001b[1;33m\u001b[0m\u001b[0m\n\u001b[0;32m--> 163\u001b[0;31m     \u001b[1;32mreturn\u001b[0m \u001b[0mopener\u001b[0m\u001b[1;33m.\u001b[0m\u001b[0mopen\u001b[0m\u001b[1;33m(\u001b[0m\u001b[0murl\u001b[0m\u001b[1;33m,\u001b[0m \u001b[0mdata\u001b[0m\u001b[1;33m,\u001b[0m \u001b[0mtimeout\u001b[0m\u001b[1;33m)\u001b[0m\u001b[1;33m\u001b[0m\u001b[0m\n\u001b[0m\u001b[1;32m    164\u001b[0m \u001b[1;33m\u001b[0m\u001b[0m\n\u001b[1;32m    165\u001b[0m \u001b[1;32mdef\u001b[0m \u001b[0minstall_opener\u001b[0m\u001b[1;33m(\u001b[0m\u001b[0mopener\u001b[0m\u001b[1;33m)\u001b[0m\u001b[1;33m:\u001b[0m\u001b[1;33m\u001b[0m\u001b[0m\n",
      "\u001b[0;32mD:\\Anaconda3\\lib\\urllib\\request.py\u001b[0m in \u001b[0;36mopen\u001b[0;34m(self, fullurl, data, timeout)\u001b[0m\n\u001b[1;32m    464\u001b[0m             \u001b[0mreq\u001b[0m \u001b[1;33m=\u001b[0m \u001b[0mmeth\u001b[0m\u001b[1;33m(\u001b[0m\u001b[0mreq\u001b[0m\u001b[1;33m)\u001b[0m\u001b[1;33m\u001b[0m\u001b[0m\n\u001b[1;32m    465\u001b[0m \u001b[1;33m\u001b[0m\u001b[0m\n\u001b[0;32m--> 466\u001b[0;31m         \u001b[0mresponse\u001b[0m \u001b[1;33m=\u001b[0m \u001b[0mself\u001b[0m\u001b[1;33m.\u001b[0m\u001b[0m_open\u001b[0m\u001b[1;33m(\u001b[0m\u001b[0mreq\u001b[0m\u001b[1;33m,\u001b[0m \u001b[0mdata\u001b[0m\u001b[1;33m)\u001b[0m\u001b[1;33m\u001b[0m\u001b[0m\n\u001b[0m\u001b[1;32m    467\u001b[0m \u001b[1;33m\u001b[0m\u001b[0m\n\u001b[1;32m    468\u001b[0m         \u001b[1;31m# post-process response\u001b[0m\u001b[1;33m\u001b[0m\u001b[1;33m\u001b[0m\u001b[0m\n",
      "\u001b[0;32mD:\\Anaconda3\\lib\\urllib\\request.py\u001b[0m in \u001b[0;36m_open\u001b[0;34m(self, req, data)\u001b[0m\n\u001b[1;32m    482\u001b[0m         \u001b[0mprotocol\u001b[0m \u001b[1;33m=\u001b[0m \u001b[0mreq\u001b[0m\u001b[1;33m.\u001b[0m\u001b[0mtype\u001b[0m\u001b[1;33m\u001b[0m\u001b[0m\n\u001b[1;32m    483\u001b[0m         result = self._call_chain(self.handle_open, protocol, protocol +\n\u001b[0;32m--> 484\u001b[0;31m                                   '_open', req)\n\u001b[0m\u001b[1;32m    485\u001b[0m         \u001b[1;32mif\u001b[0m \u001b[0mresult\u001b[0m\u001b[1;33m:\u001b[0m\u001b[1;33m\u001b[0m\u001b[0m\n\u001b[1;32m    486\u001b[0m             \u001b[1;32mreturn\u001b[0m \u001b[0mresult\u001b[0m\u001b[1;33m\u001b[0m\u001b[0m\n",
      "\u001b[0;32mD:\\Anaconda3\\lib\\urllib\\request.py\u001b[0m in \u001b[0;36m_call_chain\u001b[0;34m(self, chain, kind, meth_name, *args)\u001b[0m\n\u001b[1;32m    442\u001b[0m         \u001b[1;32mfor\u001b[0m \u001b[0mhandler\u001b[0m \u001b[1;32min\u001b[0m \u001b[0mhandlers\u001b[0m\u001b[1;33m:\u001b[0m\u001b[1;33m\u001b[0m\u001b[0m\n\u001b[1;32m    443\u001b[0m             \u001b[0mfunc\u001b[0m \u001b[1;33m=\u001b[0m \u001b[0mgetattr\u001b[0m\u001b[1;33m(\u001b[0m\u001b[0mhandler\u001b[0m\u001b[1;33m,\u001b[0m \u001b[0mmeth_name\u001b[0m\u001b[1;33m)\u001b[0m\u001b[1;33m\u001b[0m\u001b[0m\n\u001b[0;32m--> 444\u001b[0;31m             \u001b[0mresult\u001b[0m \u001b[1;33m=\u001b[0m \u001b[0mfunc\u001b[0m\u001b[1;33m(\u001b[0m\u001b[1;33m*\u001b[0m\u001b[0margs\u001b[0m\u001b[1;33m)\u001b[0m\u001b[1;33m\u001b[0m\u001b[0m\n\u001b[0m\u001b[1;32m    445\u001b[0m             \u001b[1;32mif\u001b[0m \u001b[0mresult\u001b[0m \u001b[1;32mis\u001b[0m \u001b[1;32mnot\u001b[0m \u001b[1;32mNone\u001b[0m\u001b[1;33m:\u001b[0m\u001b[1;33m\u001b[0m\u001b[0m\n\u001b[1;32m    446\u001b[0m                 \u001b[1;32mreturn\u001b[0m \u001b[0mresult\u001b[0m\u001b[1;33m\u001b[0m\u001b[0m\n",
      "\u001b[0;32mD:\\Anaconda3\\lib\\urllib\\request.py\u001b[0m in \u001b[0;36mhttp_open\u001b[0;34m(self, req)\u001b[0m\n\u001b[1;32m   1280\u001b[0m \u001b[1;33m\u001b[0m\u001b[0m\n\u001b[1;32m   1281\u001b[0m     \u001b[1;32mdef\u001b[0m \u001b[0mhttp_open\u001b[0m\u001b[1;33m(\u001b[0m\u001b[0mself\u001b[0m\u001b[1;33m,\u001b[0m \u001b[0mreq\u001b[0m\u001b[1;33m)\u001b[0m\u001b[1;33m:\u001b[0m\u001b[1;33m\u001b[0m\u001b[0m\n\u001b[0;32m-> 1282\u001b[0;31m         \u001b[1;32mreturn\u001b[0m \u001b[0mself\u001b[0m\u001b[1;33m.\u001b[0m\u001b[0mdo_open\u001b[0m\u001b[1;33m(\u001b[0m\u001b[0mhttp\u001b[0m\u001b[1;33m.\u001b[0m\u001b[0mclient\u001b[0m\u001b[1;33m.\u001b[0m\u001b[0mHTTPConnection\u001b[0m\u001b[1;33m,\u001b[0m \u001b[0mreq\u001b[0m\u001b[1;33m)\u001b[0m\u001b[1;33m\u001b[0m\u001b[0m\n\u001b[0m\u001b[1;32m   1283\u001b[0m \u001b[1;33m\u001b[0m\u001b[0m\n\u001b[1;32m   1284\u001b[0m     \u001b[0mhttp_request\u001b[0m \u001b[1;33m=\u001b[0m \u001b[0mAbstractHTTPHandler\u001b[0m\u001b[1;33m.\u001b[0m\u001b[0mdo_request_\u001b[0m\u001b[1;33m\u001b[0m\u001b[0m\n",
      "\u001b[0;32mD:\\Anaconda3\\lib\\urllib\\request.py\u001b[0m in \u001b[0;36mdo_open\u001b[0;34m(self, http_class, req, **http_conn_args)\u001b[0m\n\u001b[1;32m   1254\u001b[0m                 \u001b[0mh\u001b[0m\u001b[1;33m.\u001b[0m\u001b[0mrequest\u001b[0m\u001b[1;33m(\u001b[0m\u001b[0mreq\u001b[0m\u001b[1;33m.\u001b[0m\u001b[0mget_method\u001b[0m\u001b[1;33m(\u001b[0m\u001b[1;33m)\u001b[0m\u001b[1;33m,\u001b[0m \u001b[0mreq\u001b[0m\u001b[1;33m.\u001b[0m\u001b[0mselector\u001b[0m\u001b[1;33m,\u001b[0m \u001b[0mreq\u001b[0m\u001b[1;33m.\u001b[0m\u001b[0mdata\u001b[0m\u001b[1;33m,\u001b[0m \u001b[0mheaders\u001b[0m\u001b[1;33m)\u001b[0m\u001b[1;33m\u001b[0m\u001b[0m\n\u001b[1;32m   1255\u001b[0m             \u001b[1;32mexcept\u001b[0m \u001b[0mOSError\u001b[0m \u001b[1;32mas\u001b[0m \u001b[0merr\u001b[0m\u001b[1;33m:\u001b[0m \u001b[1;31m# timeout error\u001b[0m\u001b[1;33m\u001b[0m\u001b[0m\n\u001b[0;32m-> 1256\u001b[0;31m                 \u001b[1;32mraise\u001b[0m \u001b[0mURLError\u001b[0m\u001b[1;33m(\u001b[0m\u001b[0merr\u001b[0m\u001b[1;33m)\u001b[0m\u001b[1;33m\u001b[0m\u001b[0m\n\u001b[0m\u001b[1;32m   1257\u001b[0m             \u001b[0mr\u001b[0m \u001b[1;33m=\u001b[0m \u001b[0mh\u001b[0m\u001b[1;33m.\u001b[0m\u001b[0mgetresponse\u001b[0m\u001b[1;33m(\u001b[0m\u001b[1;33m)\u001b[0m\u001b[1;33m\u001b[0m\u001b[0m\n\u001b[1;32m   1258\u001b[0m         \u001b[1;32mexcept\u001b[0m\u001b[1;33m:\u001b[0m\u001b[1;33m\u001b[0m\u001b[0m\n",
      "\u001b[0;31mURLError\u001b[0m: <urlopen error [WinError 10060] 由于连接方在一段时间后没有正确答复或连接的主机没有反应，连接尝试失败。>"
     ]
    }
   ],
   "source": [
    "#coding=utf-8\n",
    "import urllib\n",
    "\n",
    "HEADERS = {\"cookie\": 'PB3_SESSION=\"2|1:0|10:1477816201|11:PB3_SESSION|36:djJleDoxODAuMTYwLjcwLjE5OjEyMzYzNDkz|8685adc5513a7d4be8688a952cee0de6e8b5ca801f905ac13ee0d87d7933d48b\"; _gat=1; A2=\"2|1:0|10:1477816596|2:A2|56:ZmNmMTM2MWZkNTgyMmM2YzRmNmQ1YzcxYTNmMGVlZjk0NmE5YzZjYg==|338741dec4de27fcbe4572b41679fbbb992e652f0390a18a73d47267c75cab55\"; V2EX_LANG=zhcn; _ga=GA1.2.498775440.1477316299'}#里面写你在www.douban.com的cookie\n",
    "url = 'http://www.v2ex.com/'\n",
    "req = urllib.request.Request(url, headers=HEADERS)\n",
    "text = urllib.request.urlopen(req).read()\n",
    "\n",
    "#print(text)"
   ]
  },
  {
   "cell_type": "code",
   "execution_count": 41,
   "metadata": {
    "collapsed": true
   },
   "outputs": [],
   "source": [
    "url = 'https://www.v2ex.com/settings'\n",
    "page = urllib.request.Request(url, headers=HEADERS)\n",
    "PAGE = urllib.request.urlopen(page).read()\n",
    "#print(PAGE)"
   ]
  },
  {
   "cell_type": "markdown",
   "metadata": {},
   "source": [
    "# 4.Beautiful Soup "
   ]
  },
  {
   "cell_type": "markdown",
   "metadata": {},
   "source": [
    "## 4.1. Beautiful Soup简介\n",
    "简单来说，Beautiful Soup是python的一个库，最主要的功能是从网页抓取数据。\n",
    "\n",
    "Beautiful Soup提供一些简单的、python式的函数用来处理导航、搜索、修改分析树等功能。它是一个工具箱，通过解析文档为用户提供需要抓取的数据。\n",
    "Beautiful Soup自动将输入文档转换为Unicode编码，输出文档转换为utf-8编码。你不需要考虑编码方式，除非文档没有指定一个编码方式，这时，Beautiful Soup就不能自动识别编码方式了。然后，你仅仅需要说明一下原始编码方式就可以了。"
   ]
  },
  {
   "cell_type": "markdown",
   "metadata": {},
   "source": [
    "## 4.2 创建 Beautiful Soup 对象"
   ]
  },
  {
   "cell_type": "code",
   "execution_count": 42,
   "metadata": {
    "collapsed": true
   },
   "outputs": [],
   "source": [
    "import bs4\n",
    "from bs4 import BeautifulSoup     ## 导入 bs4 库"
   ]
  },
  {
   "cell_type": "markdown",
   "metadata": {},
   "source": [
    "创建一个字符串，后面的例子将会用它来演示："
   ]
  },
  {
   "cell_type": "code",
   "execution_count": 43,
   "metadata": {
    "collapsed": true
   },
   "outputs": [],
   "source": [
    "html = \"\"\"\n",
    "<html><head><title>The Dormouse's story</title></head>\n",
    "<body>\n",
    "<p class=\"title\" name=\"dromouse\"><b>The Dormouse's story</b></p>\n",
    "<p class=\"story\">Once upon a time there were three little sisters; and their names were\n",
    "<a href=\"http://example.com/elsie\" class=\"sister\" id=\"link1\"><!-- Elsie --></a>,\n",
    "<a href=\"http://example.com/lacie\" class=\"sister\" id=\"link2\">Lacie</a> and\n",
    "<a href=\"http://example.com/tillie\" class=\"sister\" id=\"link3\">Tillie</a>;\n",
    "and they lived at the bottom of a well.</p>\n",
    "<p class=\"story\">...</p>\n",
    "\"\"\""
   ]
  },
  {
   "cell_type": "code",
   "execution_count": 44,
   "metadata": {},
   "outputs": [
    {
     "name": "stdout",
     "output_type": "stream",
     "text": [
      "<html>\n",
      " <head>\n",
      "  <title>\n",
      "   The Dormouse's story\n",
      "  </title>\n",
      " </head>\n",
      " <body>\n",
      "  <p class=\"title\" name=\"dromouse\">\n",
      "   <b>\n",
      "    The Dormouse's story\n",
      "   </b>\n",
      "  </p>\n",
      "  <p class=\"story\">\n",
      "   Once upon a time there were three little sisters; and their names were\n",
      "   <a class=\"sister\" href=\"http://example.com/elsie\" id=\"link1\">\n",
      "    <!-- Elsie -->\n",
      "   </a>\n",
      "   ,\n",
      "   <a class=\"sister\" href=\"http://example.com/lacie\" id=\"link2\">\n",
      "    Lacie\n",
      "   </a>\n",
      "   and\n",
      "   <a class=\"sister\" href=\"http://example.com/tillie\" id=\"link3\">\n",
      "    Tillie\n",
      "   </a>\n",
      "   ;\n",
      "and they lived at the bottom of a well.\n",
      "  </p>\n",
      "  <p class=\"story\">\n",
      "   ...\n",
      "  </p>\n",
      " </body>\n",
      "</html>\n"
     ]
    }
   ],
   "source": [
    "soup = BeautifulSoup(html,\"lxml\")     ## 创建 beautifulsoup 对象\n",
    "print(soup.prettify())        ## 格式化输出"
   ]
  },
  {
   "cell_type": "code",
   "execution_count": 48,
   "metadata": {
    "collapsed": true
   },
   "outputs": [],
   "source": [
    "# local_soup = BeautifulSoup(open('html.html'),\"lxml\")     ## 用本地 HTML 文件来创建对象\n",
    "# print(local_soup)"
   ]
  },
  {
   "cell_type": "code",
   "execution_count": 45,
   "metadata": {},
   "outputs": [
    {
     "name": "stdout",
     "output_type": "stream",
     "text": [
      "<!DOCTYPE html>\n",
      "<!--STATUS OK--><html> <head><meta content=\"text/html;charset=utf-8\" http-equiv=\"content-type\"/><meta content=\"IE=Edge\" http-equiv=\"X-UA-Compatible\"/><meta content=\"always\" name=\"referrer\"/><link href=\"http://s1.bdstatic.com/r/www/cache/bdorz/baidu.min.css\" rel=\"stylesheet\" type=\"text/css\"/><title>ç¾åº¦ä¸ä¸ï¼ä½ å°±ç¥é</title></head> <body link=\"#0000cc\"> <div id=\"wrapper\"> <div id=\"head\"> <div class=\"head_wrapper\"> <div class=\"s_form\"> <div class=\"s_form_wrapper\"> <div id=\"lg\"> <img height=\"129\" hidefocus=\"true\" src=\"//www.baidu.com/img/bd_logo1.png\" width=\"270\"/> </div> <form action=\"//www.baidu.com/s\" class=\"fm\" id=\"form\" name=\"f\"> <input name=\"bdorz_come\" type=\"hidden\" value=\"1\"/> <input name=\"ie\" type=\"hidden\" value=\"utf-8\"/> <input name=\"f\" type=\"hidden\" value=\"8\"/> <input name=\"rsv_bp\" type=\"hidden\" value=\"1\"/> <input name=\"rsv_idx\" type=\"hidden\" value=\"1\"/> <input name=\"tn\" type=\"hidden\" value=\"baidu\"/><span class=\"bg s_ipt_wr\"><input autocomplete=\"off\" autofocus=\"\" class=\"s_ipt\" id=\"kw\" maxlength=\"255\" name=\"wd\" value=\"\"/></span><span class=\"bg s_btn_wr\"><input class=\"bg s_btn\" id=\"su\" type=\"submit\" value=\"ç¾åº¦ä¸ä¸\"/></span> </form> </div> </div> <div id=\"u1\"> <a class=\"mnav\" href=\"http://news.baidu.com\" name=\"tj_trnews\">æ°é»</a> <a class=\"mnav\" href=\"http://www.hao123.com\" name=\"tj_trhao123\">hao123</a> <a class=\"mnav\" href=\"http://map.baidu.com\" name=\"tj_trmap\">å°å¾</a> <a class=\"mnav\" href=\"http://v.baidu.com\" name=\"tj_trvideo\">è§é¢</a> <a class=\"mnav\" href=\"http://tieba.baidu.com\" name=\"tj_trtieba\">è´´å§</a> <noscript> <a class=\"lb\" href=\"http://www.baidu.com/bdorz/login.gif?login&amp;tpl=mn&amp;u=http%3A%2F%2Fwww.baidu.com%2f%3fbdorz_come%3d1\" name=\"tj_login\">ç»å½</a> </noscript> <script>document.write('<a href=\"http://www.baidu.com/bdorz/login.gif?login&tpl=mn&u='+ encodeURIComponent(window.location.href+ (window.location.search === \"\" ? \"?\" : \"&\")+ \"bdorz_come=1\")+ '\" name=\"tj_login\" class=\"lb\">ç»å½</a>');</script> <a class=\"bri\" href=\"//www.baidu.com/more/\" name=\"tj_briicon\" style=\"display: block;\">æ´å¤äº§å</a> </div> </div> </div> <div id=\"ftCon\"> <div id=\"ftConw\"> <p id=\"lh\"> <a href=\"http://home.baidu.com\">å",
      "³äºç¾åº¦</a> <a href=\"http://ir.baidu.com\">About Baidu</a> </p> <p id=\"cp\">©2017 Baidu <a href=\"http://www.baidu.com/duty/\">ä½¿ç¨ç¾åº¦åå¿",
      "è¯»</a>  <a class=\"cp-feedback\" href=\"http://jianyi.baidu.com/\">æè§åé¦</a> äº¬ICPè¯030173å·  <img src=\"//www.baidu.com/img/gs.gif\"/> </p> </div> </div> </div> </body> </html>\n",
      "\n"
     ]
    }
   ],
   "source": [
    "import requests\n",
    "url = requests.get('http://www.baidu.com').text  #抓取\n",
    "s = BeautifulSoup(url,'lxml')  #解析\n",
    "print(s)"
   ]
  },
  {
   "cell_type": "markdown",
   "metadata": {},
   "source": [
    "## 4.3 四大对象种类 （文档对象模型）¶"
   ]
  },
  {
   "cell_type": "markdown",
   "metadata": {},
   "source": [
    "Beautiful Soup将复杂HTML文档转换成一个复杂的树形结构,每个节点都是Python对象,所有对象可以归纳为4种:  \n",
    "\n",
    "* Tag\n",
    "* NavigableString\n",
    "* BeautifulSoup\n",
    "* Comment"
   ]
  },
  {
   "cell_type": "markdown",
   "metadata": {},
   "source": [
    "### （1）Tag（标签）\n",
    "\"title\"、\"a\" 等等 HTML 标签加上里面包括的内容就是 Tag :\n",
    "\n",
    "```<title>The Dormouse's story</title>\n",
    "<a class=\"sister\" href=\"http://example.com/elsie\" id=\"link1\">Elsie</a>```"
   ]
  },
  {
   "cell_type": "code",
   "execution_count": 46,
   "metadata": {},
   "outputs": [
    {
     "name": "stdout",
     "output_type": "stream",
     "text": [
      "<title>The Dormouse's story</title>\n",
      "<head><title>The Dormouse's story</title></head>\n",
      "<a class=\"sister\" href=\"http://example.com/elsie\" id=\"link1\"><!-- Elsie --></a>\n",
      "<p class=\"title\" name=\"dromouse\"><b>The Dormouse's story</b></p>\n"
     ]
    }
   ],
   "source": [
    "print(soup.title)\n",
    "print(soup.head)\n",
    "print(soup.a)\n",
    "print(soup.p)"
   ]
  },
  {
   "cell_type": "code",
   "execution_count": 47,
   "metadata": {},
   "outputs": [
    {
     "name": "stdout",
     "output_type": "stream",
     "text": [
      "<body>\n",
      "<p class=\"title\" name=\"dromouse\"><b>The Dormouse's story</b></p>\n",
      "<p class=\"story\">Once upon a time there were three little sisters; and their names were\n",
      "<a class=\"sister\" href=\"http://example.com/elsie\" id=\"link1\"><!-- Elsie --></a>,\n",
      "<a class=\"sister\" href=\"http://example.com/lacie\" id=\"link2\">Lacie</a> and\n",
      "<a class=\"sister\" href=\"http://example.com/tillie\" id=\"link3\">Tillie</a>;\n",
      "and they lived at the bottom of a well.</p>\n",
      "<p class=\"story\">...</p>\n",
      "</body>\n"
     ]
    }
   ],
   "source": [
    "print(soup.body)"
   ]
  },
  {
   "cell_type": "markdown",
   "metadata": {},
   "source": [
    "利用 soup 加标签名可以轻松获取这些标签的内容，  \n",
    "但是，它查找的是在所有内容中的第一个符合要求的标签。"
   ]
  },
  {
   "cell_type": "code",
   "execution_count": 48,
   "metadata": {},
   "outputs": [
    {
     "name": "stdout",
     "output_type": "stream",
     "text": [
      "<class 'bs4.element.Tag'>\n"
     ]
    }
   ],
   "source": [
    "print(type(soup.a))     ## 查看对象类型"
   ]
  },
  {
   "cell_type": "markdown",
   "metadata": {},
   "source": [
    "#### Tag 的两个重要属性， name 和 attrs"
   ]
  },
  {
   "cell_type": "code",
   "execution_count": 53,
   "metadata": {},
   "outputs": [
    {
     "name": "stdout",
     "output_type": "stream",
     "text": [
      "[document]\n",
      "head\n"
     ]
    }
   ],
   "source": [
    "print(soup.name)\n",
    "print(soup.head.name)   \n",
    "## soup 对象本身比较特殊，它的 name 即为 [document]，对于其他内部标签，输出的值便为标签本身的名称"
   ]
  },
  {
   "cell_type": "code",
   "execution_count": 54,
   "metadata": {},
   "outputs": [
    {
     "name": "stdout",
     "output_type": "stream",
     "text": [
      "{'class': ['title'], 'name': 'dromouse'}\n"
     ]
    }
   ],
   "source": [
    "print(soup.p.attrs)      ## 把 p 标签的所有属性打印输出"
   ]
  },
  {
   "cell_type": "code",
   "execution_count": 55,
   "metadata": {},
   "outputs": [
    {
     "name": "stdout",
     "output_type": "stream",
     "text": [
      "['title']\n",
      "['title']\n"
     ]
    }
   ],
   "source": [
    "print(soup.p['class'])        ## 单独获取某'个属性\n",
    "print(soup.p.get('class'))    ## 利用get方法，传入属性的名称，获取属性值，两者等价"
   ]
  },
  {
   "cell_type": "code",
   "execution_count": 56,
   "metadata": {},
   "outputs": [
    {
     "name": "stdout",
     "output_type": "stream",
     "text": [
      "<p class=\"newClass\" name=\"dromouse\"><b>The Dormouse's story</b></p>\n"
     ]
    }
   ],
   "source": [
    "soup.p['class']=\"newClass\"     ## 可以对这些属性和内容等进行修改\n",
    "print(soup.p)"
   ]
  },
  {
   "cell_type": "code",
   "execution_count": 57,
   "metadata": {},
   "outputs": [
    {
     "name": "stdout",
     "output_type": "stream",
     "text": [
      "<p name=\"dromouse\"><b>The Dormouse's story</b></p>\n"
     ]
    }
   ],
   "source": [
    "del soup.p['class']     ## 对属性进行删除\n",
    "print(soup.p)"
   ]
  },
  {
   "cell_type": "markdown",
   "metadata": {},
   "source": [
    "### （2）NavigableString（可遍历的字符串）\n",
    "**.string 获取标签内部的文字**"
   ]
  },
  {
   "cell_type": "code",
   "execution_count": 58,
   "metadata": {},
   "outputs": [
    {
     "name": "stdout",
     "output_type": "stream",
     "text": [
      "The Dormouse's story\n"
     ]
    }
   ],
   "source": [
    "print(soup.p.string)"
   ]
  },
  {
   "cell_type": "code",
   "execution_count": 59,
   "metadata": {},
   "outputs": [
    {
     "name": "stdout",
     "output_type": "stream",
     "text": [
      "<class 'bs4.element.NavigableString'>\n"
     ]
    }
   ],
   "source": [
    "print(type(soup.p.string))    ## 类型是一个 NavigableString"
   ]
  },
  {
   "cell_type": "markdown",
   "metadata": {},
   "source": [
    "### （3）BeautifulSoup\n",
    "BeautifulSoup 对象表示的是一个文档的全部内容。大部分时候,可以把它当作 Tag 对象，是一个特殊的 Tag，我们可以分别获取它的类型，名称，以及属性"
   ]
  },
  {
   "cell_type": "code",
   "execution_count": 60,
   "metadata": {},
   "outputs": [
    {
     "name": "stdout",
     "output_type": "stream",
     "text": [
      "<class 'str'>\n",
      "[document]\n",
      "{}\n",
      "[<html><head><title>The Dormouse's story</title></head>\n",
      "<body>\n",
      "<p name=\"dromouse\"><b>The Dormouse's story</b></p>\n",
      "<p class=\"story\">Once upon a time there were three little sisters; and their names were\n",
      "<a class=\"sister\" href=\"http://example.com/elsie\" id=\"link1\"><!-- Elsie --></a>,\n",
      "<a class=\"sister\" href=\"http://example.com/lacie\" id=\"link2\">Lacie</a> and\n",
      "<a class=\"sister\" href=\"http://example.com/tillie\" id=\"link3\">Tillie</a>;\n",
      "and they lived at the bottom of a well.</p>\n",
      "<p class=\"story\">...</p>\n",
      "</body></html>]\n"
     ]
    }
   ],
   "source": [
    "print(type(soup.name))\n",
    "print(soup.name)\n",
    "print(soup.attrs)\n",
    "print(soup.contents)"
   ]
  },
  {
   "cell_type": "markdown",
   "metadata": {},
   "source": [
    "### （4）Comment\n",
    "Comment 对象是一个特殊类型的 NavigableString 对象，其实输出的内容仍然不包括注释符号，但是如果不好好处理它，可能会对我们的文本处理造成意想不到的麻烦。"
   ]
  },
  {
   "cell_type": "code",
   "execution_count": 61,
   "metadata": {},
   "outputs": [
    {
     "name": "stdout",
     "output_type": "stream",
     "text": [
      "<a class=\"sister\" href=\"http://example.com/elsie\" id=\"link1\"><!-- Elsie --></a>\n",
      " Elsie \n",
      "<class 'bs4.element.Comment'>\n"
     ]
    }
   ],
   "source": [
    "print(soup.a)\n",
    "print(soup.a.string)\n",
    "print(type(soup.a.string))"
   ]
  },
  {
   "cell_type": "markdown",
   "metadata": {},
   "source": [
    "a 标签里的内容实际上是注释，但是如果我们利用 .string 来输出它的内容，会发现它已经把注释符号去掉了，可能会给我们带来不必要的麻烦。  \n",
    "\n",
    "另外我们打印输出下它的类型，发现它是一个 Comment 类型，所以，我们在使用前最好做一下判断，判断代码如下"
   ]
  },
  {
   "cell_type": "code",
   "execution_count": 62,
   "metadata": {},
   "outputs": [
    {
     "name": "stdout",
     "output_type": "stream",
     "text": [
      "<!-- Elsie -->\n"
     ]
    }
   ],
   "source": [
    "if type(soup.a.string)==bs4.element.Comment:     ## 首先判断类型，是否为 Comment 类型，然后再进行其他操作\n",
    "    print(\"<!--%s-->\"%soup.a.string)"
   ]
  },
  {
   "cell_type": "markdown",
   "metadata": {},
   "source": [
    "## 4.4 遍历文档树\n",
    "### （1）直接子节点\n",
    "**.contents属性**"
   ]
  },
  {
   "cell_type": "code",
   "execution_count": 49,
   "metadata": {},
   "outputs": [
    {
     "name": "stdout",
     "output_type": "stream",
     "text": [
      "['\\n', <p class=\"title\" name=\"dromouse\"><b>The Dormouse's story</b></p>, '\\n', <p class=\"story\">Once upon a time there were three little sisters; and their names were\n",
      "<a class=\"sister\" href=\"http://example.com/elsie\" id=\"link1\"><!-- Elsie --></a>,\n",
      "<a class=\"sister\" href=\"http://example.com/lacie\" id=\"link2\">Lacie</a> and\n",
      "<a class=\"sister\" href=\"http://example.com/tillie\" id=\"link3\">Tillie</a>;\n",
      "and they lived at the bottom of a well.</p>, '\\n', <p class=\"story\">...</p>, '\\n']\n",
      "<p class=\"story\">Once upon a time there were three little sisters; and their names were\n",
      "<a class=\"sister\" href=\"http://example.com/elsie\" id=\"link1\"><!-- Elsie --></a>,\n",
      "<a class=\"sister\" href=\"http://example.com/lacie\" id=\"link2\">Lacie</a> and\n",
      "<a class=\"sister\" href=\"http://example.com/tillie\" id=\"link3\">Tillie</a>;\n",
      "and they lived at the bottom of a well.</p>\n"
     ]
    }
   ],
   "source": [
    "print(soup.body.contents)         ## tag 的 .contents 属性可以将tag的子节点以列表的方式输出\n",
    "print(soup.body.contents[3])      ## 用列表索引来获取它的某一个元素"
   ]
  },
  {
   "cell_type": "code",
   "execution_count": 50,
   "metadata": {},
   "outputs": [
    {
     "name": "stdout",
     "output_type": "stream",
     "text": [
      "<p class=\"story\">...</p>\n"
     ]
    }
   ],
   "source": [
    "print(soup.body.contents[5]) "
   ]
  },
  {
   "cell_type": "markdown",
   "metadata": {},
   "source": [
    "**.children属性**（返回的不是一个 list，而是一个 list 生成器对象，可以通过遍历获取所有子节点）"
   ]
  },
  {
   "cell_type": "code",
   "execution_count": 51,
   "metadata": {},
   "outputs": [
    {
     "name": "stdout",
     "output_type": "stream",
     "text": [
      "<list_iterator object at 0x0000020C2CC1B898>\n",
      "\n",
      "\n",
      "<p class=\"title\" name=\"dromouse\"><b>The Dormouse's story</b></p>\n",
      "\n",
      "\n",
      "<p class=\"story\">Once upon a time there were three little sisters; and their names were\n",
      "<a class=\"sister\" href=\"http://example.com/elsie\" id=\"link1\"><!-- Elsie --></a>,\n",
      "<a class=\"sister\" href=\"http://example.com/lacie\" id=\"link2\">Lacie</a> and\n",
      "<a class=\"sister\" href=\"http://example.com/tillie\" id=\"link3\">Tillie</a>;\n",
      "and they lived at the bottom of a well.</p>\n",
      "\n",
      "\n",
      "<p class=\"story\">...</p>\n",
      "\n",
      "\n"
     ]
    }
   ],
   "source": [
    "chil = soup.body.children\n",
    "print(chil)\n",
    "for i in chil:\n",
    "    print(i)"
   ]
  },
  {
   "cell_type": "code",
   "execution_count": 52,
   "metadata": {},
   "outputs": [
    {
     "name": "stdout",
     "output_type": "stream",
     "text": [
      "<list_iterator object at 0x0000020C2CEF2A58>\n"
     ]
    }
   ],
   "source": [
    "chil = soup.body.children\n",
    "print(chil)"
   ]
  },
  {
   "cell_type": "markdown",
   "metadata": {},
   "source": [
    "### （2）所有子孙节点\n",
    "**.descendants属性**  \n",
    "\n",
    ".contents 和 .children 属性仅包含tag的直接子节点，.descendants 属性可以对所有tag的子孙节点进行递归循环，和 children类似，我们也需要遍历获取其中的内容。"
   ]
  },
  {
   "cell_type": "code",
   "execution_count": 53,
   "metadata": {},
   "outputs": [
    {
     "name": "stdout",
     "output_type": "stream",
     "text": [
      "<html><head><title>The Dormouse's story</title></head>\n",
      "<body>\n",
      "<p class=\"title\" name=\"dromouse\"><b>The Dormouse's story</b></p>\n",
      "<p class=\"story\">Once upon a time there were three little sisters; and their names were\n",
      "<a class=\"sister\" href=\"http://example.com/elsie\" id=\"link1\"><!-- Elsie --></a>,\n",
      "<a class=\"sister\" href=\"http://example.com/lacie\" id=\"link2\">Lacie</a> and\n",
      "<a class=\"sister\" href=\"http://example.com/tillie\" id=\"link3\">Tillie</a>;\n",
      "and they lived at the bottom of a well.</p>\n",
      "<p class=\"story\">...</p>\n",
      "</body></html>\n",
      "<head><title>The Dormouse's story</title></head>\n",
      "<title>The Dormouse's story</title>\n",
      "The Dormouse's story\n",
      "\n",
      "\n",
      "<body>\n",
      "<p class=\"title\" name=\"dromouse\"><b>The Dormouse's story</b></p>\n",
      "<p class=\"story\">Once upon a time there were three little sisters; and their names were\n",
      "<a class=\"sister\" href=\"http://example.com/elsie\" id=\"link1\"><!-- Elsie --></a>,\n",
      "<a class=\"sister\" href=\"http://example.com/lacie\" id=\"link2\">Lacie</a> and\n",
      "<a class=\"sister\" href=\"http://example.com/tillie\" id=\"link3\">Tillie</a>;\n",
      "and they lived at the bottom of a well.</p>\n",
      "<p class=\"story\">...</p>\n",
      "</body>\n",
      "\n",
      "\n",
      "<p class=\"title\" name=\"dromouse\"><b>The Dormouse's story</b></p>\n",
      "<b>The Dormouse's story</b>\n",
      "The Dormouse's story\n",
      "\n",
      "\n",
      "<p class=\"story\">Once upon a time there were three little sisters; and their names were\n",
      "<a class=\"sister\" href=\"http://example.com/elsie\" id=\"link1\"><!-- Elsie --></a>,\n",
      "<a class=\"sister\" href=\"http://example.com/lacie\" id=\"link2\">Lacie</a> and\n",
      "<a class=\"sister\" href=\"http://example.com/tillie\" id=\"link3\">Tillie</a>;\n",
      "and they lived at the bottom of a well.</p>\n",
      "Once upon a time there were three little sisters; and their names were\n",
      "\n",
      "<a class=\"sister\" href=\"http://example.com/elsie\" id=\"link1\"><!-- Elsie --></a>\n",
      " Elsie \n",
      ",\n",
      "\n",
      "<a class=\"sister\" href=\"http://example.com/lacie\" id=\"link2\">Lacie</a>\n",
      "Lacie\n",
      " and\n",
      "\n",
      "<a class=\"sister\" href=\"http://example.com/tillie\" id=\"link3\">Tillie</a>\n",
      "Tillie\n",
      ";\n",
      "and they lived at the bottom of a well.\n",
      "\n",
      "\n",
      "<p class=\"story\">...</p>\n",
      "...\n",
      "\n",
      "\n"
     ]
    }
   ],
   "source": [
    "for i in soup.descendants:          ## 所有的节点都被打印出来了，先最外层的 HTML标签，其次从 head 标签一个个剥离，以此类推\n",
    "    print(i)"
   ]
  },
  {
   "cell_type": "markdown",
   "metadata": {},
   "source": [
    "### （3）节点内容\n",
    "**.string属性**  \n",
    "\n",
    "如果tag只有一个 NavigableString 类型子节点,那么这个tag可以使用 .string 得到子节点。如果一个tag仅有一个子节点,那么这个tag也可以使用 .string 方法,输出结果与当前唯一子节点的 .string 结果相同。  \n",
    "\n",
    "通俗点说就是：如果一个标签里面没有标签了，那么 .string 就会返回标签里面的内容。如果标签里面只有唯一的一个标签了，那么 .string 也会返回最里面的内容。"
   ]
  },
  {
   "cell_type": "code",
   "execution_count": 54,
   "metadata": {},
   "outputs": [
    {
     "name": "stdout",
     "output_type": "stream",
     "text": [
      "The Dormouse's story\n",
      "The Dormouse's story\n"
     ]
    }
   ],
   "source": [
    "print(soup.head.string)\n",
    "print(soup.title.string)"
   ]
  },
  {
   "cell_type": "markdown",
   "metadata": {},
   "source": [
    "如果tag包含了多个子节点,tag就无法确定，string 方法应该调用哪个子节点的内容, .string 的输出结果是 None"
   ]
  },
  {
   "cell_type": "code",
   "execution_count": 69,
   "metadata": {},
   "outputs": [
    {
     "name": "stdout",
     "output_type": "stream",
     "text": [
      "None\n"
     ]
    }
   ],
   "source": [
    "print(soup.html.string)"
   ]
  },
  {
   "cell_type": "markdown",
   "metadata": {},
   "source": [
    "### （4）多个内容\n",
    "**.strings 属性**(获取多个内容，但需要遍历获取)"
   ]
  },
  {
   "cell_type": "code",
   "execution_count": 55,
   "metadata": {},
   "outputs": [
    {
     "name": "stdout",
     "output_type": "stream",
     "text": [
      "The Dormouse's story\n",
      "\n",
      "\n",
      "\n",
      "\n",
      "The Dormouse's story\n",
      "\n",
      "\n",
      "Once upon a time there were three little sisters; and their names were\n",
      "\n",
      ",\n",
      "\n",
      "Lacie\n",
      " and\n",
      "\n",
      "Tillie\n",
      ";\n",
      "and they lived at the bottom of a well.\n",
      "\n",
      "\n",
      "...\n",
      "\n",
      "\n"
     ]
    }
   ],
   "source": [
    "for i in soup.strings:\n",
    "    print(i)"
   ]
  },
  {
   "cell_type": "markdown",
   "metadata": {},
   "source": [
    "**.stripped_strings 属性**（去除多余空白内容）"
   ]
  },
  {
   "cell_type": "code",
   "execution_count": 71,
   "metadata": {},
   "outputs": [
    {
     "name": "stdout",
     "output_type": "stream",
     "text": [
      "The Dormouse's story\n",
      "The Dormouse's story\n",
      "Once upon a time there were three little sisters; and their names were\n",
      ",\n",
      "Lacie\n",
      "and\n",
      "Tillie\n",
      ";\n",
      "and they lived at the bottom of a well.\n",
      "...\n"
     ]
    }
   ],
   "source": [
    "for i in soup.stripped_strings:\n",
    "    print(i)"
   ]
  },
  {
   "cell_type": "markdown",
   "metadata": {},
   "source": [
    "### （5）父节点\n",
    "**.parent 属性**"
   ]
  },
  {
   "cell_type": "code",
   "execution_count": 72,
   "metadata": {},
   "outputs": [
    {
     "name": "stdout",
     "output_type": "stream",
     "text": [
      "body\n",
      "title\n"
     ]
    }
   ],
   "source": [
    "p = soup.p\n",
    "print(p.parent.name)\n",
    "string = soup.head.string\n",
    "print(string.parent.name)"
   ]
  },
  {
   "cell_type": "code",
   "execution_count": 73,
   "metadata": {},
   "outputs": [
    {
     "name": "stdout",
     "output_type": "stream",
     "text": [
      "<body>\n",
      "<p name=\"dromouse\"><b>The Dormouse's story</b></p>\n",
      "<p class=\"story\">Once upon a time there were three little sisters; and their names were\n",
      "<a class=\"sister\" href=\"http://example.com/elsie\" id=\"link1\"><!-- Elsie --></a>,\n",
      "<a class=\"sister\" href=\"http://example.com/lacie\" id=\"link2\">Lacie</a> and\n",
      "<a class=\"sister\" href=\"http://example.com/tillie\" id=\"link3\">Tillie</a>;\n",
      "and they lived at the bottom of a well.</p>\n",
      "<p class=\"story\">...</p>\n",
      "</body>\n"
     ]
    }
   ],
   "source": [
    "p = soup.p\n",
    "print(p.parent)"
   ]
  },
  {
   "cell_type": "code",
   "execution_count": 74,
   "metadata": {},
   "outputs": [
    {
     "name": "stdout",
     "output_type": "stream",
     "text": [
      "<title>The Dormouse's story</title>\n"
     ]
    }
   ],
   "source": [
    "string = soup.head.string\n",
    "print(string.parent)"
   ]
  },
  {
   "cell_type": "markdown",
   "metadata": {},
   "source": [
    "### （6）全部父节点\n",
    "**.parents 属性**(递归得到元素的所有父辈节点)"
   ]
  },
  {
   "cell_type": "code",
   "execution_count": 75,
   "metadata": {},
   "outputs": [
    {
     "name": "stdout",
     "output_type": "stream",
     "text": [
      "title\n",
      "head\n",
      "html\n",
      "[document]\n"
     ]
    }
   ],
   "source": [
    "content = soup.head.string\n",
    "for i in content.parents:\n",
    "    print(i.name)"
   ]
  },
  {
   "cell_type": "markdown",
   "metadata": {},
   "source": [
    "### （7）兄弟节点\n",
    "**.next_sibling  .previous_sibling 属性**  \n",
    "\n",
    "兄弟节点可以理解为和本节点处在同一级的节点，.next_sibling 属性获取了该节点的下一个兄弟节点，.previous_sibling 则与之相反，如果节点不存在，则返回 None\n",
    "\n",
    "**注意：**实际文档中的tag的 .next_sibling 和 .previous_sibling 属性通常是字符串或空白，因为空白或者换行也可以被视作一个节点，所以得到的结果可能是空白或者换行"
   ]
  },
  {
   "cell_type": "code",
   "execution_count": 76,
   "metadata": {},
   "outputs": [
    {
     "name": "stdout",
     "output_type": "stream",
     "text": [
      "None\n",
      "\n",
      "\n",
      "<p class=\"story\">Once upon a time there were three little sisters; and their names were\n",
      "<a class=\"sister\" href=\"http://example.com/elsie\" id=\"link1\"><!-- Elsie --></a>,\n",
      "<a class=\"sister\" href=\"http://example.com/lacie\" id=\"link2\">Lacie</a> and\n",
      "<a class=\"sister\" href=\"http://example.com/tillie\" id=\"link3\">Tillie</a>;\n",
      "and they lived at the bottom of a well.</p>\n"
     ]
    }
   ],
   "source": [
    "print(soup.p.previous_sibling.previous_sibling)\n",
    "print(soup.p.next_sibling)\n",
    "print(soup.p.next_sibling.next_sibling)"
   ]
  },
  {
   "cell_type": "markdown",
   "metadata": {},
   "source": [
    "### （8）全部兄弟节点\n",
    "**.next_siblings  .previous_siblings 属性**(迭代输出)"
   ]
  },
  {
   "cell_type": "code",
   "execution_count": 77,
   "metadata": {},
   "outputs": [
    {
     "name": "stdout",
     "output_type": "stream",
     "text": [
      "\n",
      "\n",
      "<p class=\"story\">Once upon a time there were three little sisters; and their names were\n",
      "<a class=\"sister\" href=\"http://example.com/elsie\" id=\"link1\"><!-- Elsie --></a>,\n",
      "<a class=\"sister\" href=\"http://example.com/lacie\" id=\"link2\">Lacie</a> and\n",
      "<a class=\"sister\" href=\"http://example.com/tillie\" id=\"link3\">Tillie</a>;\n",
      "and they lived at the bottom of a well.</p>\n",
      "\n",
      "\n",
      "<p class=\"story\">...</p>\n",
      "\n",
      "\n"
     ]
    }
   ],
   "source": [
    "for i in soup.p.next_siblings:\n",
    "    print(i)"
   ]
  },
  {
   "cell_type": "markdown",
   "metadata": {},
   "source": [
    "### （9）前后节点\n",
    "**.next_element  .previous_element 属性**(与 .next_sibling  .previous_sibling 不同，它并不是针对于兄弟节点，而是在所有节点，不分层次)"
   ]
  },
  {
   "cell_type": "code",
   "execution_count": 78,
   "metadata": {},
   "outputs": [
    {
     "name": "stdout",
     "output_type": "stream",
     "text": [
      "<title>The Dormouse's story</title>\n"
     ]
    }
   ],
   "source": [
    "print(soup.head.next_element)"
   ]
  },
  {
   "cell_type": "markdown",
   "metadata": {},
   "source": [
    "### （10）所有前后节点\n",
    "**.next_elements  .previous_elements 属性**(通过 .next_elements 和 .previous_elements 的迭代器就可以向前或向后访问文档的解析内容,就好像文档正在被解析一样)"
   ]
  },
  {
   "cell_type": "code",
   "execution_count": 79,
   "metadata": {},
   "outputs": [
    {
     "name": "stdout",
     "output_type": "stream",
     "text": [
      "title\n",
      "None\n",
      "None\n",
      "body\n",
      "None\n",
      "p\n",
      "b\n",
      "None\n",
      "None\n",
      "p\n",
      "None\n",
      "a\n",
      "None\n",
      "None\n",
      "a\n",
      "None\n",
      "None\n",
      "a\n",
      "None\n",
      "None\n",
      "None\n",
      "p\n",
      "None\n",
      "None\n"
     ]
    }
   ],
   "source": [
    "for i in soup.head.next_elements:\n",
    "    print(i.name)"
   ]
  },
  {
   "cell_type": "markdown",
   "metadata": {},
   "source": [
    "## 4.5 搜索文档树"
   ]
  },
  {
   "cell_type": "markdown",
   "metadata": {},
   "source": [
    "### （1）find_all( name , attrs , recursive , text , **kwargs )\n",
    "搜索当前tag的所有tag子节点,并判断是否符合过滤器的条件"
   ]
  },
  {
   "cell_type": "markdown",
   "metadata": {},
   "source": [
    "**1）name 参数**  \n",
    "\n",
    "name 参数可以查找所有名字为 name 的tag,字符串对象会被自动忽略掉"
   ]
  },
  {
   "cell_type": "markdown",
   "metadata": {},
   "source": [
    "**A.传字符串  **  \n",
    "\n",
    "最简单的过滤器是字符串.在搜索方法中传入一个字符串参数,Beautiful Soup会查找与字符串完整匹配的内容"
   ]
  },
  {
   "cell_type": "code",
   "execution_count": 80,
   "metadata": {},
   "outputs": [
    {
     "name": "stdout",
     "output_type": "stream",
     "text": [
      "[<b>The Dormouse's story</b>]\n",
      "[<a class=\"sister\" href=\"http://example.com/elsie\" id=\"link1\"><!-- Elsie --></a>, <a class=\"sister\" href=\"http://example.com/lacie\" id=\"link2\">Lacie</a>, <a class=\"sister\" href=\"http://example.com/tillie\" id=\"link3\">Tillie</a>]\n"
     ]
    }
   ],
   "source": [
    "print(soup.find_all('b'))\n",
    "print(soup.find_all('a'))"
   ]
  },
  {
   "cell_type": "markdown",
   "metadata": {},
   "source": [
    "**B.传正则表达式**  \n",
    "\n",
    "如果传入正则表达式作为参数,Beautiful Soup会通过正则表达式的 match() 来匹配内容"
   ]
  },
  {
   "cell_type": "code",
   "execution_count": 81,
   "metadata": {},
   "outputs": [
    {
     "name": "stdout",
     "output_type": "stream",
     "text": [
      "body\n",
      "b\n"
     ]
    }
   ],
   "source": [
    "import re\n",
    "for i in soup.find_all(re.compile('^b')):      ## 找出所有以b开头的标签\n",
    "    print(i.name)"
   ]
  },
  {
   "cell_type": "markdown",
   "metadata": {},
   "source": [
    "**C.传列表**  \n",
    "\n",
    "如果传入列表参数,Beautiful Soup会将与列表中任一元素匹配的内容返回"
   ]
  },
  {
   "cell_type": "code",
   "execution_count": 82,
   "metadata": {},
   "outputs": [
    {
     "data": {
      "text/plain": [
       "[<b>The Dormouse's story</b>,\n",
       " <a class=\"sister\" href=\"http://example.com/elsie\" id=\"link1\"><!-- Elsie --></a>,\n",
       " <a class=\"sister\" href=\"http://example.com/lacie\" id=\"link2\">Lacie</a>,\n",
       " <a class=\"sister\" href=\"http://example.com/tillie\" id=\"link3\">Tillie</a>]"
      ]
     },
     "execution_count": 82,
     "metadata": {},
     "output_type": "execute_result"
    }
   ],
   "source": [
    "soup.find_all(['a','b'])    ## 找到文档中所有<a>标签和<b>标签"
   ]
  },
  {
   "cell_type": "markdown",
   "metadata": {},
   "source": [
    "**D.传 True**\n",
    "\n",
    "True 可以匹配任何值"
   ]
  },
  {
   "cell_type": "code",
   "execution_count": 83,
   "metadata": {},
   "outputs": [
    {
     "name": "stdout",
     "output_type": "stream",
     "text": [
      "html\n",
      "head\n",
      "title\n",
      "body\n",
      "p\n",
      "b\n",
      "p\n",
      "a\n",
      "a\n",
      "a\n",
      "p\n"
     ]
    }
   ],
   "source": [
    "for i in soup.find_all(True):    ## 查找到所有的tag,但不会返回字符串节点\n",
    "    print(i.name)"
   ]
  },
  {
   "cell_type": "markdown",
   "metadata": {},
   "source": [
    "**E.传方法**\n",
    "\n",
    "如果没有合适过滤器,那么还可以定义一个方法,方法只接受一个元素参数 ,如果这个方法返回 True 表示当前元素匹配并且被找到,如果不是则返回 False"
   ]
  },
  {
   "cell_type": "code",
   "execution_count": 84,
   "metadata": {},
   "outputs": [
    {
     "data": {
      "text/plain": [
       "[<p class=\"story\">Once upon a time there were three little sisters; and their names were\n",
       " <a class=\"sister\" href=\"http://example.com/elsie\" id=\"link1\"><!-- Elsie --></a>,\n",
       " <a class=\"sister\" href=\"http://example.com/lacie\" id=\"link2\">Lacie</a> and\n",
       " <a class=\"sister\" href=\"http://example.com/tillie\" id=\"link3\">Tillie</a>;\n",
       " and they lived at the bottom of a well.</p>, <p class=\"story\">...</p>]"
      ]
     },
     "execution_count": 84,
     "metadata": {},
     "output_type": "execute_result"
    }
   ],
   "source": [
    "def func(tag):\n",
    "    return tag.has_attr('class') and not tag.has_attr('id')    ## 包含 class 属性却不包含 id 属性\n",
    "soup.find_all(func)"
   ]
  },
  {
   "cell_type": "markdown",
   "metadata": {},
   "source": [
    "**2）keyword 参数**  \n",
    "\n",
    "**注意：**如果一个指定名字的参数不是搜索内置的参数名,搜索时会把该参数当作指定名字tag的属性来搜索,如果包含一个名字为 id 的参数,Beautiful Soup会搜索每个tag的”id”属性"
   ]
  },
  {
   "cell_type": "code",
   "execution_count": 85,
   "metadata": {},
   "outputs": [
    {
     "data": {
      "text/plain": [
       "[<a class=\"sister\" href=\"http://example.com/lacie\" id=\"link2\">Lacie</a>]"
      ]
     },
     "execution_count": 85,
     "metadata": {},
     "output_type": "execute_result"
    }
   ],
   "source": [
    "soup.find_all(id='link2')"
   ]
  },
  {
   "cell_type": "code",
   "execution_count": 86,
   "metadata": {},
   "outputs": [
    {
     "data": {
      "text/plain": [
       "[<a class=\"sister\" href=\"http://example.com/elsie\" id=\"link1\"><!-- Elsie --></a>]"
      ]
     },
     "execution_count": 86,
     "metadata": {},
     "output_type": "execute_result"
    }
   ],
   "source": [
    "soup.find_all(href=re.compile('elsie'))        ## 传入 href 参数,Beautiful Soup会搜索每个tag的”href”属性"
   ]
  },
  {
   "cell_type": "code",
   "execution_count": 87,
   "metadata": {},
   "outputs": [
    {
     "data": {
      "text/plain": [
       "[<a class=\"sister\" href=\"http://example.com/elsie\" id=\"link1\"><!-- Elsie --></a>]"
      ]
     },
     "execution_count": 87,
     "metadata": {},
     "output_type": "execute_result"
    }
   ],
   "source": [
    "soup.find_all(href=re.compile('elsie'),id='link1')        ## 使用多个指定名字的参数可以同时过滤tag的多个属性"
   ]
  },
  {
   "cell_type": "markdown",
   "metadata": {},
   "source": [
    "**想用 class 过滤，不过 class 是 python 的关键词，这怎么办？加个下划线就可以**"
   ]
  },
  {
   "cell_type": "code",
   "execution_count": 88,
   "metadata": {},
   "outputs": [
    {
     "data": {
      "text/plain": [
       "[<a class=\"sister\" href=\"http://example.com/elsie\" id=\"link1\"><!-- Elsie --></a>,\n",
       " <a class=\"sister\" href=\"http://example.com/lacie\" id=\"link2\">Lacie</a>,\n",
       " <a class=\"sister\" href=\"http://example.com/tillie\" id=\"link3\">Tillie</a>]"
      ]
     },
     "execution_count": 88,
     "metadata": {},
     "output_type": "execute_result"
    }
   ],
   "source": [
    "soup.find_all('a',class_='sister')"
   ]
  },
  {
   "cell_type": "markdown",
   "metadata": {},
   "source": [
    "有些tag属性在搜索时不能使用,比如HTML5中的 **data-* **属性"
   ]
  },
  {
   "cell_type": "code",
   "execution_count": 89,
   "metadata": {},
   "outputs": [
    {
     "ename": "SyntaxError",
     "evalue": "keyword can't be an expression (<ipython-input-89-af593f62fb41>, line 2)",
     "output_type": "error",
     "traceback": [
      "\u001b[1;36m  File \u001b[1;32m\"<ipython-input-89-af593f62fb41>\"\u001b[1;36m, line \u001b[1;32m2\u001b[0m\n\u001b[1;33m    data_soup.find_all(data-foo=\"value\")\u001b[0m\n\u001b[1;37m                      ^\u001b[0m\n\u001b[1;31mSyntaxError\u001b[0m\u001b[1;31m:\u001b[0m keyword can't be an expression\n"
     ]
    }
   ],
   "source": [
    "data_soup = BeautifulSoup('<div data-foo=\"value\">foo!</div>')\n",
    "data_soup.find_all(data-foo=\"value\")"
   ]
  },
  {
   "cell_type": "markdown",
   "metadata": {},
   "source": [
    "但可以通过 find_all() 方法的** attrs 参数**定义一个字典参数来搜索包含特殊属性的tag"
   ]
  },
  {
   "cell_type": "code",
   "execution_count": 90,
   "metadata": {},
   "outputs": [
    {
     "name": "stderr",
     "output_type": "stream",
     "text": [
      "D:\\ANACONDA\\lib\\site-packages\\bs4\\__init__.py:181: UserWarning: No parser was explicitly specified, so I'm using the best available HTML parser for this system (\"lxml\"). This usually isn't a problem, but if you run this code on another system, or in a different virtual environment, it may use a different parser and behave differently.\n",
      "\n",
      "The code that caused this warning is on line 193 of the file D:\\ANACONDA\\lib\\runpy.py. To get rid of this warning, change code that looks like this:\n",
      "\n",
      " BeautifulSoup(YOUR_MARKUP})\n",
      "\n",
      "to this:\n",
      "\n",
      " BeautifulSoup(YOUR_MARKUP, \"lxml\")\n",
      "\n",
      "  markup_type=markup_type))\n"
     ]
    },
    {
     "data": {
      "text/plain": [
       "[<div data-foo=\"value\">foo!</div>]"
      ]
     },
     "execution_count": 90,
     "metadata": {},
     "output_type": "execute_result"
    }
   ],
   "source": [
    "data_soup = BeautifulSoup('<div data-foo=\"value\">foo!</div>')\n",
    "data_soup.find_all(attrs={'data-foo':'value'})"
   ]
  },
  {
   "cell_type": "markdown",
   "metadata": {},
   "source": [
    "**3）text 参数**\n",
    "\n",
    "通过 text 参数可以搜索文档中的字符串内容.与 name 参数的可选值一样, text 参数接受：字符串 , 正则表达式 , 列表, True"
   ]
  },
  {
   "cell_type": "code",
   "execution_count": 91,
   "metadata": {},
   "outputs": [
    {
     "name": "stdout",
     "output_type": "stream",
     "text": [
      "[]\n",
      "['Lacie', 'Tillie']\n",
      "[\"The Dormouse's story\", \"The Dormouse's story\"]\n"
     ]
    }
   ],
   "source": [
    "print(soup.find_all(text=\"Elsie\"))\n",
    "\n",
    "print(soup.find_all(text=[\"Tillie\", \"Elsie\", \"Lacie\"]))\n",
    "\n",
    "print(soup.find_all(text=re.compile(\"Dormouse\")))"
   ]
  },
  {
   "cell_type": "markdown",
   "metadata": {},
   "source": [
    "**4）limit 参数**\n",
    "\n",
    "find_all() 方法返回全部的搜索结构,如果文档树很大那么搜索会很慢。  \n",
    "如果我们不需要全部结果,可以使用 limit 参数限制返回结果的数量,当搜索到的结果数量达到 limit 的限制时,就停止搜索返回结果."
   ]
  },
  {
   "cell_type": "code",
   "execution_count": 92,
   "metadata": {},
   "outputs": [
    {
     "data": {
      "text/plain": [
       "[<a class=\"sister\" href=\"http://example.com/elsie\" id=\"link1\"><!-- Elsie --></a>,\n",
       " <a class=\"sister\" href=\"http://example.com/lacie\" id=\"link2\">Lacie</a>]"
      ]
     },
     "execution_count": 92,
     "metadata": {},
     "output_type": "execute_result"
    }
   ],
   "source": [
    "soup.find_all('a',limit=2)     ## 文档树中有3个tag符合搜索条件,但结果只返回了2个,因为我们限制了返回数量"
   ]
  },
  {
   "cell_type": "code",
   "execution_count": 93,
   "metadata": {},
   "outputs": [
    {
     "data": {
      "text/plain": [
       "<a class=\"sister\" href=\"http://example.com/elsie\" id=\"link1\"><!-- Elsie --></a>"
      ]
     },
     "execution_count": 93,
     "metadata": {},
     "output_type": "execute_result"
    }
   ],
   "source": [
    "soup.find('a')  "
   ]
  },
  {
   "cell_type": "markdown",
   "metadata": {},
   "source": [
    "**5）recursive 参数**\n",
    "\n",
    "调用tag的 find_all() 方法时,Beautiful Soup会检索当前tag的所有子孙节点,如果只想搜索tag的直接子节点,可以使用参数 recursive=False ."
   ]
  },
  {
   "cell_type": "code",
   "execution_count": 94,
   "metadata": {},
   "outputs": [
    {
     "name": "stdout",
     "output_type": "stream",
     "text": [
      "[<body>\n",
      "<p name=\"dromouse\"><b>The Dormouse's story</b></p>\n",
      "<p class=\"story\">Once upon a time there were three little sisters; and their names were\n",
      "<a class=\"sister\" href=\"http://example.com/elsie\" id=\"link1\"><!-- Elsie --></a>,\n",
      "<a class=\"sister\" href=\"http://example.com/lacie\" id=\"link2\">Lacie</a> and\n",
      "<a class=\"sister\" href=\"http://example.com/tillie\" id=\"link3\">Tillie</a>;\n",
      "and they lived at the bottom of a well.</p>\n",
      "<p class=\"story\">...</p>\n",
      "</body>]\n",
      "[]\n"
     ]
    }
   ],
   "source": [
    "print(soup.find_all('body'))\n",
    "print(soup.find_all('body',recursive=False))"
   ]
  },
  {
   "cell_type": "markdown",
   "metadata": {},
   "source": [
    "#### （2）find( name , attrs , recursive , text , **kwargs )\n",
    "\n",
    "它与 find_all() 方法唯一的区别是 find_all() 方法的返回结果是列表,而 find() 方法直接返回结果,且只返回一个值\n",
    "\n",
    "#### （3）find_parents()  find_parent()\n",
    "\n",
    "find_all() 和 find() 只搜索当前节点的所有子节点,孙子节点等. find_parents() 和 find_parent() 用来搜索当前节点的父辈节点,搜索方法与普通tag的搜索方法相同,搜索文档搜索文档包含的内容\n",
    "\n",
    "#### （4）find_next_siblings()  find_next_sibling()\n",
    "\n",
    "这2个方法通过 .next_siblings 属性对当 tag 的所有后面解析的兄弟 tag 节点进行迭代, find_next_siblings() 方法返回所有符合条件的后面的兄弟节点,find_next_sibling() 只返回符合条件的后面的第一个tag节点\n",
    "\n",
    "#### （5）find_previous_siblings()  find_previous_sibling()\n",
    "\n",
    "这2个方法通过 .previous_siblings 属性对当前 tag 的前面解析的兄弟 tag 节点进行迭代, find_previous_siblings() 方法返回所有符合条件的前面的兄弟节点, find_previous_sibling() 方法返回第一个符合条件的前面的兄弟节点\n",
    "\n",
    "#### （6）find_all_next()  find_next()\n",
    "\n",
    "这2个方法通过 .next_elements 属性对当前 tag 的之后的 tag 和字符串进行迭代, find_all_next() 方法返回所有符合条件的节点, find_next() 方法返回第一个符合条件的节点\n",
    "\n",
    "#### （7）find_all_previous() 和 find_previous()\n",
    "\n",
    "这2个方法通过 .previous_elements 属性对当前节点前面的 tag 和字符串进行迭代, find_all_previous() 方法返回所有符合条件的节点, find_previous()方法返回第一个符合条件的节点\n",
    "\n",
    "**注：以上（2）（3）（4）（5）（6）（7）方法参数用法与 find_all() 完全相同，原理均类似，在此不再赘述。**"
   ]
  },
  {
   "cell_type": "markdown",
   "metadata": {},
   "source": [
    "## 4.6 CSS选择器\n",
    "写 CSS 时，标签名不加任何修饰，类名前加点，id名前加 #，在这里我们也可以利用类似的方法来筛选元素，用到的方法是 soup.select()，返回类型是 list\n",
    "\n",
    "### （1）通过标签名查找"
   ]
  },
  {
   "cell_type": "code",
   "execution_count": 95,
   "metadata": {},
   "outputs": [
    {
     "name": "stdout",
     "output_type": "stream",
     "text": [
      "[<title>The Dormouse's story</title>]\n",
      "[<a class=\"sister\" href=\"http://example.com/elsie\" id=\"link1\"><!-- Elsie --></a>, <a class=\"sister\" href=\"http://example.com/lacie\" id=\"link2\">Lacie</a>, <a class=\"sister\" href=\"http://example.com/tillie\" id=\"link3\">Tillie</a>]\n",
      "[<b>The Dormouse's story</b>]\n"
     ]
    }
   ],
   "source": [
    "print(soup.select('title'))\n",
    "print(soup.select('a'))\n",
    "print(soup.select('b'))"
   ]
  },
  {
   "cell_type": "markdown",
   "metadata": {},
   "source": [
    "### （2）通过类名查找"
   ]
  },
  {
   "cell_type": "code",
   "execution_count": 96,
   "metadata": {},
   "outputs": [
    {
     "name": "stdout",
     "output_type": "stream",
     "text": [
      "[<a class=\"sister\" href=\"http://example.com/elsie\" id=\"link1\"><!-- Elsie --></a>, <a class=\"sister\" href=\"http://example.com/lacie\" id=\"link2\">Lacie</a>, <a class=\"sister\" href=\"http://example.com/tillie\" id=\"link3\">Tillie</a>]\n"
     ]
    }
   ],
   "source": [
    "print(soup.select('.sister'))"
   ]
  },
  {
   "cell_type": "markdown",
   "metadata": {},
   "source": [
    "### （3）通过 id 名查找"
   ]
  },
  {
   "cell_type": "code",
   "execution_count": 97,
   "metadata": {},
   "outputs": [
    {
     "name": "stdout",
     "output_type": "stream",
     "text": [
      "[<a class=\"sister\" href=\"http://example.com/lacie\" id=\"link2\">Lacie</a>]\n"
     ]
    }
   ],
   "source": [
    "print(soup.select('#link2'))"
   ]
  },
  {
   "cell_type": "markdown",
   "metadata": {},
   "source": [
    "### （4）组合查找\n",
    "\n",
    "组合查找即和写 class 文件时，标签名与类名、id名进行的组合原理是一样的"
   ]
  },
  {
   "cell_type": "code",
   "execution_count": 98,
   "metadata": {},
   "outputs": [
    {
     "name": "stdout",
     "output_type": "stream",
     "text": [
      "[<a class=\"sister\" href=\"http://example.com/lacie\" id=\"link2\">Lacie</a>]\n"
     ]
    }
   ],
   "source": [
    "print(soup.select('p #link2'))        ## 查找 p 标签中，id 等于 link1的内容，二者需要用空格分开"
   ]
  },
  {
   "cell_type": "code",
   "execution_count": 99,
   "metadata": {},
   "outputs": [
    {
     "name": "stdout",
     "output_type": "stream",
     "text": [
      "[<title>The Dormouse's story</title>]\n"
     ]
    }
   ],
   "source": [
    "print(soup.select('head > title'))       ## 直接子标签查找"
   ]
  },
  {
   "cell_type": "markdown",
   "metadata": {},
   "source": [
    "### （5）属性查找\n",
    "\n",
    "查找时还可以加入属性元素，属性需要用中括号括起来，注意属性和标签属于同一节点，所以中间不能加空格，否则会无法匹配到。"
   ]
  },
  {
   "cell_type": "code",
   "execution_count": 100,
   "metadata": {},
   "outputs": [
    {
     "name": "stdout",
     "output_type": "stream",
     "text": [
      "[<a class=\"sister\" href=\"http://example.com/elsie\" id=\"link1\"><!-- Elsie --></a>, <a class=\"sister\" href=\"http://example.com/lacie\" id=\"link2\">Lacie</a>, <a class=\"sister\" href=\"http://example.com/tillie\" id=\"link3\">Tillie</a>]\n"
     ]
    }
   ],
   "source": [
    "print(soup.select('a[class=\"sister\"]'))"
   ]
  },
  {
   "cell_type": "markdown",
   "metadata": {},
   "source": [
    "select 方法返回的结果都是列表形式，可以遍历形式输出，然后用 get_text() 方法来获取它的内容。"
   ]
  },
  {
   "cell_type": "code",
   "execution_count": 101,
   "metadata": {},
   "outputs": [
    {
     "name": "stdout",
     "output_type": "stream",
     "text": [
      "<class 'list'>\n",
      "The Dormouse's story\n",
      "The Dormouse's story\n"
     ]
    }
   ],
   "source": [
    "soup = BeautifulSoup(html, 'lxml')\n",
    "print(type(soup.select('title')))\n",
    "print(soup.select('title')[0].get_text())\n",
    "\n",
    "for title in soup.select('title'):\n",
    "    print(title.get_text())"
   ]
  },
  {
   "cell_type": "markdown",
   "metadata": {},
   "source": [
    "# 5.xpath"
   ]
  },
  {
   "cell_type": "markdown",
   "metadata": {},
   "source": [
    "### 使用XPath解析HTML网页"
   ]
  },
  {
   "cell_type": "markdown",
   "metadata": {},
   "source": [
    "[html教程](http://www.w3school.com.cn/html/)"
   ]
  },
  {
   "cell_type": "markdown",
   "metadata": {
    "collapsed": true
   },
   "source": [
    "### 5.1 XPath语法\n",
    "XPath即为__XML路径语言（XML Path Language）__，是一门在 XML 文档中查找信息的语言。可用来在 XML 文档中对元素和属性进行遍历,以确定 XML 文档中某部分位置。   \n",
    "\n",
    "这里讨论的是在XPath语言规范下，封装而成的一种解析XML文档的技术。在PHP，Python里，具体是指xpath这个函数。所以，所谓的对 XML 文档某部分位置的定位，就是用XPath的规范，定位到这个部分，为我所用。"
   ]
  },
  {
   "cell_type": "markdown",
   "metadata": {},
   "source": [
    "**XPath可分为四种数据类型:**\n",
    "* 节点集（node-set）:通过路径匹配返回的符合条件的一组节点的集合。其它类型的数据不能转换为节点集。  \n",
    "\n",
    "* 布尔值(boolean):由函数或布尔表达式返回的条件匹配值，与一般语言中的布尔值相同，有true和false两个值。布尔值可以和数值类型、字符串类型相互转换。  \n",
    "\n",
    "* 字符串(string):字符串即包含一系列字符的集合，XPath中提供了一系列的字符串函数。字符串可与数值类型、布尔值类型的数据相互转换。  \n",
    "\n",
    "* 数值(number):在XPath中数值为浮点数，可以是双精度64位浮点数。另外包括一些数值的特殊描述，如非数值NaN（Not-a-Number）、正无穷大 infinity、负无穷大-infinity、正负0等等。number的整数值可以通过函数取得，另外，数值也可以和布尔类型、字符串类型相互转换\n"
   ]
  },
  {
   "cell_type": "markdown",
   "metadata": {},
   "source": [
    "#### 节点集\n",
    "#### 节点关系\n",
    "```\n",
    "<bookstore>\n",
    " \n",
    "    <book>\n",
    "        <title>Harry Potter</title>\n",
    "        <author>J K. Rowling</author>\n",
    "        <year>2005</year>\n",
    "        <price>29.99</price>\n",
    "    </book>\n",
    " \n",
    "</bookstore>\n",
    "```"
   ]
  },
  {
   "cell_type": "markdown",
   "metadata": {},
   "source": [
    "**（1）父（Parent）**\n",
    "\n",
    "每个元素以及属性都有一个父。以上的例子中，book 元素是 title、author、year 以及 price 元素的父。\n",
    "\n",
    "\n",
    "**（2）子（Children）**\n",
    "\n",
    "元素节点可有零个、一个或多个子。\n",
    "以上例子中，title、author、year 以及 price 元素都是 book 元素的子。\n",
    "\n",
    "\n",
    "**（3）同胞（Sibling）**\n",
    "\n",
    "拥有相同的父的节点。\n",
    "以上例子中，title、author、year 以及 price 元素都是同胞。\n",
    "\n",
    "\n",
    "**（4）先辈（Ancestor）**\n",
    "\n",
    "某节点的父、父的父，等等。\n",
    "以上例子中，title 元素的先辈是 book 元素和 bookstore 元素：\n",
    "\n",
    "\n",
    "**（5）后代（Descendant）**\n",
    "\n",
    "某个节点的子，子的子，等等。\n",
    "以上例子中，bookstore 的后代是 book、title、author、year 以及 price 元素："
   ]
  },
  {
   "cell_type": "markdown",
   "metadata": {},
   "source": [
    "### 5.2 XPath路径表达式（选取节点）\n",
    "**表达式：**"
   ]
  },
  {
   "cell_type": "markdown",
   "metadata": {},
   "source": [
    "![路径表达式](http://d.pr/i/a8NB.jpg)\n",
    "**实例：**\n",
    "![实例](http://d.pr/i/KXQI.jpg)\n",
    "1. 绝对路径方式  \n",
    "绝对路径方式（起始于正斜杠'/'）是从根节点开始导航，逐级而进，像上文提到的实例一样，直到想要抓取的节点。这种方式会让xpath()有更高的效率，稍后解释这点。\n",
    "2. 相对路径方式  \n",
    "相对路径方式（双斜杠'//'表达），不用考虑相对于根节点，要抓取的节点所在的所有级别路径。而是只需要知道当前节点上下几个级别的节点即可。在人工定位路径的时候，会更方便一些，但代码执行效率要比绝对路径低一些。"
   ]
  },
  {
   "cell_type": "markdown",
   "metadata": {},
   "source": [
    "**谓语（Predicates）：**谓语用来查找某个特定的节点或者包含某个指定的值的节点，被嵌在方括号中。\n",
    "![谓语](http://d.pr/i/126CE.jpg)"
   ]
  },
  {
   "cell_type": "markdown",
   "metadata": {},
   "source": [
    "![选取未知节点](http://d.pr/i/R4o9.jpg)\n",
    "![选取若干路径](http://d.pr/i/5cKn.jpg)"
   ]
  },
  {
   "cell_type": "markdown",
   "metadata": {},
   "source": [
    "### 5.3 XPath实践\n",
    "**1. 效率问题  **  \n",
    "如果xpath()的路径表达式参数是从__根元素__开始的，是__定位效率最高__的。这点容易解释，就像在一层办公大楼格子间去寻找一位同事一样。相比指定楼层， 逐个去问，给定一条直通这位同事的地图会更快。  \n",
    "但是有时候从根元素开始，人工地定位路径表达式的参数并不方便（可以借助插件解决），或者是出于自己封装的解析函数的泛型化的要求，选择相对路径，牺牲些代码效率仍然是明智之举（人力才是最贵资源）。  \n",
    "以下是我的一些思考测试。  \n",
    "如果相对路径往上级多写几层，路径变得更加具体，应该会提升效率，但是测试之后，时间反而增加了2-3倍。\n",
    "初始例子是这样的 ‘//span[@id=\"media_span\"]/span’。\n",
    "加了几层变成这样‘//div/div/div/span[@id=\"media_span\"]/span’。\n",
    "推测xpath的索引方式很可能像NTFS文件系统一样。经过统计当篇XML文档的元素个数，span 20个，而div是90个，得证。\n",
    "所以，在__使用相对路径的时候，div这种极易出现的标签元素尽量不要放在起始节点__。  \n",
    "从根节点开始解析比以上span开始的例子相比，只快了一点（粗略测试多篇文档，10万次解析差2秒）。  \n",
    "\n",
    "**2. 不能跨级  **  \n",
    "在选择路径表达式的时候，__不能出现跨级别的元素__，否则路径表达式是不能被xpath()解析的。  \n",
    "还拿上图举例，不可以用 /bookstore/price 去解析 book 下面的 price 标签。这是一种跨级。  \n",
    "\n",
    "**3. 最方便的确定路径参数的方式  **   \n",
    "审查元素，右键copy xpath（Firefox和chrome都适用），可以直接给出从根开始的xpath路径。"
   ]
  },
  {
   "cell_type": "markdown",
   "metadata": {},
   "source": [
    "### 5.4 XPath开发工具推荐\n",
    "1. firfox下的xpath checker，输入xpath路径之后，可视化解析结果，方便判断路径的对错。需要注意的是当firefox加载新的网页之后要重新打开xpath checker，以便重新加载XML文档。  \n",
    "2. Chrome下的xpath finder也有类似功能。  \n",
    "3. Mac下的xpath explorer可以在网页中直接选取内容生成从根开始的xpath路径。"
   ]
  },
  {
   "cell_type": "markdown",
   "metadata": {},
   "source": [
    "# 6.Lxml_xPath"
   ]
  },
  {
   "cell_type": "markdown",
   "metadata": {},
   "source": [
    "## 问题\n",
    "+ 问题1：有一个XML文件，如何解析\n",
    "+ 问题2：解析后，如果查找、定位某个标签\n",
    "+ 问题3：定位后如何操作标签，比如访问属性、文本内容等"
   ]
  },
  {
   "cell_type": "code",
   "execution_count": 1,
   "metadata": {
    "collapsed": true
   },
   "outputs": [],
   "source": [
    "from lxml import etree"
   ]
  },
  {
   "cell_type": "markdown",
   "metadata": {},
   "source": [
    "## 6.1 Element类(问题3)\n",
    ">Element是XML处理的核心类，Element对象可以直观的理解为XML的节点，大部分XML节点的处理都是围绕该类进行的。  \n",
    "这部分包括三个内容：节点的操作、节点属性的操作、节点内文本的操作。"
   ]
  },
  {
   "cell_type": "markdown",
   "metadata": {},
   "source": [
    "### 节点操作"
   ]
  },
  {
   "cell_type": "markdown",
   "metadata": {},
   "source": [
    "#### 1.创建Element对象"
   ]
  },
  {
   "cell_type": "code",
   "execution_count": 2,
   "metadata": {},
   "outputs": [
    {
     "name": "stdout",
     "output_type": "stream",
     "text": [
      "<Element root at 0x1aa13ecf448>\n"
     ]
    }
   ],
   "source": [
    "root = etree.Element('root')   ## 直接使用Element方法，参数即节点名称\n",
    "print(root)"
   ]
  },
  {
   "cell_type": "markdown",
   "metadata": {},
   "source": [
    "#### 2.获取节点名称"
   ]
  },
  {
   "cell_type": "code",
   "execution_count": 3,
   "metadata": {},
   "outputs": [
    {
     "name": "stdout",
     "output_type": "stream",
     "text": [
      "root\n"
     ]
    }
   ],
   "source": [
    "print(root.tag)"
   ]
  },
  {
   "cell_type": "markdown",
   "metadata": {},
   "source": [
    "#### 3.输出XML内容"
   ]
  },
  {
   "cell_type": "code",
   "execution_count": 4,
   "metadata": {},
   "outputs": [
    {
     "name": "stdout",
     "output_type": "stream",
     "text": [
      "b'<root/>'\n"
     ]
    }
   ],
   "source": [
    "print(etree.tostring(root))    ## 使用tostring方法输出XML内容（后文还会有补充介绍），参数为Element对象"
   ]
  },
  {
   "cell_type": "markdown",
   "metadata": {},
   "source": [
    "#### 4.添加子节点"
   ]
  },
  {
   "cell_type": "code",
   "execution_count": 106,
   "metadata": {},
   "outputs": [
    {
     "name": "stdout",
     "output_type": "stream",
     "text": [
      "b'<root><child1/><child2/><child3/></root>'\n"
     ]
    }
   ],
   "source": [
    "child1=etree.SubElement(root,'child1')   ## 使用SubElement方法创建子节点，第一个参数为父节点（Element对象），第二个参数为子节点名称\n",
    "child2=etree.SubElement(root,'child2')\n",
    "child2=etree.SubElement(root,'child3')\n",
    "print(etree.tostring(root))"
   ]
  },
  {
   "cell_type": "markdown",
   "metadata": {},
   "source": [
    "#### 5.以列表的方式操作子节点"
   ]
  },
  {
   "cell_type": "code",
   "execution_count": 107,
   "metadata": {},
   "outputs": [
    {
     "name": "stdout",
     "output_type": "stream",
     "text": [
      "child1\n"
     ]
    }
   ],
   "source": [
    "child=root[0]      ## 可以将Element对象的子节点视为列表进行各种操作：\n",
    "print(child.tag)    ## 下标访问"
   ]
  },
  {
   "cell_type": "code",
   "execution_count": 108,
   "metadata": {},
   "outputs": [
    {
     "name": "stdout",
     "output_type": "stream",
     "text": [
      "3\n"
     ]
    }
   ],
   "source": [
    "print(len(root))   ## 子节点数量"
   ]
  },
  {
   "cell_type": "code",
   "execution_count": 109,
   "metadata": {},
   "outputs": [
    {
     "name": "stdout",
     "output_type": "stream",
     "text": [
      "child1\n",
      "child2\n",
      "child3\n"
     ]
    }
   ],
   "source": [
    "for child in root:    ## 遍历\n",
    "    print(child.tag)"
   ]
  },
  {
   "cell_type": "code",
   "execution_count": 110,
   "metadata": {},
   "outputs": [
    {
     "name": "stdout",
     "output_type": "stream",
     "text": [
      "b'<root><child0/><child1/><child2/><child3/></root>'\n"
     ]
    }
   ],
   "source": [
    "root.insert(0,etree.Element('child0'))    ## 插入\n",
    "print(etree.tostring(root))"
   ]
  },
  {
   "cell_type": "code",
   "execution_count": 111,
   "metadata": {},
   "outputs": [
    {
     "name": "stdout",
     "output_type": "stream",
     "text": [
      "child0\n"
     ]
    }
   ],
   "source": [
    "start=root[:1]    ## 切片\n",
    "\n",
    "for i in start:\n",
    "    print(i.tag)"
   ]
  },
  {
   "cell_type": "code",
   "execution_count": 112,
   "metadata": {},
   "outputs": [
    {
     "name": "stdout",
     "output_type": "stream",
     "text": [
      "child3\n"
     ]
    }
   ],
   "source": [
    "end=root[-1:]\n",
    "for j in end:\n",
    "    print(j.tag)"
   ]
  },
  {
   "cell_type": "code",
   "execution_count": 113,
   "metadata": {},
   "outputs": [
    {
     "name": "stdout",
     "output_type": "stream",
     "text": [
      "b'<root><child0/><child1/><child2/><child3/><child4/></root>'\n"
     ]
    }
   ],
   "source": [
    "root.append(etree.Element('child4'))    ## 尾部添加\n",
    "print(etree.tostring(root))"
   ]
  },
  {
   "cell_type": "markdown",
   "metadata": {},
   "source": [
    "#### 6.删除子节点"
   ]
  },
  {
   "cell_type": "code",
   "execution_count": 114,
   "metadata": {},
   "outputs": [
    {
     "name": "stdout",
     "output_type": "stream",
     "text": [
      "b'<root><child0/><child2/><child3/><child4/></root>'\n"
     ]
    }
   ],
   "source": [
    "root.remove(child1)   ## 删除指定子节点\n",
    "print(etree.tostring(root))"
   ]
  },
  {
   "cell_type": "code",
   "execution_count": 115,
   "metadata": {},
   "outputs": [
    {
     "name": "stdout",
     "output_type": "stream",
     "text": [
      "b'<root/>'\n"
     ]
    }
   ],
   "source": [
    "root.clear()    ## 清除所有子节点\n",
    "print(etree.tostring(root))"
   ]
  },
  {
   "cell_type": "markdown",
   "metadata": {},
   "source": [
    "#### 7.获取父节点"
   ]
  },
  {
   "cell_type": "code",
   "execution_count": 116,
   "metadata": {},
   "outputs": [
    {
     "ename": "AttributeError",
     "evalue": "'NoneType' object has no attribute 'tag'",
     "output_type": "error",
     "traceback": [
      "\u001b[1;31m---------------------------------------------------------------------------\u001b[0m",
      "\u001b[1;31mAttributeError\u001b[0m                            Traceback (most recent call last)",
      "\u001b[1;32m<ipython-input-116-7085c753e2fb>\u001b[0m in \u001b[0;36m<module>\u001b[1;34m()\u001b[0m\n\u001b[1;32m----> 1\u001b[1;33m \u001b[0mprint\u001b[0m\u001b[1;33m(\u001b[0m\u001b[0mchild1\u001b[0m\u001b[1;33m.\u001b[0m\u001b[0mgetparent\u001b[0m\u001b[1;33m(\u001b[0m\u001b[1;33m)\u001b[0m\u001b[1;33m.\u001b[0m\u001b[0mtag\u001b[0m\u001b[1;33m)\u001b[0m    \u001b[1;31m## 使用getparent方法可以获取父节点\u001b[0m\u001b[1;33m\u001b[0m\u001b[0m\n\u001b[0m",
      "\u001b[1;31mAttributeError\u001b[0m: 'NoneType' object has no attribute 'tag'"
     ]
    }
   ],
   "source": [
    "print(child1.getparent().tag)    ## 使用getparent方法可以获取父节点"
   ]
  },
  {
   "cell_type": "markdown",
   "metadata": {},
   "source": [
    "### 属性操作"
   ]
  },
  {
   "cell_type": "markdown",
   "metadata": {},
   "source": [
    "#### 1.创建属性(属性是以key-value的方式存储的，就像字典一样)"
   ]
  },
  {
   "cell_type": "code",
   "execution_count": 117,
   "metadata": {},
   "outputs": [
    {
     "name": "stdout",
     "output_type": "stream",
     "text": [
      "b'<root interesting=\"totally\"/>'\n"
     ]
    }
   ],
   "source": [
    "root=etree.Element('root',interesting='totally')   ## 可以在创建Element对象时同步创建属性，第二个参数即为属性名和属性值\n",
    "print(etree.tostring(root))"
   ]
  },
  {
   "cell_type": "code",
   "execution_count": 118,
   "metadata": {},
   "outputs": [
    {
     "name": "stdout",
     "output_type": "stream",
     "text": [
      "b'<root interesting=\"totally\" Hello=\"Huhu\"/>'\n"
     ]
    }
   ],
   "source": [
    "root.set('Hello','Huhu')    ## 也可以使用set方法给已有的Element对象添加属性，两个参数分别为属性名和属性值\n",
    "print(etree.tostring(root))"
   ]
  },
  {
   "cell_type": "markdown",
   "metadata": {},
   "source": [
    "#### 2.获取属性"
   ]
  },
  {
   "cell_type": "code",
   "execution_count": 119,
   "metadata": {},
   "outputs": [
    {
     "name": "stdout",
     "output_type": "stream",
     "text": [
      "totally\n"
     ]
    }
   ],
   "source": [
    "print(root.get('interesting'))   ## get方法获得某一个属性值"
   ]
  },
  {
   "cell_type": "code",
   "execution_count": 120,
   "metadata": {},
   "outputs": [
    {
     "data": {
      "text/plain": [
       "['interesting', 'Hello']"
      ]
     },
     "execution_count": 120,
     "metadata": {},
     "output_type": "execute_result"
    }
   ],
   "source": [
    "root.keys()   ## keys方法获取所有的属性名\n",
    "#sorted(root.keys())"
   ]
  },
  {
   "cell_type": "code",
   "execution_count": 121,
   "metadata": {},
   "outputs": [
    {
     "name": "stdout",
     "output_type": "stream",
     "text": [
      "Hello = 'Huhu'\n",
      "interesting = 'totally'\n"
     ]
    }
   ],
   "source": [
    "for key,value in sorted(root.items()):       ## items方法获取所有的键值对\n",
    "    print('%s = %r'%(key,value))"
   ]
  },
  {
   "cell_type": "code",
   "execution_count": 122,
   "metadata": {},
   "outputs": [
    {
     "name": "stdout",
     "output_type": "stream",
     "text": [
      "{'interesting': 'totally', 'Hello': 'Huhu'}\n"
     ]
    }
   ],
   "source": [
    "attributes=root.attrib       ## 也可以用attrib属性一次拿到所有的属性及属性值存于字典中\n",
    "print(attributes)"
   ]
  },
  {
   "cell_type": "code",
   "execution_count": 123,
   "metadata": {},
   "outputs": [
    {
     "name": "stdout",
     "output_type": "stream",
     "text": [
      "b'<root interesting=\"totally\" Hello=\"Huhu\" good=\"bye\"/>'\n"
     ]
    }
   ],
   "source": [
    "attributes['good']='bye'   ## 字典的修改影响节点\n",
    "print(etree.tostring(root))"
   ]
  },
  {
   "cell_type": "markdown",
   "metadata": {},
   "source": [
    "### 文本操作\n",
    ">可以使用text和tail属性、或XPath的方式来访问文本内容"
   ]
  },
  {
   "cell_type": "markdown",
   "metadata": {},
   "source": [
    "#### 1.text和tail属性"
   ]
  },
  {
   "cell_type": "code",
   "execution_count": 124,
   "metadata": {},
   "outputs": [
    {
     "name": "stdout",
     "output_type": "stream",
     "text": [
      "Hello World!\n",
      "b'<root>Hello World!</root>'\n"
     ]
    }
   ],
   "source": [
    "root=etree.Element('root')       ## 一般情况，可以用Element的text属性访问标签的文本\n",
    "root.text='Hello World!'\n",
    "print(root.text)\n",
    "print(etree.tostring(root))"
   ]
  },
  {
   "cell_type": "code",
   "execution_count": 125,
   "metadata": {},
   "outputs": [
    {
     "name": "stdout",
     "output_type": "stream",
     "text": [
      "b'<html><body>tail<br/>tail</body></html>'\n"
     ]
    }
   ],
   "source": [
    "html=etree.Element('html')    ## Element类提供了tail属性支持单一标签的文本获取\n",
    "body=etree.SubElement(html,'body')\n",
    "body.text='tail'\n",
    "br=etree.SubElement(body,'br')\n",
    "br.tail='tail'    ## tail仅在该标签后面追加文本\n",
    "print(etree.tostring(html))"
   ]
  },
  {
   "cell_type": "code",
   "execution_count": 126,
   "metadata": {},
   "outputs": [
    {
     "name": "stdout",
     "output_type": "stream",
     "text": [
      "b'<br/>tail'\n"
     ]
    }
   ],
   "source": [
    "print(etree.tostring(br))"
   ]
  },
  {
   "cell_type": "code",
   "execution_count": 127,
   "metadata": {},
   "outputs": [
    {
     "name": "stdout",
     "output_type": "stream",
     "text": [
      "b'tailtail'\n"
     ]
    }
   ],
   "source": [
    "print(etree.tostring(html,method='text'))    ## tostring方法增加method参数，过滤单一标签，输出全部文本"
   ]
  },
  {
   "cell_type": "markdown",
   "metadata": {},
   "source": [
    "#### 2.XPath方式"
   ]
  },
  {
   "cell_type": "code",
   "execution_count": 128,
   "metadata": {},
   "outputs": [
    {
     "name": "stdout",
     "output_type": "stream",
     "text": [
      "tailtail\n"
     ]
    }
   ],
   "source": [
    "print(html.xpath('string()'))         ## 方式一：过滤单一标签，返回文本"
   ]
  },
  {
   "cell_type": "code",
   "execution_count": 129,
   "metadata": {},
   "outputs": [
    {
     "name": "stdout",
     "output_type": "stream",
     "text": [
      "['tail', 'tail']\n"
     ]
    }
   ],
   "source": [
    "print(html.xpath('//text()'))      ## 方式二：返回列表，以单一标签为分隔"
   ]
  },
  {
   "cell_type": "markdown",
   "metadata": {},
   "source": [
    "方法二获得的列表，每个元素都会带上它所属节点及文本类型信息"
   ]
  },
  {
   "cell_type": "code",
   "execution_count": 130,
   "metadata": {},
   "outputs": [
    {
     "name": "stdout",
     "output_type": "stream",
     "text": [
      "tail\n",
      "body\n",
      "tail br\n"
     ]
    }
   ],
   "source": [
    "texts=html.xpath('//text()')\n",
    "print(texts[0])\n",
    "print(texts[0].getparent().tag)\n",
    "print(texts[1],texts[1].getparent().tag)"
   ]
  },
  {
   "cell_type": "code",
   "execution_count": 131,
   "metadata": {},
   "outputs": [
    {
     "name": "stdout",
     "output_type": "stream",
     "text": [
      "True\n",
      "False\n",
      "True\n"
     ]
    }
   ],
   "source": [
    "print(texts[0].is_text)          ## 文本类型：是普通文本还是tail文本\n",
    "print(texts[1].is_text)\n",
    "print(texts[1].is_tail)"
   ]
  },
  {
   "cell_type": "markdown",
   "metadata": {},
   "source": [
    "## 6.2 文件解析与输出（问题1）\n",
    ">这部分讲述如何将XML文件解析为Element对象，以及如何将Element对象输出为XML文件。"
   ]
  },
  {
   "cell_type": "markdown",
   "metadata": {},
   "source": [
    "#### 1.文件解析"
   ]
  },
  {
   "cell_type": "markdown",
   "metadata": {},
   "source": [
    "__文件解析常用的有fromstring、XML和HTML三个方法。接受的参数都是字符串__"
   ]
  },
  {
   "cell_type": "code",
   "execution_count": 132,
   "metadata": {
    "collapsed": true
   },
   "outputs": [],
   "source": [
    "xml_data = '<root>data</root>'"
   ]
  },
  {
   "cell_type": "code",
   "execution_count": 133,
   "metadata": {},
   "outputs": [
    {
     "name": "stdout",
     "output_type": "stream",
     "text": [
      "root\n",
      "b'<root>data</root>'\n"
     ]
    }
   ],
   "source": [
    "root1=etree.fromstring(xml_data)    ## fromstring方法\n",
    "print(root1.tag)\n",
    "print(etree.tostring(root1))"
   ]
  },
  {
   "cell_type": "code",
   "execution_count": 134,
   "metadata": {},
   "outputs": [
    {
     "name": "stdout",
     "output_type": "stream",
     "text": [
      "root\n",
      "b'<root>data</root>'\n"
     ]
    }
   ],
   "source": [
    "root2=etree.XML(xml_data)           ## XML方法，与fromstring方法基本一样\n",
    "print(root2.tag)\n",
    "print(etree.tostring(root2))"
   ]
  },
  {
   "cell_type": "code",
   "execution_count": 135,
   "metadata": {},
   "outputs": [
    {
     "name": "stdout",
     "output_type": "stream",
     "text": [
      "html\n",
      "b'<html><body><root>data</root></body></html>'\n"
     ]
    }
   ],
   "source": [
    "root3=etree.HTML(xml_data)         ## HTML方法，如果没有<html>和<body>标签，会自动补上\n",
    "print(root3.tag)\n",
    "print(etree.tostring(root3))"
   ]
  },
  {
   "cell_type": "markdown",
   "metadata": {},
   "source": [
    "#### 2.输出"
   ]
  },
  {
   "cell_type": "markdown",
   "metadata": {},
   "source": [
    "__输出其实就是前面一直在用的tostring方法了，这里补充xml_declaration和encoding两个参数，前者是XML声明，后者是指定编码__"
   ]
  },
  {
   "cell_type": "code",
   "execution_count": 136,
   "metadata": {},
   "outputs": [
    {
     "name": "stdout",
     "output_type": "stream",
     "text": [
      "b'<root><a><b/></a></root>'\n"
     ]
    }
   ],
   "source": [
    "root = etree.XML('<root><a><b/></a></root>')\n",
    "print(etree.tostring(root))"
   ]
  },
  {
   "cell_type": "code",
   "execution_count": 137,
   "metadata": {},
   "outputs": [
    {
     "name": "stdout",
     "output_type": "stream",
     "text": [
      "b\"<?xml version='1.0' encoding='ASCII'?>\\n<root><a><b/></a></root>\"\n"
     ]
    }
   ],
   "source": [
    "print(etree.tostring(root,xml_declaration=True))   ## XML声明"
   ]
  },
  {
   "cell_type": "code",
   "execution_count": 138,
   "metadata": {},
   "outputs": [
    {
     "name": "stdout",
     "output_type": "stream",
     "text": [
      "b\"<?xml version='1.0' encoding='iso-8859-1'?>\\n<root><a><b/></a></root>\"\n"
     ]
    }
   ],
   "source": [
    "print(etree.tostring(root,encoding='iso-8859-1'))   ## 指定编码"
   ]
  },
  {
   "cell_type": "markdown",
   "metadata": {},
   "source": [
    "## 6.3 ElementPath(问题2)\n",
    ">讲ElementPath前，需要引入ElementTree类，一个ElementTree对象可理解为一个完整的XML树，每个节点都是一个Element对象。  \n",
    "而ElementPath则相当于XML中的XPath。用于搜索和定位Element元素"
   ]
  },
  {
   "cell_type": "markdown",
   "metadata": {},
   "source": [
    "__这里介绍两个常用方法，可以满足大部分搜索、查询需求，它们的参数都是XPath语句：__\n",
    "\n",
    "    - findall()：返回所有匹配的元素，返回列表  \n",
    "    - find()：返回匹配到的第一个元素"
   ]
  },
  {
   "cell_type": "code",
   "execution_count": 139,
   "metadata": {},
   "outputs": [
    {
     "name": "stdout",
     "output_type": "stream",
     "text": [
      "b'<root>\\n  <a x=\"123\">aText<b>test<c/>Tset</b></a>\\n  <b>bText</b>\\n</root>\\n'\n"
     ]
    }
   ],
   "source": [
    "root = etree.XML(\"<root><a x='123'>aText<b>test<c/>Tset</b></a><b>bText</b></root>\")\n",
    "print(etree.tostring(root,pretty_print=True))"
   ]
  },
  {
   "cell_type": "code",
   "execution_count": 140,
   "metadata": {},
   "outputs": [
    {
     "name": "stdout",
     "output_type": "stream",
     "text": [
      "<Element b at 0x24d185aabc8>\n",
      "bText\n",
      "test\n",
      "<Element a at 0x24d185aabc8>\n",
      "aText\n",
      "a\n"
     ]
    }
   ],
   "source": [
    "## 查找第一个b标签\n",
    "print(root.find('b'))\n",
    "print(root.find('b').text)\n",
    "print(root.find('.//b').text)\n",
    "print(root.find('a'))\n",
    "print(root.find('a').text)\n",
    "print(root.find('a').tag)"
   ]
  },
  {
   "cell_type": "code",
   "execution_count": 141,
   "metadata": {},
   "outputs": [
    {
     "data": {
      "text/plain": [
       "['test', 'bText']"
      ]
     },
     "execution_count": 141,
     "metadata": {},
     "output_type": "execute_result"
    }
   ],
   "source": [
    "## 查找所有b标签，返回Element对象组成的列表\n",
    "[b.text for b in root.findall('.//b')]"
   ]
  },
  {
   "cell_type": "code",
   "execution_count": 142,
   "metadata": {},
   "outputs": [
    {
     "name": "stdout",
     "output_type": "stream",
     "text": [
      "a\n"
     ]
    }
   ],
   "source": [
    "## 根据属性查询\n",
    "print(root.findall('.//a[@x]')[0].tag)"
   ]
  },
  {
   "cell_type": "code",
   "execution_count": 143,
   "metadata": {},
   "outputs": [
    {
     "name": "stdout",
     "output_type": "stream",
     "text": [
      "[]\n"
     ]
    }
   ],
   "source": [
    "print(root.findall('.//a[@y]'))"
   ]
  },
  {
   "cell_type": "code",
   "execution_count": 144,
   "metadata": {},
   "outputs": [
    {
     "name": "stdout",
     "output_type": "stream",
     "text": [
      "['aText']\n"
     ]
    }
   ],
   "source": [
    "print(root.xpath('//a/text()') )"
   ]
  },
  {
   "cell_type": "code",
   "execution_count": 145,
   "metadata": {},
   "outputs": [
    {
     "name": "stdout",
     "output_type": "stream",
     "text": [
      "['test', 'Tset', 'bText']\n"
     ]
    }
   ],
   "source": [
    "print(root.xpath('//b/text()'))"
   ]
  },
  {
   "cell_type": "markdown",
   "metadata": {},
   "source": [
    "## 参考\n",
    "1. lxml官方文档：http://lxml.de/tutorial.html\n",
    "2. XPath语法：http://www.w3school.com.cn/xpath/xpath_syntax.asp"
   ]
  },
  {
   "cell_type": "markdown",
   "metadata": {
    "collapsed": true
   },
   "source": [
    "### lxml_XPath查找定位"
   ]
  },
  {
   "cell_type": "code",
   "execution_count": 146,
   "metadata": {},
   "outputs": [
    {
     "name": "stdout",
     "output_type": "stream",
     "text": [
      "b'<html><body><div>\\n    <ul>\\n         <li class=\"item-0\"><a href=\"link1.html\">first item</a></li>\\n         <li class=\"item-1\"><a href=\"link2.html\">second item</a></li>\\n         <li class=\"item-inactive\"><a href=\"link3.html\"><span class=\"bold\">third item</span></a></li>\\n         <li class=\"item-1\"><a href=\"link4.html\">fourth item</a></li>\\n         <li class=\"item-0\"><a href=\"link5.html\">fifth item</a>\\n     </li></ul>\\n </div>\\n</body></html>'\n"
     ]
    }
   ],
   "source": [
    "from lxml import etree\n",
    "text = '''\n",
    "<div>\n",
    "    <ul>\n",
    "         <li class=\"item-0\"><a href=\"link1.html\">first item</a></li>\n",
    "         <li class=\"item-1\"><a href=\"link2.html\">second item</a></li>\n",
    "         <li class=\"item-inactive\"><a href=\"link3.html\"><span class=\"bold\">third item</span></a></li>\n",
    "         <li class=\"item-1\"><a href=\"link4.html\">fourth item</a></li>\n",
    "         <li class=\"item-0\"><a href=\"link5.html\">fifth item</a>\n",
    "     </ul>\n",
    " </div>\n",
    "'''\n",
    "html = etree.HTML(text)              ## lxml 因为继承了 libxml2 的特性，具有自动修正 HTML 代码的功能,补全了 li 标签，还添加了 body，html 标签\n",
    "result = etree.tostring(html)\n",
    "print(result)"
   ]
  },
  {
   "cell_type": "code",
   "execution_count": 147,
   "metadata": {},
   "outputs": [
    {
     "name": "stdout",
     "output_type": "stream",
     "text": [
      "[<Element li at 0x24d185b3d48>, <Element li at 0x24d185aa208>, <Element li at 0x24d185c42c8>, <Element li at 0x24d185c4208>, <Element li at 0x24d185c44c8>]\n",
      "5\n",
      "<class 'list'>\n",
      "<class 'lxml.etree._Element'>\n"
     ]
    }
   ],
   "source": [
    "result = html.xpath('//li')   ## 获取所有li标签\n",
    "print(result)\n",
    "print(len(result))\n",
    "print(type(result))\n",
    "print(type(result[0]))            ## 每个元素都是 Element 类型"
   ]
  },
  {
   "cell_type": "code",
   "execution_count": 148,
   "metadata": {},
   "outputs": [
    {
     "name": "stdout",
     "output_type": "stream",
     "text": [
      "['item-0', 'item-1', 'item-inactive', 'item-1', 'item-0']\n"
     ]
    }
   ],
   "source": [
    "print(html.xpath('//li/@class') )          ## 获取 <li> 标签的所有 class"
   ]
  },
  {
   "cell_type": "code",
   "execution_count": 149,
   "metadata": {},
   "outputs": [
    {
     "name": "stdout",
     "output_type": "stream",
     "text": [
      "[<Element a at 0x24d185b3f88>]\n"
     ]
    }
   ],
   "source": [
    "print(html.xpath('//li/a[@href=\"link3.html\"]') )       ## 获取 <li> 标签下 href 为 link1.html 的 <a> 标签"
   ]
  },
  {
   "cell_type": "code",
   "execution_count": 150,
   "metadata": {},
   "outputs": [
    {
     "name": "stdout",
     "output_type": "stream",
     "text": [
      "[<Element span at 0x24d185b3dc8>]\n"
     ]
    }
   ],
   "source": [
    "print(html.xpath('//li//span'))       ## 获取 <li> 标签下的所有 <span> 标签,注意要用‘//span’，因为<span> 并不是 <li> 的子元素，不能跨级"
   ]
  },
  {
   "cell_type": "code",
   "execution_count": 151,
   "metadata": {},
   "outputs": [
    {
     "name": "stdout",
     "output_type": "stream",
     "text": [
      "['bold']\n"
     ]
    }
   ],
   "source": [
    "print(html.xpath('//li/a//@class') )      ## 获取 <li> 标签下的所有 class，不包括 <li>"
   ]
  },
  {
   "cell_type": "code",
   "execution_count": 152,
   "metadata": {},
   "outputs": [
    {
     "name": "stdout",
     "output_type": "stream",
     "text": [
      "['link5.html']\n"
     ]
    }
   ],
   "source": [
    "print(html.xpath('//li[last()]/a/@href') )           ## 获取最后一个 <li> 的 <a> 的 href"
   ]
  },
  {
   "cell_type": "code",
   "execution_count": 153,
   "metadata": {},
   "outputs": [
    {
     "name": "stdout",
     "output_type": "stream",
     "text": [
      "['fourth item']\n"
     ]
    }
   ],
   "source": [
    "print(html.xpath('//li[last()-1]//text()'))        ## 获取倒数第二个元素的内容"
   ]
  },
  {
   "cell_type": "code",
   "execution_count": 154,
   "metadata": {},
   "outputs": [
    {
     "name": "stdout",
     "output_type": "stream",
     "text": [
      "span\n"
     ]
    }
   ],
   "source": [
    "print(html.xpath('//*[@class=\"bold\"]')[0].tag )         ## 获取 class 为 bold 的标签名"
   ]
  },
  {
   "cell_type": "code",
   "execution_count": null,
   "metadata": {
    "collapsed": true
   },
   "outputs": [],
   "source": []
  }
 ],
 "metadata": {
  "anaconda-cloud": {},
  "kernelspec": {
   "display_name": "Python 3",
   "language": "python",
   "name": "python3"
  },
  "language_info": {
   "codemirror_mode": {
    "name": "ipython",
    "version": 3
   },
   "file_extension": ".py",
   "mimetype": "text/x-python",
   "name": "python",
   "nbconvert_exporter": "python",
   "pygments_lexer": "ipython3",
   "version": "3.7.1"
  }
 },
 "nbformat": 4,
 "nbformat_minor": 2
}
