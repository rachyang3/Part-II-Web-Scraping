{
 "cells": [
  {
   "cell_type": "markdown",
   "metadata": {},
   "source": [
    "# python  爬取猫眼《西虹市首富》热评"
   ]
  },
  {
   "cell_type": "code",
   "execution_count": 2,
   "metadata": {},
   "outputs": [],
   "source": [
    "import pandas as pd\n",
    "import requests\n",
    "import random\n",
    "import time\n",
    "import json\n",
    "import csv"
   ]
  },
  {
   "cell_type": "code",
   "execution_count": 3,
   "metadata": {},
   "outputs": [],
   "source": [
    "tomato = pd.DataFrame(columns=['date','score','city','comment','nick'])\n",
    "baseurl='http://m.maoyan.com/mmdb/comments/movie/1212592.json?_v_=yes&offset='"
   ]
  },
  {
   "cell_type": "code",
   "execution_count": null,
   "metadata": {},
   "outputs": [],
   "source": [
    "for i in range(0, 100):                    #控制抓取的次数\n",
    "    j = random.randint(1,1000)\n",
    "    #print(str(i)+' '+str(j))\n",
    "    try:\n",
    "        time.sleep(2)                      #推迟执行的时间\n",
    "        url= baseurl + str(j)              #实现抓取不同页数的评论\n",
    "        html = requests.get(url=url).content\n",
    "        data = json.loads(html.decode('utf-8'))['cmts']\n",
    "        print(data)\n",
    "        \n",
    "        #解析html的内容\n",
    "        for item in data:\n",
    "            tomato = tomato.append({'date':item['time'].split(' ')[0],'city':item['cityName'], 'score':item['score'],'comment':item['content'], 'nick':item['nick']},ignore_index=True)  \n",
    "        excel=pd.ExcelWriter('data/西虹市首富1.xls',encoding='UTF-8')\n",
    "        tomato.to_excel(excel)          #将爬取到的内容保存至excel表中                     \n",
    "    except:\n",
    "        continue\n"
   ]
  },
  {
   "cell_type": "code",
   "execution_count": null,
   "metadata": {},
   "outputs": [],
   "source": []
  }
 ],
 "metadata": {
  "anaconda-cloud": {},
  "kernelspec": {
   "display_name": "Python 3",
   "language": "python",
   "name": "python3"
  }
 },
 "nbformat": 4,
 "nbformat_minor": 2
}
