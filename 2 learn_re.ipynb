{
 "cells": [
  {
   "cell_type": "markdown",
   "metadata": {},
   "source": [
    "## Python正则表达式"
   ]
  },
  {
   "cell_type": "markdown",
   "metadata": {},
   "source": [
    "正则表达式是一个特殊的字符序列，它能帮助你方便的检查一个字符串是否与某种模式匹配。  \n",
    "\n",
    "Python 自1.5版本起增加了re 模块，它提供 Perl 风格的正则表达式模式。  \n",
    "re 模块使 Python 语言拥有全部的正则表达式功能。  \n",
    "compile 函数根据一个模式字符串和可选的标志参数生成一个正则表达式对象。该对象拥有一系列方法用于正则表达式匹配和替换。  \n",
    "re 模块也提供了与这些方法功能完全一致的函数，这些函数使用一个模式字符串做为它们的第一个参数。  \n",
    "本章节主要介绍Python中常用的正则表达式处理函数。  "
   ]
  },
  {
   "cell_type": "markdown",
   "metadata": {},
   "source": [
    "[正则表达式语法](http://www.runoob.com/regexp/regexp-syntax.html)"
   ]
  },
  {
   "cell_type": "markdown",
   "metadata": {},
   "source": [
    "## 字符匹配---元字符使用\n",
    "**元字符完整列表**\n",
    "> . ^ $ * + ? { [ ] \\ | ( ) \n"
   ]
  },
  {
   "cell_type": "markdown",
   "metadata": {},
   "source": [
    "### 1、\"[\" 和 \"]”方括号\n",
    "> 常用来指定一个字符类别，所谓字符类别就是你想匹配的一个字符集。字符可以单个列出，也可用“-”号分隔的两个给定字符来表示一个字符区间   \n",
    "\n",
    "例如：\n",
    "* [akm\\$]就表示字符‘a’，‘k’，‘m’，或‘\\$’，在这里$也变身为普通字符了\n",
    "* [a-z]将匹配小写字母\n",
    "* [a-zA-Z0-9]匹配任意一个字母或数字\n",
    "* 如果你要匹配‘]’或‘-’本身，你需要加反斜杆'\\'转义\n",
    "\n",
    "**字符集合取反匹配**：匹配任意不在这个字符集合里的字符，例如[^5]将匹配任意不是'5'的字符；[^^]将匹配任意不是'^'的字符。"
   ]
  },
  {
   "cell_type": "code",
   "execution_count": 2,
   "metadata": {},
   "outputs": [],
   "source": [
    "import re"
   ]
  },
  {
   "cell_type": "code",
   "execution_count": 2,
   "metadata": {},
   "outputs": [
    {
     "data": {
      "text/plain": [
       "['cat', 'ckt', 'cpt']"
      ]
     },
     "execution_count": 2,
     "metadata": {},
     "output_type": "execute_result"
    }
   ],
   "source": [
    "s='cat ckt cpt cmm'\n",
    "re.findall('c[akp]t',s)"
   ]
  },
  {
   "cell_type": "code",
   "execution_count": 3,
   "metadata": {},
   "outputs": [
    {
     "data": {
      "text/plain": [
       "['cat', 'ckt', 'cpt']"
      ]
     },
     "execution_count": 3,
     "metadata": {},
     "output_type": "execute_result"
    }
   ],
   "source": [
    "ru=r'c[akp]t'\n",
    "re.findall(ru,s)"
   ]
  },
  {
   "cell_type": "code",
   "execution_count": 4,
   "metadata": {},
   "outputs": [
    {
     "data": {
      "text/plain": [
       "['cat', 'ckt']"
      ]
     },
     "execution_count": 4,
     "metadata": {},
     "output_type": "execute_result"
    }
   ],
   "source": [
    "re.findall('c[^p]t',s)"
   ]
  },
  {
   "cell_type": "code",
   "execution_count": 5,
   "metadata": {},
   "outputs": [
    {
     "data": {
      "text/plain": [
       "['1', '2', '3', '4', '6']"
      ]
     },
     "execution_count": 5,
     "metadata": {},
     "output_type": "execute_result"
    }
   ],
   "source": [
    "b='123456'\n",
    "re.findall('[^5]',b)"
   ]
  },
  {
   "cell_type": "markdown",
   "metadata": {},
   "source": [
    "### 2、‘^’ 尖尖号\n",
    "> 匹配一个字符串的开始,在 MULTILINE 模式下，也将匹配任意一个新行的开始。"
   ]
  },
  {
   "cell_type": "code",
   "execution_count": 2,
   "metadata": {},
   "outputs": [
    {
     "data": {
      "text/plain": [
       "['cat', 'cat']"
      ]
     },
     "execution_count": 2,
     "metadata": {},
     "output_type": "execute_result"
    }
   ],
   "source": [
    "s='cat ckt cpt cat cmm'\n",
    "ru=r'cat'\n",
    "re.findall(ru,s)"
   ]
  },
  {
   "cell_type": "code",
   "execution_count": 3,
   "metadata": {},
   "outputs": [
    {
     "data": {
      "text/plain": [
       "['cat']"
      ]
     },
     "execution_count": 3,
     "metadata": {},
     "output_type": "execute_result"
    }
   ],
   "source": [
    "ru=r'^cat' \n",
    "re.findall(ru,s)"
   ]
  },
  {
   "cell_type": "markdown",
   "metadata": {},
   "source": [
    "### 3、‘\\$’ 美元符号\n",
    "> 匹配一个字符串的结尾或者字符串最后面的换行符，在 MULTILINE 模式下，也匹配任意一行的行尾。"
   ]
  },
  {
   "cell_type": "code",
   "execution_count": 4,
   "metadata": {},
   "outputs": [
    {
     "data": {
      "text/plain": [
       "['cmm']"
      ]
     },
     "execution_count": 4,
     "metadata": {},
     "output_type": "execute_result"
    }
   ],
   "source": [
    "s='cat cmm ckt cpt cat cmm'\n",
    "ru=r'cmm$'\n",
    "re.findall(ru,s)"
   ]
  },
  {
   "cell_type": "markdown",
   "metadata": {},
   "source": [
    "### 4、‘\\’ 反斜杆\n",
    "> 转义‘*’，‘?’等特殊字符，即可以用来取消元字符，例如'\\['；  \n",
    "\n",
    "> 或者指定一个特殊序列:\n",
    "> * \\d     数字，            相当于 [0-9]\n",
    "> * \\D     ⾮数字字符，        相当于 [^0-9]\n",
    "> * \\s     空白字符，         相当于 [ \\t\\r\\n\\f\\v]\n",
    "> * \\S     ⾮空白字符，        相当于 [^ \\t\\r\\n\\f\\v]\n",
    "> * \\w     字⺟或数字，        相当于 [0-9a-zA-Z]\n",
    "> * \\W     ⾮字母或数字，      相当于 [^0-9a-zA-Z] \n",
    "> * \\b     单词边界\n",
    "> * \\B     ⾮单词边界，         这里的“单词”，是指连续的字母、数字和下划线组成的字符串"
   ]
  },
  {
   "cell_type": "code",
   "execution_count": 3,
   "metadata": {},
   "outputs": [
    {
     "data": {
      "text/plain": [
       "[]"
      ]
     },
     "execution_count": 3,
     "metadata": {},
     "output_type": "execute_result"
    }
   ],
   "source": [
    "s='^cat ckt ^cat cat cmm'\n",
    "ru=r'^cat'\n",
    "re.findall(ru,s)"
   ]
  },
  {
   "cell_type": "code",
   "execution_count": 10,
   "metadata": {},
   "outputs": [
    {
     "data": {
      "text/plain": [
       "['^cat', '^cat']"
      ]
     },
     "execution_count": 10,
     "metadata": {},
     "output_type": "execute_result"
    }
   ],
   "source": [
    "s='^cat ckt ^cat cat cmm'\n",
    "ru=r'\\^cat'\n",
    "re.findall(ru,s)"
   ]
  },
  {
   "cell_type": "code",
   "execution_count": 11,
   "metadata": {},
   "outputs": [
    {
     "data": {
      "text/plain": [
       "['x1', 'x2', 'x3', 'x4']"
      ]
     },
     "execution_count": 11,
     "metadata": {},
     "output_type": "execute_result"
    }
   ],
   "source": [
    "s='x1 cat x2 ^cat x3 cat x4 cmm'\n",
    "ru=r'x\\d'\n",
    "re.findall(ru,s)"
   ]
  },
  {
   "cell_type": "markdown",
   "metadata": {},
   "source": [
    "### 5、*  +  ？   星号加号问号---表示重复\n",
    "> * '*’星号，指定将前面的RE重复0次或者任意多次，而且总是试图尽量多次地匹配。\n",
    "> * '+’加号，指定将前面的RE重复1次或者任意多次，而且总是试图尽量多次地匹配。\n",
    "> * '?’问号，指定将前面的RE重复0次或者1次，如果有的话，也尽量匹配1次。\n",
    "> * \\*?， +?， ??，从前面的描述可以看到'\\*'，‘+’和‘?’都是贪婪的，但这也许并不是我们所要的，所以，以在后面加个问号，将策略改为非贪婪，只匹配尽量少的RE"
   ]
  },
  {
   "cell_type": "code",
   "execution_count": 6,
   "metadata": {},
   "outputs": [
    {
     "data": {
      "text/plain": [
       "['021-6']"
      ]
     },
     "execution_count": 6,
     "metadata": {},
     "output_type": "execute_result"
    }
   ],
   "source": [
    "s='021-62232333 Depart1 021-54344958  Dep2'\n",
    "ru=r'^021-[0-9]'\n",
    "re.findall(ru,s)"
   ]
  },
  {
   "cell_type": "code",
   "execution_count": 7,
   "metadata": {},
   "outputs": [
    {
     "data": {
      "text/plain": [
       "['021-6']"
      ]
     },
     "execution_count": 7,
     "metadata": {},
     "output_type": "execute_result"
    }
   ],
   "source": [
    "ru=r'^021-\\d'\n",
    "re.findall(ru,s)"
   ]
  },
  {
   "cell_type": "code",
   "execution_count": 8,
   "metadata": {},
   "outputs": [
    {
     "data": {
      "text/plain": [
       "['021-62232333']"
      ]
     },
     "execution_count": 8,
     "metadata": {},
     "output_type": "execute_result"
    }
   ],
   "source": [
    "s='021-62232333 Depart1 021-54344958  Dep2'\n",
    "ru=r'^021-\\d\\d\\d\\d\\d\\d\\d\\d'\n",
    "re.findall(ru,s)"
   ]
  },
  {
   "cell_type": "code",
   "execution_count": 9,
   "metadata": {},
   "outputs": [
    {
     "data": {
      "text/plain": [
       "['021-62232333', '021-54344958']"
      ]
     },
     "execution_count": 9,
     "metadata": {},
     "output_type": "execute_result"
    }
   ],
   "source": [
    "ru=r'021-\\d*'\n",
    "re.findall(ru,s)"
   ]
  },
  {
   "cell_type": "code",
   "execution_count": 10,
   "metadata": {},
   "outputs": [
    {
     "data": {
      "text/plain": [
       "['a']"
      ]
     },
     "execution_count": 10,
     "metadata": {},
     "output_type": "execute_result"
    }
   ],
   "source": [
    "ru=r'ab*'\n",
    "re.findall(ru,'a')"
   ]
  },
  {
   "cell_type": "code",
   "execution_count": 11,
   "metadata": {},
   "outputs": [
    {
     "data": {
      "text/plain": [
       "['021-62232333', '02154344958', '021--54344958']"
      ]
     },
     "execution_count": 11,
     "metadata": {},
     "output_type": "execute_result"
    }
   ],
   "source": [
    "s='021-62232333 02154344958 021--54344958 '\n",
    "ru=r'021-*\\d*'\n",
    "re.findall(ru,s)"
   ]
  },
  {
   "cell_type": "code",
   "execution_count": 12,
   "metadata": {},
   "outputs": [
    {
     "data": {
      "text/plain": [
       "['021-62232333', '02154344958', '021-']"
      ]
     },
     "execution_count": 12,
     "metadata": {},
     "output_type": "execute_result"
    }
   ],
   "source": [
    "ru=r'021-?\\d*'\n",
    "re.findall(ru,s)"
   ]
  },
  {
   "cell_type": "code",
   "execution_count": 13,
   "metadata": {},
   "outputs": [
    {
     "data": {
      "text/plain": [
       "['ab']"
      ]
     },
     "execution_count": 13,
     "metadata": {},
     "output_type": "execute_result"
    }
   ],
   "source": [
    "s= 'abbbbbbbbbbbbbb'\n",
    "ru=r'ab+?'                ## 贪婪算法与非贪婪算法\n",
    "re.findall(ru,s)"
   ]
  },
  {
   "cell_type": "code",
   "execution_count": 14,
   "metadata": {},
   "outputs": [
    {
     "data": {
      "text/plain": [
       "['abbbbbbbbbbbbbb']"
      ]
     },
     "execution_count": 14,
     "metadata": {},
     "output_type": "execute_result"
    }
   ],
   "source": [
    "ru=r'ab+'\n",
    "re.findall(ru,s)"
   ]
  },
  {
   "cell_type": "code",
   "execution_count": 15,
   "metadata": {},
   "outputs": [
    {
     "data": {
      "text/plain": [
       "['abbbbbbbbbbbbbb']"
      ]
     },
     "execution_count": 15,
     "metadata": {},
     "output_type": "execute_result"
    }
   ],
   "source": [
    "ru=r'ab*'\n",
    "re.findall(ru,s)"
   ]
  },
  {
   "cell_type": "code",
   "execution_count": 22,
   "metadata": {},
   "outputs": [
    {
     "data": {
      "text/plain": [
       "['a']"
      ]
     },
     "execution_count": 22,
     "metadata": {},
     "output_type": "execute_result"
    }
   ],
   "source": [
    "re.findall(ru,'a')"
   ]
  },
  {
   "cell_type": "markdown",
   "metadata": {},
   "source": [
    "### 6、{m}、{m,n}、 {m,n}？---表示重复\n",
    "> {m}，m 是一个数字，指定将前面的RE重复m 次  \n",
    "\n",
    "> {m,n}，m 和n都是数字，指定将前面的RE重复m 到n次，例如a{3,5}匹配3到5个连续的a。注意，如果省略m，将匹配0到n个前面的RE；如果省略n，将匹配n到无穷多个前面的RE；当然中间的逗号是不能省略的\n",
    "\n",
    "> {m,n}?，前面说的{m,n}，也是贪婪的，a{3,5}如果有5个以上连续a的话，会匹配5个，这个也可以通过加问号改变。a{3,5}?如果可能的话，将只匹配3个a。\n",
    "\n",
    "** {0,}等同于\\*， {1,}等同于+ ， {0，1}等同于？，同样情况下建议用\\* + ？**"
   ]
  },
  {
   "cell_type": "code",
   "execution_count": 16,
   "metadata": {},
   "outputs": [
    {
     "data": {
      "text/plain": [
       "['021-62232333']"
      ]
     },
     "execution_count": 16,
     "metadata": {},
     "output_type": "execute_result"
    }
   ],
   "source": [
    "s='021-62232333 Depart1 021-54344958  Dep2'\n",
    "ru=r'^021-\\d{8}'\n",
    "re.findall(ru,s)"
   ]
  },
  {
   "cell_type": "markdown",
   "metadata": {},
   "source": [
    "### 7、. 点号\n",
    "点号，在普通模式，它匹配除换行符外的任意一个字符；如果指定了 DOTALL 标记，\n",
    "匹配包括换行符以内的任意一个字符。"
   ]
  },
  {
   "cell_type": "code",
   "execution_count": 24,
   "metadata": {},
   "outputs": [
    {
     "data": {
      "text/plain": [
       "['H1>title</H1']"
      ]
     },
     "execution_count": 24,
     "metadata": {},
     "output_type": "execute_result"
    }
   ],
   "source": [
    "re.findall('<(.*)>', '<H1>title</H1>')"
   ]
  },
  {
   "cell_type": "code",
   "execution_count": 25,
   "metadata": {},
   "outputs": [
    {
     "name": "stdout",
     "output_type": "stream",
     "text": [
      "<H1>title</H1>\n"
     ]
    }
   ],
   "source": [
    "a = re.match('<(.*)>','<H1>title</H1>').group()\n",
    "print(a)"
   ]
  },
  {
   "cell_type": "markdown",
   "metadata": {},
   "source": [
    "## 常用函数"
   ]
  },
  {
   "cell_type": "code",
   "execution_count": 17,
   "metadata": {
    "collapsed": true
   },
   "outputs": [],
   "source": [
    "import re"
   ]
  },
  {
   "cell_type": "markdown",
   "metadata": {},
   "source": [
    "### re.compile函数"
   ]
  },
  {
   "cell_type": "raw",
   "metadata": {
    "collapsed": true
   },
   "source": [
    "re.compile(string[,flag])   ## 将正则表达式编译成Pattern对象,方便之后调用"
   ]
  },
  {
   "cell_type": "code",
   "execution_count": 18,
   "metadata": {},
   "outputs": [
    {
     "name": "stdout",
     "output_type": "stream",
     "text": [
      "pattern: re.compile('(\\\\w+) (\\\\w+)(?P<sign>.*)', re.DOTALL)\n",
      "pattern.pattern: (\\w+) (\\w+)(?P<sign>.*)\n",
      "pattern.groups: 3\n"
     ]
    }
   ],
   "source": [
    "pattern = re.compile(r'(\\w+) (\\w+)(?P<sign>.*)', re.DOTALL)  ## re.DOTALL=re.S,使'.'匹配包括换行在内的所有字符\n",
    "print(\"pattern:\", pattern)                           \n",
    "print(\"pattern.pattern:\", pattern.pattern)          ## pattern: 编译时用的表达式字符串\n",
    "print(\"pattern.groups:\", pattern.groups)            ## groups: 表达式中分组的数量"
   ]
  },
  {
   "cell_type": "code",
   "execution_count": 19,
   "metadata": {},
   "outputs": [
    {
     "name": "stdout",
     "output_type": "stream",
     "text": [
      "(\\w+) (\\w+)(?P<sign>.*)\n"
     ]
    },
    {
     "ename": "AttributeError",
     "evalue": "'str' object has no attribute 'groups'",
     "output_type": "error",
     "traceback": [
      "\u001b[0;31m---------------------------------------------------------------------------\u001b[0m",
      "\u001b[0;31mAttributeError\u001b[0m                            Traceback (most recent call last)",
      "\u001b[0;32m<ipython-input-19-14998a913b61>\u001b[0m in \u001b[0;36m<module>\u001b[0;34m()\u001b[0m\n\u001b[1;32m      1\u001b[0m \u001b[0mpattern1\u001b[0m \u001b[1;33m=\u001b[0m \u001b[1;34mr'(\\w+) (\\w+)(?P<sign>.*)'\u001b[0m       \u001b[1;31m## Pattern不能直接实例化，必须使用re.compile()进行构造\u001b[0m\u001b[1;33m\u001b[0m\u001b[0m\n\u001b[1;32m      2\u001b[0m \u001b[0mprint\u001b[0m\u001b[1;33m(\u001b[0m\u001b[0mpattern1\u001b[0m\u001b[1;33m)\u001b[0m\u001b[1;33m\u001b[0m\u001b[0m\n\u001b[0;32m----> 3\u001b[0;31m \u001b[0mprint\u001b[0m\u001b[1;33m(\u001b[0m\u001b[0mpattern1\u001b[0m\u001b[1;33m.\u001b[0m\u001b[0mgroups\u001b[0m\u001b[1;33m)\u001b[0m                     \u001b[1;31m##会出错\u001b[0m\u001b[1;33m\u001b[0m\u001b[0m\n\u001b[0m",
      "\u001b[0;31mAttributeError\u001b[0m: 'str' object has no attribute 'groups'"
     ]
    }
   ],
   "source": [
    "pattern1 = r'(\\w+) (\\w+)(?P<sign>.*)'       ## Pattern不能直接实例化，必须使用re.compile()进行构造\n",
    "print(pattern1)\n",
    "print(pattern1.groups)                     ##会出错"
   ]
  },
  {
   "cell_type": "markdown",
   "metadata": {},
   "source": [
    "### re.match函数\n",
    "re.match 尝试从字符串的起始位置匹配一个模式，如果不是起始位置匹配成功的话，match()就返回none。"
   ]
  },
  {
   "cell_type": "raw",
   "metadata": {
    "collapsed": true
   },
   "source": [
    "re.match(pattern, string, flags=0)"
   ]
  },
  {
   "cell_type": "markdown",
   "metadata": {},
   "source": [
    "![re参数](http://d.pr/i/mrNV.jpg)"
   ]
  },
  {
   "cell_type": "markdown",
   "metadata": {},
   "source": [
    "### 正则表达式修饰符 - 可选标志\n",
    "正则表达式可以包含一些可选标志修饰符来控制匹配的模式。修饰符被指定为一个可选的标志。多个标志可以通过按位 OR(|) 它们来指定。如 re.I | re.M 被设置成 I 和 M 标志：\n",
    "![可选标志](http://d.pr/i/XfD.jpg)"
   ]
  },
  {
   "cell_type": "markdown",
   "metadata": {},
   "source": [
    "匹配成功re.match方法返回一个匹配的对象，否则返回None。  \n",
    "我们可以使用group(num) 或 groups() 匹配对象函数来获取匹配表达式。"
   ]
  },
  {
   "cell_type": "markdown",
   "metadata": {},
   "source": [
    "![1](http://d.pr/i/DnLb.jpg)\n",
    "> * group():       返回匹配的完整字符串。\n",
    "> * start():         匹配的开始位置。\n",
    "> * end():          匹配的结束位置。\n",
    "> * span():        包含起始、结束位置的元组。\n",
    "> * groups():     返回分组信息。\n",
    "> * groupdict(): 返回命名分组信息。"
   ]
  },
  {
   "cell_type": "code",
   "execution_count": 29,
   "metadata": {},
   "outputs": [
    {
     "name": "stdout",
     "output_type": "stream",
     "text": [
      "<_sre.SRE_Match object; span=(0, 3), match='www'>\n",
      "None\n"
     ]
    }
   ],
   "source": [
    "print(re.match('www', 'www.runoob.com'))         # 在起始位置匹配\n",
    "print(re.match('com', 'www.runoob.com'))         # 不在起始位置匹配"
   ]
  },
  {
   "cell_type": "code",
   "execution_count": 30,
   "metadata": {},
   "outputs": [
    {
     "name": "stdout",
     "output_type": "stream",
     "text": [
      "(0, 3)\n",
      "None\n"
     ]
    }
   ],
   "source": [
    "print(re.match('www', 'www.runoob.com').span())  # 在起始位置匹配    span() 返回一个元组包含匹配 (开始,结束) 的位置\n",
    "print(re.match('com', 'www.runoob.com'))         # 不在起始位置匹配"
   ]
  },
  {
   "cell_type": "code",
   "execution_count": 20,
   "metadata": {},
   "outputs": [
    {
     "name": "stdout",
     "output_type": "stream",
     "text": [
      "matchObj.group() :  Cats are smarter than dogs\n",
      "matchObj.group(1) :  Cats\n",
      "matchObj.group(2) :  smarter\n",
      "matchObj.groups() :  ('Cats', 'smarter')\n"
     ]
    }
   ],
   "source": [
    "line = \"Cats are smarter than dogs\"                             ## re.I = re.IGNORECASE,让正则表达式忽略大小写，这样，[A-Z]也可以匹配小写字母\n",
    "                                                                ## re.M = re.MULTILINE,影响'^'和'$'的行为，指定了以后，'^'会增加匹配每行的开始（也就是换行符后的位置）；'$'会增加匹配每行的结束（也就是换行符前的位置）。\n",
    "matchObj = re.match( r'(.*) are (.*?) .*', line, re.M|re.I)     ## '.'匹配除换行符 \\n之外的任何单字符。要匹配 .，请使用 \\.\n",
    "                                                                ## '*'匹配前面的子表达式零次或多次。要匹配 * 字符，请使用 \\*\n",
    "if matchObj:                                                    ## '.*'匹配除换行符 \\n之外的所有字符\n",
    "    print(\"matchObj.group() : \", matchObj.group())               ## '.*?'是懒惰匹配，一旦匹配到第一个就不往下走了\n",
    "    print(\"matchObj.group(1) : \", matchObj.group(1))             ## '?'匹配前面的子表达式零次或一次，或指明一个非贪婪限定符\n",
    "    print(\"matchObj.group(2) : \", matchObj.group(2))    \n",
    "    print(\"matchObj.groups() : \", matchObj.groups() ) \n",
    "else:\n",
    "    print(\"No match!!\")"
   ]
  },
  {
   "cell_type": "markdown",
   "metadata": {},
   "source": [
    "### re.match与re.search的区别\n",
    "re.match只匹配字符串的开始，如果字符串开始不符合正则表达式，则匹配失败，函数返回None；而re.search匹配整个字符串，直到找到一个匹配。"
   ]
  },
  {
   "cell_type": "code",
   "execution_count": 21,
   "metadata": {},
   "outputs": [
    {
     "name": "stdout",
     "output_type": "stream",
     "text": [
      "No match!!\n",
      "search --> matchObj.group() :  dogs\n"
     ]
    }
   ],
   "source": [
    "line = \"Cats are smarter than dogs\";\n",
    "\n",
    "matchObj = re.match( r'dogs', line, re.M|re.I)\n",
    "if matchObj:\n",
    "    print(\"match --> matchObj.group() : \", matchObj.group())\n",
    "else:\n",
    "    print(\"No match!!\")\n",
    "\n",
    "matchObj = re.search( r'dogs', line, re.M|re.I)\n",
    "if matchObj:\n",
    "    print(\"search --> matchObj.group() : \", matchObj.group())\n",
    "else:\n",
    "    print(\"No match!!\")"
   ]
  },
  {
   "cell_type": "markdown",
   "metadata": {},
   "source": [
    "### re.split函数"
   ]
  },
  {
   "cell_type": "raw",
   "metadata": {
    "collapsed": true
   },
   "source": [
    "re.split(pattern, string[, maxsplit])      \n",
    "## 按照能够匹配的子串将string分割后返回列表，maxsplit用于指定最大分割次数，不指定将全部分割"
   ]
  },
  {
   "cell_type": "code",
   "execution_count": 22,
   "metadata": {},
   "outputs": [
    {
     "name": "stdout",
     "output_type": "stream",
     "text": [
      "['one', 'two', 'three', 'four', '']\n"
     ]
    }
   ],
   "source": [
    "pattern = re.compile(r'\\d+')               ## '\\d'匹配任意数字，等价于[0-9]\n",
    "string = 'one1two2three3four4'\n",
    "print(re.split(pattern,string) )"
   ]
  },
  {
   "cell_type": "markdown",
   "metadata": {},
   "source": [
    "### re.findall函数"
   ]
  },
  {
   "cell_type": "raw",
   "metadata": {},
   "source": [
    "re.findall(pattern, string[, flags])     ## 搜索string，以列表形式返回全部能匹配的子串"
   ]
  },
  {
   "cell_type": "code",
   "execution_count": 34,
   "metadata": {},
   "outputs": [
    {
     "name": "stdout",
     "output_type": "stream",
     "text": [
      "['1', '2', '3', '4']\n"
     ]
    }
   ],
   "source": [
    "pattern = re.compile(r'\\d+')\n",
    "string = 'one1two2three3four4'\n",
    "print(re.findall(pattern,string))"
   ]
  },
  {
   "cell_type": "markdown",
   "metadata": {},
   "source": [
    "### re.finditer函数"
   ]
  },
  {
   "cell_type": "raw",
   "metadata": {
    "collapsed": true
   },
   "source": [
    "re.finditer(pattern, string[, flags])    ## 搜索string，返回一个顺序访问每一个匹配结果（Match对象）的迭代器"
   ]
  },
  {
   "cell_type": "code",
   "execution_count": 35,
   "metadata": {},
   "outputs": [
    {
     "name": "stdout",
     "output_type": "stream",
     "text": [
      "1\n",
      "2\n",
      "3\n",
      "4\n"
     ]
    }
   ],
   "source": [
    "pattern = re.compile(r'\\d+')\n",
    "string = 'one1two2three3four4'\n",
    "for m in re.finditer(pattern, string):\n",
    "    print(m.group(),)"
   ]
  },
  {
   "cell_type": "code",
   "execution_count": 36,
   "metadata": {
    "collapsed": true
   },
   "outputs": [],
   "source": [
    "m.group?"
   ]
  },
  {
   "cell_type": "markdown",
   "metadata": {},
   "source": [
    "### 检索和替换\n",
    "### re.sub函数\n",
    "Python 的re模块提供了re.sub用于替换字符串中的匹配项。"
   ]
  },
  {
   "cell_type": "raw",
   "metadata": {
    "collapsed": true
   },
   "source": [
    "re.sub(pattern, repl, string[, count])"
   ]
  },
  {
   "cell_type": "markdown",
   "metadata": {},
   "source": [
    "返回的字符串是在字符串中用 RE 最左边不重复的匹配来替换。如果模式没有发现，字符将被没有改变地返回。  \n",
    "可选参数 count 是模式匹配后替换的最大次数；count 必须是非负整数。缺省值是 0 表示替换所有的匹配。"
   ]
  },
  {
   "cell_type": "code",
   "execution_count": 24,
   "metadata": {},
   "outputs": [
    {
     "name": "stdout",
     "output_type": "stream",
     "text": [
      "Phone Num :  2004-959-559 \n",
      "Phone Num :  2004959559\n"
     ]
    }
   ],
   "source": [
    "phone = \"2004-959-559 # This is Phone Number\"\n",
    "\n",
    "# Delete Python-style comments\n",
    "num = re.sub(r'#.*$', \"\", phone)                     ## $匹配输入字符串的结尾位置。\n",
    "print(\"Phone Num : \", num)\n",
    "\n",
    "# Remove anything other than digits\n",
    "num = re.sub(r'\\D', \"\", phone)                       ## '\\D'匹配一个非数字字符。等价于 [^0-9]。\n",
    "print(\"Phone Num : \", num)"
   ]
  },
  {
   "cell_type": "code",
   "execution_count": 38,
   "metadata": {},
   "outputs": [
    {
     "name": "stdout",
     "output_type": "stream",
     "text": [
      "say i, world hello!\n"
     ]
    }
   ],
   "source": [
    "pattern = re.compile(r'(\\w+) (\\w+)')                   ##'\\w'匹配字母、数字和下划线\n",
    "s = 'i say, hello world!'\n",
    " \n",
    "print(re.sub(pattern,r'\\2 \\1', s))                     ## '\\1…\\9'匹配第n个分组的子表达式"
   ]
  },
  {
   "cell_type": "markdown",
   "metadata": {},
   "source": [
    "### re.subn函数"
   ]
  },
  {
   "cell_type": "raw",
   "metadata": {
    "collapsed": true
   },
   "source": [
    "re.subn(pattern, repl, string[, count])        ## 返回 (sub(repl, string[, count]), 替换次数)"
   ]
  },
  {
   "cell_type": "code",
   "execution_count": 39,
   "metadata": {},
   "outputs": [
    {
     "name": "stdout",
     "output_type": "stream",
     "text": [
      "('say i, world hello!', 2)\n"
     ]
    }
   ],
   "source": [
    "pattern = re.compile(r'(\\w+) (\\w+)')\n",
    "s = 'i say, hello world!'\n",
    " \n",
    "print(re.subn(pattern,r'\\2 \\1', s))"
   ]
  },
  {
   "cell_type": "markdown",
   "metadata": {},
   "source": [
    "### 正则表达式模式\n",
    "模式字符串使用特殊的语法来表示一个正则表达式：  \n",
    "字母和数字表示他们自身。一个正则表达式模式中的字母和数字匹配同样的字符串。  \n",
    "多数字母和数字前加一个反斜杠时会拥有不同的含义。  \n",
    "标点符号只有被转义时才匹配自身，否则它们表示特殊的含义。  \n",
    "反斜杠本身需要使用反斜杠转义。  \n",
    "由于正则表达式通常都包含反斜杠，所以你最好使用原始字符串来表示它们。模式元素(如 r'/t'，等价于'//t')匹配相应的特殊字符。  \n",
    "下表列出了正则表达式模式语法中的特殊元素。如果你使用模式的同时提供了可选的标志参数，某些模式元素的含义会改变。  "
   ]
  },
  {
   "cell_type": "markdown",
   "metadata": {},
   "source": [
    "![正则模式](http://d.pr/i/jInF.jpg)\n",
    "![正则模式](http://d.pr/i/Tsjj.jpg)"
   ]
  },
  {
   "cell_type": "code",
   "execution_count": null,
   "metadata": {
    "collapsed": true
   },
   "outputs": [],
   "source": []
  }
 ],
 "metadata": {
  "anaconda-cloud": {},
  "kernelspec": {
   "display_name": "Python 3",
   "language": "python",
   "name": "python3"
  },
  "language_info": {
   "codemirror_mode": {
    "name": "ipython",
    "version": 3
   },
   "file_extension": ".py",
   "mimetype": "text/x-python",
   "name": "python",
   "nbconvert_exporter": "python",
   "pygments_lexer": "ipython3",
   "version": "3.7.1"
  }
 },
 "nbformat": 4,
 "nbformat_minor": 1
}
